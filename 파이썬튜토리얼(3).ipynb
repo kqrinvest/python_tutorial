{
 "cells": [
  {
   "cell_type": "markdown",
   "metadata": {
    "colab_type": "text",
    "id": "EX4Ww61Vnyqh"
   },
   "source": [
    ">colab에서 작성되었습니다! "
   ]
  },
  {
   "cell_type": "markdown",
   "metadata": {
    "colab_type": "text",
    "id": "J2NKLxYf_YEl"
   },
   "source": [
    "**통계적 분석을 위한 라이브러리: statsmodels , scipy **\n",
    "\n",
    "\n",
    "\n",
    "\n",
    "\n",
    "\n",
    "\n",
    "\n",
    "\n",
    "\n"
   ]
  },
  {
   "cell_type": "markdown",
   "metadata": {
    "colab_type": "text",
    "id": "cLlqs0mlkKA1"
   },
   "source": [
    ">데이터를 가져와서 작업해 보아요!\n",
    "---\n",
    "\n",
    "[데이터를 가져오는 대표적인 방법]\n",
    "\n",
    "-원하는 데이터가 담긴 엑셀 파일을 다운\n",
    "\n",
    "**-금융 데이터 수집 라이브러리 이용(가격 정보)**\n",
    "\n",
    "-웹크롤링"
   ]
  },
  {
   "cell_type": "code",
   "execution_count": null,
   "metadata": {
    "colab": {
     "base_uri": "https://localhost:8080/",
     "height": 339
    },
    "colab_type": "code",
    "id": "wXLRpFch_YEe",
    "outputId": "2ac7dd6d-94d7-4018-a563-42632613ac53"
   },
   "outputs": [],
   "source": [
    "pip install -U finance-datareader #외부 라이브러리의 경우 설치를 해주어야 import 해 올 수 있다."
   ]
  },
  {
   "cell_type": "code",
   "execution_count": null,
   "metadata": {
    "colab": {},
    "colab_type": "code",
    "id": "YAehhkvSVL0Y"
   },
   "outputs": [],
   "source": [
    "import FinanceDataReader as fdr #금융 데이터 수집 라이브러리\n",
    "import pandas as pd\n",
    "import time"
   ]
  },
  {
   "cell_type": "markdown",
   "metadata": {
    "colab_type": "text",
    "id": "O_x1jiHTkwM3"
   },
   "source": [
    "**Capital Asset Pricing Model(CAPM)**\n",
    "\n",
    "개별자산수익률 <- 개별자산가격에서 수익률 계산 ->삼성전자\n",
    "\n",
    "\n",
    "무위험자산수익률 <- 무위험자산의 대용치 가격을 찾고, 수익률 계산 ->KODEX 단기자금(ETF)\n",
    "\n",
    "\n",
    "시장수익률 <- 시장의 대용치 가격을 찾고, 수익률계산->코스피지수\n",
    "\n"
   ]
  },
  {
   "cell_type": "code",
   "execution_count": null,
   "metadata": {
    "colab": {
     "base_uri": "https://localhost:8080/",
     "height": 223
    },
    "colab_type": "code",
    "id": "5xvRufzsVUV5",
    "outputId": "89ed32a1-6c64-42b0-cfbc-92bc5f4b7df3"
   },
   "outputs": [],
   "source": [
    "s1 = fdr.DataReader('005930','2019')\n",
    "s1.head()"
   ]
  },
  {
   "cell_type": "code",
   "execution_count": null,
   "metadata": {
    "colab": {
     "base_uri": "https://localhost:8080/",
     "height": 223
    },
    "colab_type": "code",
    "id": "YJWZGaJPVt_z",
    "outputId": "86dabefd-c0cf-4101-ad9f-38a55f709906"
   },
   "outputs": [],
   "source": [
    "k1 = fdr.DataReader('KS11', '2019')\n",
    "k1.head()"
   ]
  },
  {
   "cell_type": "code",
   "execution_count": null,
   "metadata": {
    "colab": {
     "base_uri": "https://localhost:8080/",
     "height": 223
    },
    "colab_type": "code",
    "id": "42xiRra7kmlt",
    "outputId": "51526932-0351-4d8b-f57f-951edb456578"
   },
   "outputs": [],
   "source": [
    "r1 = fdr.DataReader('153130', '2019')\n",
    "r1.head()"
   ]
  },
  {
   "cell_type": "code",
   "execution_count": null,
   "metadata": {
    "colab": {},
    "colab_type": "code",
    "id": "DiZ7EnNPlBT8"
   },
   "outputs": [],
   "source": [
    "market_riskpremium= k1['Change']-r1['Change']\n",
    "stock_excessreturn = s1['Change']-r1['Change']"
   ]
  },
  {
   "cell_type": "code",
   "execution_count": null,
   "metadata": {
    "colab": {},
    "colab_type": "code",
    "id": "TxFuGkUKW-ue"
   },
   "outputs": [],
   "source": [
    "#회귀 분석\n",
    "import statsmodels.api as sm"
   ]
  },
  {
   "cell_type": "code",
   "execution_count": null,
   "metadata": {
    "colab": {
     "base_uri": "https://localhost:8080/",
     "height": 72
    },
    "colab_type": "code",
    "id": "EYQhpzF1hOzo",
    "outputId": "b2749700-4f86-47e9-ca39-9fab1d60447c"
   },
   "outputs": [],
   "source": [
    "x = sm.add_constant(market_riskpremium) #상수항을 만들어주기 위해 add_constant() 사용\n",
    "model = sm.OLS(stock_excessreturn, x).fit() #(y,x )형태\n"
   ]
  },
  {
   "cell_type": "code",
   "execution_count": null,
   "metadata": {
    "colab": {
     "base_uri": "https://localhost:8080/",
     "height": 434
    },
    "colab_type": "code",
    "id": "G_O7VxFfiHQj",
    "outputId": "b4f09308-5877-43ba-909e-784404a017bb"
   },
   "outputs": [],
   "source": [
    "model.summary()"
   ]
  },
  {
   "cell_type": "code",
   "execution_count": null,
   "metadata": {
    "colab": {
     "base_uri": "https://localhost:8080/",
     "height": 35
    },
    "colab_type": "code",
    "id": "C61wGmuMnjkM",
    "outputId": "df6f209c-4884-4a30-adae-28e435bc24a1"
   },
   "outputs": [],
   "source": [
    "#모델의 계수 보기\n",
    "\n",
    "const = model.params[0] # 절편\n",
    "beta = model.params[1] # 기울기\n",
    "\n",
    "print(\"const=\", const.round(4), \"beta=\", beta.round(4))"
   ]
  },
  {
   "cell_type": "code",
   "execution_count": null,
   "metadata": {
    "colab": {
     "base_uri": "https://localhost:8080/",
     "height": 55
    },
    "colab_type": "code",
    "id": "7Xo9H2YjmeYO",
    "outputId": "95573673-e77a-44d6-ad42-81830f4b5f5d"
   },
   "outputs": [],
   "source": [
    "import scipy.stats as stats\n",
    "model2 = stats.linregress(market_riskpremium,stock_excessreturn)\n",
    "print(model2)\n"
   ]
  },
  {
   "cell_type": "code",
   "execution_count": null,
   "metadata": {
    "colab": {
     "base_uri": "https://localhost:8080/",
     "height": 52
    },
    "colab_type": "code",
    "id": "NP16bQLiAgma",
    "outputId": "64b36be6-979f-45f2-b92e-a2d6eca04e1b"
   },
   "outputs": [],
   "source": [
    "print(model2.slope)\n",
    "print(model2.intercept)"
   ]
  },
  {
   "cell_type": "code",
   "execution_count": null,
   "metadata": {
    "colab": {},
    "colab_type": "code",
    "id": "LXHkDHGKnnNm"
   },
   "outputs": [],
   "source": [
    "#산점도(scatter plot) + 회귀식(regression line) 시각화\n",
    "\n",
    "x_line = np.linspace(k1['Change'].min(), k1['Change'].max(), 100) #회귀식을 그리기 위해 x값을 만들어요\n",
    "# np.linspace(시작값, 끝값, num) -> 시작값과 끝값 사이 num개의 수를 일정한 간격으로 생성\n",
    "y_line = x_line*beta + const\n",
    "\n",
    "plt.scatter(market_riskpremium, stock_excessreturn)\n",
    "plt.plot(x_line, y_line, color='red')\n",
    "plt.xlabel('market_premium(%)')\n",
    "plt.ylabel('excess_stockreturn(%)')\n",
    "plt.legend(['Regression Line', 'Plot'])"
   ]
  },
  {
   "cell_type": "markdown",
   "metadata": {
    "colab_type": "text",
    "id": "PihtpYVjXEbE"
   },
   "source": [
    " **데이터 시각화 라이브러리 matplotlib**\n",
    "\n",
    "\n",
    "\n"
   ]
  },
  {
   "cell_type": "markdown",
   "metadata": {
    "colab_type": "text",
    "id": "4IZlb0QEB2cN"
   },
   "source": [
    "\n",
    "\n",
    "\n",
    "**<기본 틀>**\n",
    "\n",
    "plt.title(\"제목 입력\")\n",
    "\n",
    " *함수로 원하는 유형의 그래프 생성* \n",
    "\n",
    "plt.xlabel('x축 설명')\n",
    "\n",
    "plt.ylabel('y축 설명')\n",
    "\n",
    "plt.legend([a,b]) #범례 입력\n",
    "\n",
    "plt.show()\n",
    "\n",
    "\n",
    "\n",
    "---\n",
    "\n",
    "\n",
    "\n",
    "**line plot 함수**\n",
    "\n",
    "plt.plot(x, y)\n",
    "\n",
    "\n",
    "---\n",
    "\n",
    "\n",
    "**scatter plot 함수**\n",
    "\n",
    "plt.scatter(x, y)\n",
    "\n",
    "\n",
    "---\n",
    "\n",
    "\n",
    "**bar chart 함수**\n",
    "\n",
    "plt.bar(x, y)\n",
    "\n",
    "\n",
    "\n"
   ]
  },
  {
   "cell_type": "code",
   "execution_count": null,
   "metadata": {
    "colab": {},
    "colab_type": "code",
    "id": "cNPvTr0fYFc9"
   },
   "outputs": [],
   "source": [
    "import matplotlib.pyplot as plt\n",
    "import numpy as np"
   ]
  },
  {
   "cell_type": "code",
   "execution_count": null,
   "metadata": {
    "colab": {
     "base_uri": "https://localhost:8080/",
     "height": 283
    },
    "colab_type": "code",
    "id": "zCJxfkXQYHDl",
    "outputId": "d068fc5b-829d-4e9e-9658-3d133561dfd0"
   },
   "outputs": [],
   "source": [
    "#line plot\n",
    "#이차 함수\n",
    "x = np.arange(0, 100, 1)\n",
    "y = x*x\n",
    "plt.plot(x, y)"
   ]
  },
  {
   "cell_type": "code",
   "execution_count": null,
   "metadata": {
    "colab": {
     "base_uri": "https://localhost:8080/",
     "height": 283
    },
    "colab_type": "code",
    "id": "g5PyTgUJCQyq",
    "outputId": "c9225419-65d1-4549-ca34-d955068900f0"
   },
   "outputs": [],
   "source": [
    "#마커 사용법 plot 함수 마지막에 색과 마커 모양 지정\n",
    "import numpy as n\n",
    "x = np.random.uniform(0,2,50)\n",
    "y = np.random.uniform(0,2,50)\n",
    "plt.scatter(x,y, color='blue', marker='^')\n"
   ]
  },
  {
   "cell_type": "markdown",
   "metadata": {
    "colab_type": "text",
    "id": "gNkqYcnmICjm"
   },
   "source": [
    "![image.png](data:image/png;base64,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)"
   ]
  },
  {
   "cell_type": "code",
   "execution_count": null,
   "metadata": {
    "colab": {
     "base_uri": "https://localhost:8080/",
     "height": 286
    },
    "colab_type": "code",
    "id": "QxXD8ouIE5xF",
    "outputId": "7713e5e2-14a6-4461-f5d7-8754dc5803e0"
   },
   "outputs": [],
   "source": [
    "#중첩도 가능합니다\n",
    "x = np.arange(0, 100, 2)\n",
    "y = x*x\n",
    "plt.plot(x, y,color='orange')\n",
    "x1 = np.random.uniform(0,100,50)\n",
    "y1 = np.random.uniform(0,y.max(),50)\n",
    "plt.scatter(x1,y1, color='purple', marker='*')\n",
    "x2 = np.arange(0, 100, 2)\n",
    "y2 = np.random.uniform(y.min(),y.max(),len(x1)) # random한 수 추출\n",
    "plt.bar(x2,y2, color='green')"
   ]
  },
  {
   "cell_type": "code",
   "execution_count": null,
   "metadata": {
    "colab": {
     "base_uri": "https://localhost:8080/",
     "height": 483
    },
    "colab_type": "code",
    "id": "TwfUFazLYHeg",
    "outputId": "b0e11b01-bbc0-40a7-a69f-7f297ab22cde"
   },
   "outputs": [],
   "source": [
    "# n 개의 그래프 찍어내기-> Figure 객체 생성해야함!\n",
    "\n",
    "x = np.arange(0.0, 2 * np.pi, 0.1)\n",
    "sin_y = np.sin(x)\n",
    "cos_y = np.cos(x)\n",
    "\n",
    "fig = plt.figure(figsize=(12,8))\n",
    "ax1 = fig.add_subplot(2, 1, 1)\n",
    "ax2 = fig.add_subplot(2, 1, 2)\n",
    "\n",
    "ax1.plot(x, sin_y, 'b--')\n",
    "ax2.plot(x, cos_y, 'r--')\n",
    "\n",
    "plt.show()"
   ]
  },
  {
   "cell_type": "code",
   "execution_count": null,
   "metadata": {
    "colab": {
     "base_uri": "https://localhost:8080/",
     "height": 487
    },
    "colab_type": "code",
    "id": "gf6r_zLEPsFf",
    "outputId": "82fd9b1e-58da-4c53-9a9a-8786837fe8d7"
   },
   "outputs": [],
   "source": [
    "# 창의 크기를 다르게 하고 싶을 때\n",
    "fig = plt.figure(figsize=(12, 8))\n",
    "a1 = plt.subplot2grid((4,4), (0,0), rowspan=2, colspan=2)\n",
    "a2 = plt.subplot2grid((4,4), (0,2), rowspan=2, colspan=2)\n",
    "a3 = plt.subplot2grid((4,4), (2,0), rowspan=2, colspan=4)\n",
    "plt.show()"
   ]
  },
  {
   "cell_type": "markdown",
   "metadata": {
    "colab_type": "text",
    "id": "oNwYbDZV4rVc"
   },
   "source": [
    ">데이터를 가져와서 작업해 보아요!\n",
    "---\n",
    "\n",
    "[데이터를 가져오는 대표적인 방법]\n",
    "\n",
    "-원하는 데이터가 담긴 엑셀 파일을 다운\n",
    "\n",
    "-금융 데이터 수집 라이브러리 이용(가격 정보)\n",
    "\n",
    "**-웹크롤링**"
   ]
  },
  {
   "cell_type": "code",
   "execution_count": null,
   "metadata": {
    "colab": {},
    "colab_type": "code",
    "id": "noCX7DH7XIiG"
   },
   "outputs": [],
   "source": [
    "#필요한 모듈, 라이브러리 import\n",
    "import pandas as pd\n",
    "import numpy as np\n",
    "import matplotlib.pyplot as plt\n",
    "import requests\n",
    "import bs4"
   ]
  },
  {
   "cell_type": "code",
   "execution_count": null,
   "metadata": {
    "colab": {},
    "colab_type": "code",
    "id": "fndhBcHGXS1z"
   },
   "outputs": [],
   "source": [
    "def price_naver(symbol, timeframe, count):\n",
    "    \n",
    "    #making url\n",
    "    \n",
    "    url_a = 'https://fchart.stock.naver.com/sise.nhn?requestType=0'\n",
    "    url_insert =  url_a+'&symbol='+symbol+'&timeframe='+timeframe+'&count='+count\n",
    "\n",
    "    #convert into bs(beautifulsoup) object\n",
    "    \n",
    "    price_raw = requests.get(url_insert)\n",
    "    price_bs = bs4.BeautifulSoup(price_raw.text, 'lxml')\n",
    "    price_list = price_bs.find_all('item')\n",
    "    \n",
    "    #empty sheets\n",
    "    \n",
    "    date_list = []\n",
    "    open_list = []\n",
    "    high_list = []\n",
    "    low_list = []\n",
    "    close_list = []\n",
    "    volume_list = []\n",
    "    \n",
    "    #split the data into date/open/high/low/close/volume\n",
    "    #close - 차트에서 끌어오기 때문에 수정종가로 자동반영\n",
    "    \n",
    "    for piece in price_list:\n",
    "        temp = piece['data']\n",
    "        dp = temp.split('|')\n",
    "        \n",
    "        date_list.append(dp[0])\n",
    "        open_list.append(dp[1])\n",
    "        high_list.append(dp[2])\n",
    "        low_list.append(dp[3])\n",
    "        close_list.append(dp[4])\n",
    "        volume_list.append(dp[5])\n",
    "    \n",
    "    #dataframe으로 합치기\n",
    "    \n",
    "    dp_to_df = pd.DataFrame({'open': open_list, 'high': high_list, 'low': low_list, 'close': close_list, 'vol': volume_list}, index=date_list)\n",
    "    dp_to_df = dp_to_df.astype(float)\n",
    "    \n",
    "    return dp_to_df"
   ]
  },
  {
   "cell_type": "markdown",
   "metadata": {
    "colab_type": "text",
    "id": "n6glMJvmqQmu"
   },
   "source": [
    "ㄴ크롤링 사이트 정보에 대한 코멘트 \n",
    "\n",
    "\n",
    "\n",
    "\n",
    "```\n",
    "네이버 증권-> 개별 종목 페이지-> 차트에 로드된 데이터를 가져온 것입니다. \n",
    "\n",
    "개별 종목 차트 페이지에서 개발자 도구(f12)-> Network 들어가시면 아래 쪽에 https://fchart.stock.naver.com/sise.nhn?symbol=종목코드&timeframe=day&count=500&requestType=0 이 있고\n",
    "\n",
    " 이 안에 데이터가 \"일자 | 시가 | 고가 | 저가 | 종가 | 거래량 \" 형식의 문자열로 바인딩되어 있는 것을 확인할 수 있습니다.\n",
    "```\n",
    "\n",
    "\n",
    "\n",
    "\n"
   ]
  },
  {
   "cell_type": "code",
   "execution_count": null,
   "metadata": {
    "colab": {},
    "colab_type": "code",
    "id": "jTI2SaJnXgxN"
   },
   "outputs": [],
   "source": [
    "sk_raw = price_naver('069500', 'day', '1000')\n"
   ]
  },
  {
   "cell_type": "code",
   "execution_count": null,
   "metadata": {
    "colab": {
     "base_uri": "https://localhost:8080/",
     "height": 35
    },
    "colab_type": "code",
    "id": "jFI8nhnTXt6B",
    "outputId": "96083d16-30b0-4dab-d0b3-b7115e748d69"
   },
   "outputs": [],
   "source": [
    "type(sk_raw)"
   ]
  },
  {
   "cell_type": "code",
   "execution_count": null,
   "metadata": {
    "colab": {
     "base_uri": "https://localhost:8080/",
     "height": 197
    },
    "colab_type": "code",
    "id": "u8cT19RAXxy2",
    "outputId": "5cea8f51-b507-43bc-a336-421d0d777c3b"
   },
   "outputs": [],
   "source": [
    "sk_raw.head()"
   ]
  },
  {
   "cell_type": "code",
   "execution_count": null,
   "metadata": {
    "colab": {},
    "colab_type": "code",
    "id": "RXINXIKaX6Y3"
   },
   "outputs": [],
   "source": [
    "ma5 = pd.DataFrame(sk_raw['close'].rolling(window=5).mean())\n",
    "ma20 = pd.DataFrame(sk_raw['close'].rolling(window=20).mean())\n",
    "ma60 = pd.DataFrame(sk_raw['close'].rolling(window=60).mean())\n",
    "ma120 = pd.DataFrame(sk_raw['close'].rolling(window=120).mean())\n",
    "sk_raw['5일']=  ma5\n",
    "sk_raw['20일']=  ma20\n",
    "sk_raw['60일']=  ma60\n",
    "sk_raw['120일']=  ma120"
   ]
  },
  {
   "cell_type": "code",
   "execution_count": null,
   "metadata": {
    "colab": {},
    "colab_type": "code",
    "id": "TskDxwWxZuej"
   },
   "outputs": [],
   "source": [
    "sk_ret = sk_raw.close.pct_change()[1:]"
   ]
  },
  {
   "cell_type": "code",
   "execution_count": null,
   "metadata": {
    "colab": {},
    "colab_type": "code",
    "id": "nTFP6AreY9uR"
   },
   "outputs": [],
   "source": [
    "sk_raw['sk_ret']=sk_ret"
   ]
  },
  {
   "cell_type": "code",
   "execution_count": null,
   "metadata": {
    "colab": {
     "base_uri": "https://localhost:8080/",
     "height": 419
    },
    "colab_type": "code",
    "id": "2PPCniE990du",
    "outputId": "92b1540b-0178-4813-e685-b2ed5a2c2c47"
   },
   "outputs": [],
   "source": [
    "sk_raw"
   ]
  },
  {
   "cell_type": "code",
   "execution_count": null,
   "metadata": {
    "colab": {},
    "colab_type": "code",
    "id": "Q72cFTRwZSll"
   },
   "outputs": [],
   "source": [
    "sk_raw=sk_raw.dropna() # 앞서 pandas에서 다룬 결측치 처리.dropna()!"
   ]
  },
  {
   "cell_type": "code",
   "execution_count": null,
   "metadata": {
    "colab": {
     "base_uri": "https://localhost:8080/",
     "height": 419
    },
    "colab_type": "code",
    "id": "EEQ5ZLo999IP",
    "outputId": "4a4b58a0-c0db-46e6-cdea-588180f4c8e5"
   },
   "outputs": [],
   "source": [
    "sk_raw"
   ]
  },
  {
   "cell_type": "code",
   "execution_count": null,
   "metadata": {
    "colab": {
     "base_uri": "https://localhost:8080/",
     "height": 375
    },
    "colab_type": "code",
    "id": "eUYjitxFZWNB",
    "outputId": "50f5e466-5d2f-4e76-e81f-2671cdfaef3d"
   },
   "outputs": [],
   "source": [
    "fig = plt.figure(figsize=(20, 10))\n",
    "pr_line = plt.subplot2grid((4,4), (0,0), rowspan=3, colspan=4,)\n",
    "vol_bar = plt.subplot2grid((4,4), (3,0), rowspan=1, colspan=4)\n",
    "#이평선\n",
    "pr_line.plot(sk_raw.index, sk_raw['5일'], label='MA5')\n",
    "pr_line.plot(sk_raw.index, sk_raw['20일'], label='MA20')\n",
    "pr_line.plot(sk_raw.index, sk_raw['60일'], label='MA60')\n",
    "pr_line.plot(sk_raw.index, sk_raw['120일'], label='MA120',color='purple' )\n",
    "\n",
    "#캔들\n",
    "pr_line.bar( sk_raw.index, height=sk_raw['close']-sk_raw['open'], bottom=sk_raw['open'], width=1, color= list(map(lambda c: 'red' if c >0 else 'blue', sk_raw['sk_ret'])))\n",
    "pr_line.vlines( sk_raw.index, sk_raw['low'], sk_raw['high'],  color= list(map(lambda c: 'red' if c >0 else 'blue', sk_raw['sk_ret'])))\n",
    "#matplotlib.pyplot.vlines(x, ymin, ymax) vertical line을 그려주어요!\n",
    "\n",
    "'''\n",
    "-color에 들어간 함수의 의미: +인 날은 빨간색으로 -인 날은 파란색으로 표시하도록 하는 함수를 sk_raw['sk_ret']에 모두 적용하고 list로 반환\n",
    "-lambda는 함수를 한 줄로 정의하여 바로 실행할 수 있게 해줍니다.\n",
    "  형태\n",
    "  lambda 인수 : 리턴값을 도출하는 방식을 정의\n",
    "-map은 반복가능한 자료형을 입력으로 받아, 지정된 함수로 처리해서 반환합니다.\n",
    "  형태\n",
    "  map(함수,반복 가능한 자료형)\n",
    "\n",
    "'''\n",
    "vol_bar.bar(sk_raw.index,  sk_raw['vol'])\n",
    "#plt.legend(loc='best')\n",
    "plt.show()\n",
    "\n"
   ]
  },
  {
   "cell_type": "markdown",
   "metadata": {
    "colab_type": "text",
    "id": "gOcRChh-XZHx"
   },
   "source": [
    "**고생하셨습니다 :)**\n",
    ">참고 자료: \n",
    "\n",
    "모두를 위한 파이썬 프로그래밍 강의 자료\n",
    "\n",
    "파이썬으로 배우는 알고리즘 트레이딩 https://wikidocs.net/book/110\n",
    "\n",
    "지난 학기 세션   "
   ]
  }
 ],
 "metadata": {
  "colab": {
   "collapsed_sections": [],
   "name": "파이썬튜토리얼(3).ipynb",
   "provenance": []
  },
  "kernelspec": {
   "display_name": "Python 3",
   "language": "python",
   "name": "python3"
  },
  "language_info": {
   "codemirror_mode": {
    "name": "ipython",
    "version": 3
   },
   "file_extension": ".py",
   "mimetype": "text/x-python",
   "name": "python",
   "nbconvert_exporter": "python",
   "pygments_lexer": "ipython3",
   "version": "3.6.9"
  }
 },
 "nbformat": 4,
 "nbformat_minor": 1
}
