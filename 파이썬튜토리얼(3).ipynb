{
  "nbformat": 4,
  "nbformat_minor": 0,
  "metadata": {
    "colab": {
      "name": "파이썬튜토리얼(3).ipynb",
      "provenance": [],
      "collapsed_sections": []
    },
    "kernelspec": {
      "name": "python3",
      "display_name": "Python 3"
    }
  },
  "cells": [
    {
      "cell_type": "markdown",
      "metadata": {
        "id": "EX4Ww61Vnyqh",
        "colab_type": "text"
      },
      "source": [
        ">colab에서 작성되었습니다! "
      ]
    },
    {
      "cell_type": "markdown",
      "metadata": {
        "colab_type": "text",
        "id": "J2NKLxYf_YEl"
      },
      "source": [
        "**통계적 분석을 위한 라이브러리: statsmodels , scipy **\n",
        "\n",
        "\n",
        "\n",
        "\n",
        "\n",
        "\n",
        "\n",
        "\n",
        "\n",
        "\n"
      ]
    },
    {
      "cell_type": "markdown",
      "metadata": {
        "id": "cLlqs0mlkKA1",
        "colab_type": "text"
      },
      "source": [
        ">데이터를 가져와서 작업해 보아요!\n",
        "---\n",
        "\n",
        "[데이터를 가져오는 대표적인 방법]\n",
        "\n",
        "-원하는 데이터가 담긴 엑셀 파일을 다운\n",
        "\n",
        "**-금융 데이터 수집 라이브러리 이용(가격 정보)**\n",
        "\n",
        "-웹크롤링"
      ]
    },
    {
      "cell_type": "code",
      "metadata": {
        "colab_type": "code",
        "id": "wXLRpFch_YEe",
        "colab": {
          "base_uri": "https://localhost:8080/",
          "height": 339
        },
        "outputId": "2ac7dd6d-94d7-4018-a563-42632613ac53"
      },
      "source": [
        "pip install -U finance-datareader #외부 라이브러리의 경우 설치를 해주어야 import 해 올 수 있다."
      ],
      "execution_count": null,
      "outputs": [
        {
          "output_type": "stream",
          "text": [
            "Collecting finance-datareader\n",
            "  Downloading https://files.pythonhosted.org/packages/e1/f5/81afe9b4f9ab768e3222a749822b34d1a0fed66bcdb5c7e261353fb9da67/finance_datareader-0.9.5-py3-none-any.whl\n",
            "Collecting requests-file\n",
            "  Downloading https://files.pythonhosted.org/packages/23/9c/6e63c23c39e53d3df41c77a3d05a49a42c4e1383a6d2a5e3233161b89dbf/requests_file-1.4.3-py2.py3-none-any.whl\n",
            "Requirement already satisfied, skipping upgrade: pandas>=0.19.2 in /usr/local/lib/python3.6/dist-packages (from finance-datareader) (0.25.3)\n",
            "Requirement already satisfied, skipping upgrade: requests>=2.3.0 in /usr/local/lib/python3.6/dist-packages (from finance-datareader) (2.21.0)\n",
            "Requirement already satisfied, skipping upgrade: lxml in /usr/local/lib/python3.6/dist-packages (from finance-datareader) (4.2.6)\n",
            "Requirement already satisfied, skipping upgrade: six in /usr/local/lib/python3.6/dist-packages (from requests-file->finance-datareader) (1.12.0)\n",
            "Requirement already satisfied, skipping upgrade: numpy>=1.13.3 in /usr/local/lib/python3.6/dist-packages (from pandas>=0.19.2->finance-datareader) (1.18.2)\n",
            "Requirement already satisfied, skipping upgrade: python-dateutil>=2.6.1 in /usr/local/lib/python3.6/dist-packages (from pandas>=0.19.2->finance-datareader) (2.8.1)\n",
            "Requirement already satisfied, skipping upgrade: pytz>=2017.2 in /usr/local/lib/python3.6/dist-packages (from pandas>=0.19.2->finance-datareader) (2018.9)\n",
            "Requirement already satisfied, skipping upgrade: urllib3<1.25,>=1.21.1 in /usr/local/lib/python3.6/dist-packages (from requests>=2.3.0->finance-datareader) (1.24.3)\n",
            "Requirement already satisfied, skipping upgrade: idna<2.9,>=2.5 in /usr/local/lib/python3.6/dist-packages (from requests>=2.3.0->finance-datareader) (2.8)\n",
            "Requirement already satisfied, skipping upgrade: chardet<3.1.0,>=3.0.2 in /usr/local/lib/python3.6/dist-packages (from requests>=2.3.0->finance-datareader) (3.0.4)\n",
            "Requirement already satisfied, skipping upgrade: certifi>=2017.4.17 in /usr/local/lib/python3.6/dist-packages (from requests>=2.3.0->finance-datareader) (2019.11.28)\n",
            "Installing collected packages: requests-file, finance-datareader\n",
            "Successfully installed finance-datareader-0.9.5 requests-file-1.4.3\n"
          ],
          "name": "stdout"
        }
      ]
    },
    {
      "cell_type": "code",
      "metadata": {
        "id": "YAehhkvSVL0Y",
        "colab_type": "code",
        "colab": {}
      },
      "source": [
        "import FinanceDataReader as fdr #금융 데이터 수집 라이브러리\n",
        "import pandas as pd\n",
        "import time"
      ],
      "execution_count": null,
      "outputs": []
    },
    {
      "cell_type": "markdown",
      "metadata": {
        "id": "O_x1jiHTkwM3",
        "colab_type": "text"
      },
      "source": [
        "**Capital Asset Pricing Model(CAPM)**\n",
        "\n",
        "개별자산수익률 <- 개별자산가격에서 수익률 계산 ->삼성전자\n",
        "\n",
        "\n",
        "무위험자산수익률 <- 무위험자산의 대용치 가격을 찾고, 수익률 계산 ->KODEX 단기자금(ETF)\n",
        "\n",
        "\n",
        "시장수익률 <- 시장의 대용치 가격을 찾고, 수익률계산->코스피지수\n",
        "\n"
      ]
    },
    {
      "cell_type": "code",
      "metadata": {
        "id": "5xvRufzsVUV5",
        "colab_type": "code",
        "colab": {
          "base_uri": "https://localhost:8080/",
          "height": 223
        },
        "outputId": "89ed32a1-6c64-42b0-cfbc-92bc5f4b7df3"
      },
      "source": [
        "s1 = fdr.DataReader('005930','2019')\n",
        "s1.head()"
      ],
      "execution_count": null,
      "outputs": [
        {
          "output_type": "execute_result",
          "data": {
            "text/html": [
              "<div>\n",
              "<style scoped>\n",
              "    .dataframe tbody tr th:only-of-type {\n",
              "        vertical-align: middle;\n",
              "    }\n",
              "\n",
              "    .dataframe tbody tr th {\n",
              "        vertical-align: top;\n",
              "    }\n",
              "\n",
              "    .dataframe thead th {\n",
              "        text-align: right;\n",
              "    }\n",
              "</style>\n",
              "<table border=\"1\" class=\"dataframe\">\n",
              "  <thead>\n",
              "    <tr style=\"text-align: right;\">\n",
              "      <th></th>\n",
              "      <th>Open</th>\n",
              "      <th>High</th>\n",
              "      <th>Low</th>\n",
              "      <th>Close</th>\n",
              "      <th>Volume</th>\n",
              "      <th>Change</th>\n",
              "    </tr>\n",
              "    <tr>\n",
              "      <th>Date</th>\n",
              "      <th></th>\n",
              "      <th></th>\n",
              "      <th></th>\n",
              "      <th></th>\n",
              "      <th></th>\n",
              "      <th></th>\n",
              "    </tr>\n",
              "  </thead>\n",
              "  <tbody>\n",
              "    <tr>\n",
              "      <th>2019-01-02</th>\n",
              "      <td>39400</td>\n",
              "      <td>39400</td>\n",
              "      <td>38550</td>\n",
              "      <td>38750</td>\n",
              "      <td>7847664</td>\n",
              "      <td>0.001292</td>\n",
              "    </tr>\n",
              "    <tr>\n",
              "      <th>2019-01-03</th>\n",
              "      <td>38300</td>\n",
              "      <td>38550</td>\n",
              "      <td>37450</td>\n",
              "      <td>37600</td>\n",
              "      <td>12471493</td>\n",
              "      <td>-0.029677</td>\n",
              "    </tr>\n",
              "    <tr>\n",
              "      <th>2019-01-04</th>\n",
              "      <td>37450</td>\n",
              "      <td>37600</td>\n",
              "      <td>36850</td>\n",
              "      <td>37450</td>\n",
              "      <td>14108958</td>\n",
              "      <td>-0.003989</td>\n",
              "    </tr>\n",
              "    <tr>\n",
              "      <th>2019-01-07</th>\n",
              "      <td>38000</td>\n",
              "      <td>38900</td>\n",
              "      <td>37800</td>\n",
              "      <td>38750</td>\n",
              "      <td>12748997</td>\n",
              "      <td>0.034713</td>\n",
              "    </tr>\n",
              "    <tr>\n",
              "      <th>2019-01-08</th>\n",
              "      <td>38000</td>\n",
              "      <td>39200</td>\n",
              "      <td>37950</td>\n",
              "      <td>38100</td>\n",
              "      <td>12756554</td>\n",
              "      <td>-0.016774</td>\n",
              "    </tr>\n",
              "  </tbody>\n",
              "</table>\n",
              "</div>"
            ],
            "text/plain": [
              "             Open   High    Low  Close    Volume    Change\n",
              "Date                                                      \n",
              "2019-01-02  39400  39400  38550  38750   7847664  0.001292\n",
              "2019-01-03  38300  38550  37450  37600  12471493 -0.029677\n",
              "2019-01-04  37450  37600  36850  37450  14108958 -0.003989\n",
              "2019-01-07  38000  38900  37800  38750  12748997  0.034713\n",
              "2019-01-08  38000  39200  37950  38100  12756554 -0.016774"
            ]
          },
          "metadata": {
            "tags": []
          },
          "execution_count": 3
        }
      ]
    },
    {
      "cell_type": "code",
      "metadata": {
        "id": "YJWZGaJPVt_z",
        "colab_type": "code",
        "colab": {
          "base_uri": "https://localhost:8080/",
          "height": 223
        },
        "outputId": "86dabefd-c0cf-4101-ad9f-38a55f709906"
      },
      "source": [
        "k1 = fdr.DataReader('KS11', '2019')\n",
        "k1.head()"
      ],
      "execution_count": null,
      "outputs": [
        {
          "output_type": "execute_result",
          "data": {
            "text/html": [
              "<div>\n",
              "<style scoped>\n",
              "    .dataframe tbody tr th:only-of-type {\n",
              "        vertical-align: middle;\n",
              "    }\n",
              "\n",
              "    .dataframe tbody tr th {\n",
              "        vertical-align: top;\n",
              "    }\n",
              "\n",
              "    .dataframe thead th {\n",
              "        text-align: right;\n",
              "    }\n",
              "</style>\n",
              "<table border=\"1\" class=\"dataframe\">\n",
              "  <thead>\n",
              "    <tr style=\"text-align: right;\">\n",
              "      <th></th>\n",
              "      <th>Close</th>\n",
              "      <th>Open</th>\n",
              "      <th>High</th>\n",
              "      <th>Low</th>\n",
              "      <th>Volume</th>\n",
              "      <th>Change</th>\n",
              "    </tr>\n",
              "    <tr>\n",
              "      <th>Date</th>\n",
              "      <th></th>\n",
              "      <th></th>\n",
              "      <th></th>\n",
              "      <th></th>\n",
              "      <th></th>\n",
              "      <th></th>\n",
              "    </tr>\n",
              "  </thead>\n",
              "  <tbody>\n",
              "    <tr>\n",
              "      <th>2019-01-02</th>\n",
              "      <td>2010.00</td>\n",
              "      <td>2050.55</td>\n",
              "      <td>2053.45</td>\n",
              "      <td>2004.27</td>\n",
              "      <td>326370000.0</td>\n",
              "      <td>-0.0152</td>\n",
              "    </tr>\n",
              "    <tr>\n",
              "      <th>2019-01-03</th>\n",
              "      <td>1993.70</td>\n",
              "      <td>2011.81</td>\n",
              "      <td>2014.72</td>\n",
              "      <td>1991.65</td>\n",
              "      <td>427980000.0</td>\n",
              "      <td>-0.0081</td>\n",
              "    </tr>\n",
              "    <tr>\n",
              "      <th>2019-01-04</th>\n",
              "      <td>2010.25</td>\n",
              "      <td>1992.40</td>\n",
              "      <td>2011.56</td>\n",
              "      <td>1984.53</td>\n",
              "      <td>408990000.0</td>\n",
              "      <td>0.0083</td>\n",
              "    </tr>\n",
              "    <tr>\n",
              "      <th>2019-01-07</th>\n",
              "      <td>2037.10</td>\n",
              "      <td>2034.24</td>\n",
              "      <td>2048.06</td>\n",
              "      <td>2030.90</td>\n",
              "      <td>440190000.0</td>\n",
              "      <td>0.0134</td>\n",
              "    </tr>\n",
              "    <tr>\n",
              "      <th>2019-01-08</th>\n",
              "      <td>2025.27</td>\n",
              "      <td>2038.68</td>\n",
              "      <td>2042.70</td>\n",
              "      <td>2023.59</td>\n",
              "      <td>397830000.0</td>\n",
              "      <td>-0.0058</td>\n",
              "    </tr>\n",
              "  </tbody>\n",
              "</table>\n",
              "</div>"
            ],
            "text/plain": [
              "              Close     Open     High      Low       Volume  Change\n",
              "Date                                                               \n",
              "2019-01-02  2010.00  2050.55  2053.45  2004.27  326370000.0 -0.0152\n",
              "2019-01-03  1993.70  2011.81  2014.72  1991.65  427980000.0 -0.0081\n",
              "2019-01-04  2010.25  1992.40  2011.56  1984.53  408990000.0  0.0083\n",
              "2019-01-07  2037.10  2034.24  2048.06  2030.90  440190000.0  0.0134\n",
              "2019-01-08  2025.27  2038.68  2042.70  2023.59  397830000.0 -0.0058"
            ]
          },
          "metadata": {
            "tags": []
          },
          "execution_count": 4
        }
      ]
    },
    {
      "cell_type": "code",
      "metadata": {
        "id": "42xiRra7kmlt",
        "colab_type": "code",
        "colab": {
          "base_uri": "https://localhost:8080/",
          "height": 223
        },
        "outputId": "51526932-0351-4d8b-f57f-951edb456578"
      },
      "source": [
        "r1 = fdr.DataReader('153130', '2019')\n",
        "r1.head()"
      ],
      "execution_count": null,
      "outputs": [
        {
          "output_type": "execute_result",
          "data": {
            "text/html": [
              "<div>\n",
              "<style scoped>\n",
              "    .dataframe tbody tr th:only-of-type {\n",
              "        vertical-align: middle;\n",
              "    }\n",
              "\n",
              "    .dataframe tbody tr th {\n",
              "        vertical-align: top;\n",
              "    }\n",
              "\n",
              "    .dataframe thead th {\n",
              "        text-align: right;\n",
              "    }\n",
              "</style>\n",
              "<table border=\"1\" class=\"dataframe\">\n",
              "  <thead>\n",
              "    <tr style=\"text-align: right;\">\n",
              "      <th></th>\n",
              "      <th>Open</th>\n",
              "      <th>High</th>\n",
              "      <th>Low</th>\n",
              "      <th>Close</th>\n",
              "      <th>Volume</th>\n",
              "      <th>Change</th>\n",
              "    </tr>\n",
              "    <tr>\n",
              "      <th>Date</th>\n",
              "      <th></th>\n",
              "      <th></th>\n",
              "      <th></th>\n",
              "      <th></th>\n",
              "      <th></th>\n",
              "      <th></th>\n",
              "    </tr>\n",
              "  </thead>\n",
              "  <tbody>\n",
              "    <tr>\n",
              "      <th>2019-01-02</th>\n",
              "      <td>100040</td>\n",
              "      <td>100050</td>\n",
              "      <td>100040</td>\n",
              "      <td>100045</td>\n",
              "      <td>87469</td>\n",
              "      <td>0.00010</td>\n",
              "    </tr>\n",
              "    <tr>\n",
              "      <th>2019-01-03</th>\n",
              "      <td>100070</td>\n",
              "      <td>100075</td>\n",
              "      <td>100070</td>\n",
              "      <td>100075</td>\n",
              "      <td>12636</td>\n",
              "      <td>0.00030</td>\n",
              "    </tr>\n",
              "    <tr>\n",
              "      <th>2019-01-04</th>\n",
              "      <td>100080</td>\n",
              "      <td>100085</td>\n",
              "      <td>100075</td>\n",
              "      <td>100085</td>\n",
              "      <td>19534</td>\n",
              "      <td>0.00010</td>\n",
              "    </tr>\n",
              "    <tr>\n",
              "      <th>2019-01-07</th>\n",
              "      <td>100085</td>\n",
              "      <td>100090</td>\n",
              "      <td>100085</td>\n",
              "      <td>100090</td>\n",
              "      <td>27897</td>\n",
              "      <td>0.00005</td>\n",
              "    </tr>\n",
              "    <tr>\n",
              "      <th>2019-01-08</th>\n",
              "      <td>100095</td>\n",
              "      <td>100095</td>\n",
              "      <td>100090</td>\n",
              "      <td>100090</td>\n",
              "      <td>25699</td>\n",
              "      <td>0.00000</td>\n",
              "    </tr>\n",
              "  </tbody>\n",
              "</table>\n",
              "</div>"
            ],
            "text/plain": [
              "              Open    High     Low   Close  Volume   Change\n",
              "Date                                                       \n",
              "2019-01-02  100040  100050  100040  100045   87469  0.00010\n",
              "2019-01-03  100070  100075  100070  100075   12636  0.00030\n",
              "2019-01-04  100080  100085  100075  100085   19534  0.00010\n",
              "2019-01-07  100085  100090  100085  100090   27897  0.00005\n",
              "2019-01-08  100095  100095  100090  100090   25699  0.00000"
            ]
          },
          "metadata": {
            "tags": []
          },
          "execution_count": 5
        }
      ]
    },
    {
      "cell_type": "code",
      "metadata": {
        "id": "DiZ7EnNPlBT8",
        "colab_type": "code",
        "colab": {}
      },
      "source": [
        "market_riskpremium= k1['Change']-r1['Change']\n",
        "stock_excessreturn = s1['Change']-r1['Change']"
      ],
      "execution_count": null,
      "outputs": []
    },
    {
      "cell_type": "code",
      "metadata": {
        "id": "TxFuGkUKW-ue",
        "colab_type": "code",
        "colab": {}
      },
      "source": [
        "#회귀 분석\n",
        "import statsmodels.api as sm"
      ],
      "execution_count": null,
      "outputs": []
    },
    {
      "cell_type": "code",
      "metadata": {
        "id": "EYQhpzF1hOzo",
        "colab_type": "code",
        "colab": {
          "base_uri": "https://localhost:8080/",
          "height": 72
        },
        "outputId": "b2749700-4f86-47e9-ca39-9fab1d60447c"
      },
      "source": [
        "x = sm.add_constant(market_riskpremium) #상수항을 만들어주기 위해 add_constant() 사용\n",
        "model = sm.OLS(stock_excessreturn, x).fit() #(y,x )형태\n"
      ],
      "execution_count": null,
      "outputs": [
        {
          "output_type": "stream",
          "text": [
            "/usr/local/lib/python3.6/dist-packages/numpy/core/fromnumeric.py:2542: FutureWarning: Method .ptp is deprecated and will be removed in a future version. Use numpy.ptp instead.\n",
            "  return ptp(axis=axis, out=out, **kwargs)\n"
          ],
          "name": "stderr"
        }
      ]
    },
    {
      "cell_type": "code",
      "metadata": {
        "id": "G_O7VxFfiHQj",
        "colab_type": "code",
        "colab": {
          "base_uri": "https://localhost:8080/",
          "height": 434
        },
        "outputId": "b4f09308-5877-43ba-909e-784404a017bb"
      },
      "source": [
        "model.summary()"
      ],
      "execution_count": null,
      "outputs": [
        {
          "output_type": "execute_result",
          "data": {
            "text/html": [
              "<table class=\"simpletable\">\n",
              "<caption>OLS Regression Results</caption>\n",
              "<tr>\n",
              "  <th>Dep. Variable:</th>         <td>Change</td>      <th>  R-squared:         </th> <td>   0.709</td>\n",
              "</tr>\n",
              "<tr>\n",
              "  <th>Model:</th>                   <td>OLS</td>       <th>  Adj. R-squared:    </th> <td>   0.708</td>\n",
              "</tr>\n",
              "<tr>\n",
              "  <th>Method:</th>             <td>Least Squares</td>  <th>  F-statistic:       </th> <td>   740.8</td>\n",
              "</tr>\n",
              "<tr>\n",
              "  <th>Date:</th>             <td>Sat, 28 Mar 2020</td> <th>  Prob (F-statistic):</th> <td>1.74e-83</td>\n",
              "</tr>\n",
              "<tr>\n",
              "  <th>Time:</th>                 <td>07:17:59</td>     <th>  Log-Likelihood:    </th> <td>  984.03</td>\n",
              "</tr>\n",
              "<tr>\n",
              "  <th>No. Observations:</th>      <td>   306</td>      <th>  AIC:               </th> <td>  -1964.</td>\n",
              "</tr>\n",
              "<tr>\n",
              "  <th>Df Residuals:</th>          <td>   304</td>      <th>  BIC:               </th> <td>  -1957.</td>\n",
              "</tr>\n",
              "<tr>\n",
              "  <th>Df Model:</th>              <td>     1</td>      <th>                     </th>     <td> </td>   \n",
              "</tr>\n",
              "<tr>\n",
              "  <th>Covariance Type:</th>      <td>nonrobust</td>    <th>                     </th>     <td> </td>   \n",
              "</tr>\n",
              "</table>\n",
              "<table class=\"simpletable\">\n",
              "<tr>\n",
              "     <td></td>       <th>coef</th>     <th>std err</th>      <th>t</th>      <th>P>|t|</th>  <th>[0.025</th>    <th>0.975]</th>  \n",
              "</tr>\n",
              "<tr>\n",
              "  <th>const</th>  <td>    0.0014</td> <td>    0.001</td> <td>    2.495</td> <td> 0.013</td> <td>    0.000</td> <td>    0.002</td>\n",
              "</tr>\n",
              "<tr>\n",
              "  <th>Change</th> <td>    1.0802</td> <td>    0.040</td> <td>   27.217</td> <td> 0.000</td> <td>    1.002</td> <td>    1.158</td>\n",
              "</tr>\n",
              "</table>\n",
              "<table class=\"simpletable\">\n",
              "<tr>\n",
              "  <th>Omnibus:</th>       <td>10.651</td> <th>  Durbin-Watson:     </th> <td>   1.904</td>\n",
              "</tr>\n",
              "<tr>\n",
              "  <th>Prob(Omnibus):</th> <td> 0.005</td> <th>  Jarque-Bera (JB):  </th> <td>  11.991</td>\n",
              "</tr>\n",
              "<tr>\n",
              "  <th>Skew:</th>          <td> 0.353</td> <th>  Prob(JB):          </th> <td> 0.00249</td>\n",
              "</tr>\n",
              "<tr>\n",
              "  <th>Kurtosis:</th>      <td> 3.666</td> <th>  Cond. No.          </th> <td>    71.3</td>\n",
              "</tr>\n",
              "</table><br/><br/>Warnings:<br/>[1] Standard Errors assume that the covariance matrix of the errors is correctly specified."
            ],
            "text/plain": [
              "<class 'statsmodels.iolib.summary.Summary'>\n",
              "\"\"\"\n",
              "                            OLS Regression Results                            \n",
              "==============================================================================\n",
              "Dep. Variable:                 Change   R-squared:                       0.709\n",
              "Model:                            OLS   Adj. R-squared:                  0.708\n",
              "Method:                 Least Squares   F-statistic:                     740.8\n",
              "Date:                Sat, 28 Mar 2020   Prob (F-statistic):           1.74e-83\n",
              "Time:                        07:17:59   Log-Likelihood:                 984.03\n",
              "No. Observations:                 306   AIC:                            -1964.\n",
              "Df Residuals:                     304   BIC:                            -1957.\n",
              "Df Model:                           1                                         \n",
              "Covariance Type:            nonrobust                                         \n",
              "==============================================================================\n",
              "                 coef    std err          t      P>|t|      [0.025      0.975]\n",
              "------------------------------------------------------------------------------\n",
              "const          0.0014      0.001      2.495      0.013       0.000       0.002\n",
              "Change         1.0802      0.040     27.217      0.000       1.002       1.158\n",
              "==============================================================================\n",
              "Omnibus:                       10.651   Durbin-Watson:                   1.904\n",
              "Prob(Omnibus):                  0.005   Jarque-Bera (JB):               11.991\n",
              "Skew:                           0.353   Prob(JB):                      0.00249\n",
              "Kurtosis:                       3.666   Cond. No.                         71.3\n",
              "==============================================================================\n",
              "\n",
              "Warnings:\n",
              "[1] Standard Errors assume that the covariance matrix of the errors is correctly specified.\n",
              "\"\"\""
            ]
          },
          "metadata": {
            "tags": []
          },
          "execution_count": 9
        }
      ]
    },
    {
      "cell_type": "code",
      "metadata": {
        "id": "C61wGmuMnjkM",
        "colab_type": "code",
        "colab": {
          "base_uri": "https://localhost:8080/",
          "height": 35
        },
        "outputId": "df6f209c-4884-4a30-adae-28e435bc24a1"
      },
      "source": [
        "#모델의 계수 보기\n",
        "\n",
        "const = model.params[0] # 절편\n",
        "beta = model.params[1] # 기울기\n",
        "\n",
        "print(\"const=\", const.round(4), \"beta=\", beta.round(4))"
      ],
      "execution_count": null,
      "outputs": [
        {
          "output_type": "stream",
          "text": [
            "const= 0.0014 beta= 1.0802\n"
          ],
          "name": "stdout"
        }
      ]
    },
    {
      "cell_type": "code",
      "metadata": {
        "id": "7Xo9H2YjmeYO",
        "colab_type": "code",
        "colab": {
          "base_uri": "https://localhost:8080/",
          "height": 55
        },
        "outputId": "95573673-e77a-44d6-ad42-81830f4b5f5d"
      },
      "source": [
        "import scipy.stats as stats\n",
        "model2 = stats.linregress(market_riskpremium,stock_excessreturn)\n",
        "print(model2)\n"
      ],
      "execution_count": null,
      "outputs": [
        {
          "output_type": "stream",
          "text": [
            "LinregressResult(slope=1.0801831470040777, intercept=0.0013904907684772075, rvalue=0.8420380124906691, pvalue=1.7362525658035257e-83, stderr=0.03968756890394623)\n"
          ],
          "name": "stdout"
        }
      ]
    },
    {
      "cell_type": "code",
      "metadata": {
        "id": "NP16bQLiAgma",
        "colab_type": "code",
        "colab": {
          "base_uri": "https://localhost:8080/",
          "height": 52
        },
        "outputId": "64b36be6-979f-45f2-b92e-a2d6eca04e1b"
      },
      "source": [
        "print(model2.slope)\n",
        "print(model2.intercept)"
      ],
      "execution_count": null,
      "outputs": [
        {
          "output_type": "stream",
          "text": [
            "1.0801831470040777\n",
            "0.0013904907684772075\n"
          ],
          "name": "stdout"
        }
      ]
    },
    {
      "cell_type": "code",
      "metadata": {
        "id": "LXHkDHGKnnNm",
        "colab_type": "code",
        "colab": {}
      },
      "source": [
        "#산점도(scatter plot) + 회귀식(regression line) 시각화\n",
        "\n",
        "x_line = np.linspace(k1['Change'].min(), k1['Change'].max(), 100) #회귀식을 그리기 위해 x값을 만들어요\n",
        "# np.linspace(시작값, 끝값, num) -> 시작값과 끝값 사이 num개의 수를 일정한 간격으로 생성\n",
        "y_line = x_line*beta + const\n",
        "\n",
        "plt.scatter(market_riskpremium, stock_excessreturn)\n",
        "plt.plot(x_line, y_line, color='red')\n",
        "plt.xlabel('market_premium(%)')\n",
        "plt.ylabel('excess_stockreturn(%)')\n",
        "plt.legend(['Regression Line', 'Plot'])"
      ],
      "execution_count": null,
      "outputs": []
    },
    {
      "cell_type": "markdown",
      "metadata": {
        "id": "PihtpYVjXEbE",
        "colab_type": "text"
      },
      "source": [
        " **데이터 시각화 라이브러리 matplotlib**\n",
        "\n",
        "\n",
        "\n"
      ]
    },
    {
      "cell_type": "markdown",
      "metadata": {
        "id": "4IZlb0QEB2cN",
        "colab_type": "text"
      },
      "source": [
        "\n",
        "\n",
        "\n",
        "**<기본 틀>**\n",
        "\n",
        "plt.title(\"제목 입력\")\n",
        "\n",
        " *함수로 원하는 유형의 그래프 생성* \n",
        "\n",
        "plt.xlabel('x축 설명')\n",
        "\n",
        "plt.ylabel('y축 설명')\n",
        "\n",
        "plt.legend([a,b]) #범례 입력\n",
        "\n",
        "plt.show()\n",
        "\n",
        "\n",
        "\n",
        "---\n",
        "\n",
        "\n",
        "\n",
        "**line plot 함수**\n",
        "\n",
        "plt.plot(x, y)\n",
        "\n",
        "\n",
        "---\n",
        "\n",
        "\n",
        "**scatter plot 함수**\n",
        "\n",
        "plt.scatter(x, y)\n",
        "\n",
        "\n",
        "---\n",
        "\n",
        "\n",
        "**bar chart 함수**\n",
        "\n",
        "plt.bar(x, y)\n",
        "\n",
        "\n",
        "\n"
      ]
    },
    {
      "cell_type": "code",
      "metadata": {
        "id": "cNPvTr0fYFc9",
        "colab_type": "code",
        "colab": {}
      },
      "source": [
        "import matplotlib.pyplot as plt\n",
        "import numpy as np"
      ],
      "execution_count": null,
      "outputs": []
    },
    {
      "cell_type": "code",
      "metadata": {
        "id": "zCJxfkXQYHDl",
        "colab_type": "code",
        "colab": {
          "base_uri": "https://localhost:8080/",
          "height": 283
        },
        "outputId": "d068fc5b-829d-4e9e-9658-3d133561dfd0"
      },
      "source": [
        "#line plot\n",
        "#이차 함수\n",
        "x = np.arange(0, 100, 1)\n",
        "y = x*x\n",
        "plt.plot(x, y)"
      ],
      "execution_count": null,
      "outputs": [
        {
          "output_type": "execute_result",
          "data": {
            "text/plain": [
              "[<matplotlib.lines.Line2D at 0x7f3d459e1438>]"
            ]
          },
          "metadata": {
            "tags": []
          },
          "execution_count": 17
        },
        {
          "output_type": "display_data",
          "data": {
            "image/png": "[encoded data removed]",
            "text/plain": [
              "<Figure size 432x288 with 1 Axes>"
            ]
          },
          "metadata": {
            "tags": []
          }
        }
      ]
    },
    {
      "cell_type": "code",
      "metadata": {
        "id": "g5PyTgUJCQyq",
        "colab_type": "code",
        "colab": {
          "base_uri": "https://localhost:8080/",
          "height": 283
        },
        "outputId": "c9225419-65d1-4549-ca34-d955068900f0"
      },
      "source": [
        "#마커 사용법 plot 함수 마지막에 색과 마커 모양 지정\n",
        "import numpy as n\n",
        "x = np.random.uniform(0,2,50)\n",
        "y = np.random.uniform(0,2,50)\n",
        "plt.scatter(x,y, color='blue', marker='^')\n"
      ],
      "execution_count": null,
      "outputs": [
        {
          "output_type": "execute_result",
          "data": {
            "text/plain": [
              "<matplotlib.collections.PathCollection at 0x7f3d42b7ac18>"
            ]
          },
          "metadata": {
            "tags": []
          },
          "execution_count": 21
        },
        {
          "output_type": "display_data",
          "data": {
            "image/png": "[encoded data removed]",
            "text/plain": [
              "<Figure size 432x288 with 1 Axes>"
            ]
          },
          "metadata": {
            "tags": []
          }
        }
      ]
    },
    {
      "cell_type": "markdown",
      "metadata": {
        "id": "gNkqYcnmICjm",
        "colab_type": "text"
      },
      "source": [
        "![image.png](data:image/png;base64,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)"
      ]
    },
    {
      "cell_type": "code",
      "metadata": {
        "id": "QxXD8ouIE5xF",
        "colab_type": "code",
        "colab": {
          "base_uri": "https://localhost:8080/",
          "height": 286
        },
        "outputId": "7713e5e2-14a6-4461-f5d7-8754dc5803e0"
      },
      "source": [
        "#중첩도 가능합니다\n",
        "x = np.arange(0, 100, 2)\n",
        "y = x*x\n",
        "plt.plot(x, y,color='orange')\n",
        "x1 = np.random.uniform(0,100,50)\n",
        "y1 = np.random.uniform(0,y.max(),50)\n",
        "plt.scatter(x1,y1, color='purple', marker='*')\n",
        "x2 = np.arange(0, 100, 2)\n",
        "y2 = np.random.uniform(y.min(),y.max(),len(x1)) # random한 수 추출\n",
        "plt.bar(x2,y2, color='green')"
      ],
      "execution_count": null,
      "outputs": [
        {
          "output_type": "execute_result",
          "data": {
            "text/plain": [
              "<BarContainer object of 50 artists>"
            ]
          },
          "metadata": {
            "tags": []
          },
          "execution_count": 23
        },
        {
          "output_type": "display_data",
          "data": {
            "image/png": "[encoded data removed]",
            "text/plain": [
              "<Figure size 432x288 with 1 Axes>"
            ]
          },
          "metadata": {
            "tags": []
          }
        }
      ]
    },
    {
      "cell_type": "code",
      "metadata": {
        "id": "TwfUFazLYHeg",
        "colab_type": "code",
        "colab": {
          "base_uri": "https://localhost:8080/",
          "height": 483
        },
        "outputId": "b0e11b01-bbc0-40a7-a69f-7f297ab22cde"
      },
      "source": [
        "# n 개의 그래프 찍어내기-> Figure 객체 생성해야함!\n",
        "\n",
        "x = np.arange(0.0, 2 * np.pi, 0.1)\n",
        "sin_y = np.sin(x)\n",
        "cos_y = np.cos(x)\n",
        "\n",
        "fig = plt.figure(figsize=(12,8))\n",
        "ax1 = fig.add_subplot(2, 1, 1)\n",
        "ax2 = fig.add_subplot(2, 1, 2)\n",
        "\n",
        "ax1.plot(x, sin_y, 'b--')\n",
        "ax2.plot(x, cos_y, 'r--')\n",
        "\n",
        "plt.show()"
      ],
      "execution_count": null,
      "outputs": [
        {
          "output_type": "display_data",
          "data": {
            "image/png": "[encoded data removed]",
            "text/plain": [
              "<Figure size 864x576 with 2 Axes>"
            ]
          },
          "metadata": {
            "tags": []
          }
        }
      ]
    },
    {
      "cell_type": "code",
      "metadata": {
        "id": "gf6r_zLEPsFf",
        "colab_type": "code",
        "colab": {
          "base_uri": "https://localhost:8080/",
          "height": 487
        },
        "outputId": "82fd9b1e-58da-4c53-9a9a-8786837fe8d7"
      },
      "source": [
        "# 창의 크기를 다르게 하고 싶을 때\n",
        "fig = plt.figure(figsize=(12, 8))\n",
        "a1 = plt.subplot2grid((4,4), (0,0), rowspan=2, colspan=2)\n",
        "a2 = plt.subplot2grid((4,4), (0,2), rowspan=2, colspan=2)\n",
        "a3 = plt.subplot2grid((4,4), (2,0), rowspan=2, colspan=4)\n",
        "plt.show()"
      ],
      "execution_count": null,
      "outputs": [
        {
          "output_type": "display_data",
          "data": {
            "image/png": "[encoded data removed]",
            "text/plain": [
              "<Figure size 864x576 with 3 Axes>"
            ]
          },
          "metadata": {
            "tags": []
          }
        }
      ]
    },
    {
      "cell_type": "markdown",
      "metadata": {
        "colab_type": "text",
        "id": "oNwYbDZV4rVc"
      },
      "source": [
        ">데이터를 가져와서 작업해 보아요!\n",
        "---\n",
        "\n",
        "[데이터를 가져오는 대표적인 방법]\n",
        "\n",
        "-원하는 데이터가 담긴 엑셀 파일을 다운\n",
        "\n",
        "-금융 데이터 수집 라이브러리 이용(가격 정보)\n",
        "\n",
        "**-웹크롤링**"
      ]
    },
    {
      "cell_type": "code",
      "metadata": {
        "id": "noCX7DH7XIiG",
        "colab_type": "code",
        "colab": {}
      },
      "source": [
        "#필요한 모듈, 라이브러리 import\n",
        "import pandas as pd\n",
        "import numpy as np\n",
        "import matplotlib.pyplot as plt\n",
        "import requests\n",
        "import bs4"
      ],
      "execution_count": null,
      "outputs": []
    },
    {
      "cell_type": "code",
      "metadata": {
        "id": "fndhBcHGXS1z",
        "colab_type": "code",
        "colab": {}
      },
      "source": [
        "def price_naver(symbol, timeframe, count):\n",
        "    \n",
        "    #making url\n",
        "    \n",
        "    url_a = 'https://fchart.stock.naver.com/sise.nhn?requestType=0'\n",
        "    url_insert =  url_a+'&symbol='+symbol+'&timeframe='+timeframe+'&count='+count\n",
        "\n",
        "    #convert into bs(beautifulsoup) object\n",
        "    \n",
        "    price_raw = requests.get(url_insert)\n",
        "    price_bs = bs4.BeautifulSoup(price_raw.text, 'lxml')\n",
        "    price_list = price_bs.find_all('item')\n",
        "    \n",
        "    #empty sheets\n",
        "    \n",
        "    date_list = []\n",
        "    open_list = []\n",
        "    high_list = []\n",
        "    low_list = []\n",
        "    close_list = []\n",
        "    volume_list = []\n",
        "    \n",
        "    #split the data into date/open/high/low/close/volume\n",
        "    #close - 차트에서 끌어오기 때문에 수정종가로 자동반영\n",
        "    \n",
        "    for piece in price_list:\n",
        "        temp = piece['data']\n",
        "        dp = temp.split('|')\n",
        "        \n",
        "        date_list.append(dp[0])\n",
        "        open_list.append(dp[1])\n",
        "        high_list.append(dp[2])\n",
        "        low_list.append(dp[3])\n",
        "        close_list.append(dp[4])\n",
        "        volume_list.append(dp[5])\n",
        "    \n",
        "    #dataframe으로 합치기\n",
        "    \n",
        "    dp_to_df = pd.DataFrame({'open': open_list, 'high': high_list, 'low': low_list, 'close': close_list, 'vol': volume_list}, index=date_list)\n",
        "    dp_to_df = dp_to_df.astype(float)\n",
        "    \n",
        "    return dp_to_df"
      ],
      "execution_count": null,
      "outputs": []
    },
    {
      "cell_type": "markdown",
      "metadata": {
        "id": "n6glMJvmqQmu",
        "colab_type": "text"
      },
      "source": [
        "ㄴ크롤링 사이트 정보에 대한 코멘트 \n",
        "\n",
        "\n",
        "\n",
        "\n",
        "```\n",
        "네이버 증권-> 개별 종목 페이지-> 차트에 로드된 데이터를 가져온 것입니다. \n",
        "\n",
        "개별 종목 차트 페이지에서 개발자 도구(f12)-> Network 들어가시면 아래 쪽에 https://fchart.stock.naver.com/sise.nhn?symbol=종목코드&timeframe=day&count=500&requestType=0 이 있고\n",
        "\n",
        " 이 안에 데이터가 \"일자 | 시가 | 고가 | 저가 | 종가 | 거래량 \" 형식의 문자열로 바인딩되어 있는 것을 확인할 수 있습니다.\n",
        "```\n",
        "\n",
        "\n",
        "\n",
        "\n"
      ]
    },
    {
      "cell_type": "code",
      "metadata": {
        "id": "jTI2SaJnXgxN",
        "colab_type": "code",
        "colab": {}
      },
      "source": [
        "sk_raw = price_naver('069500', 'day', '1000')\n"
      ],
      "execution_count": null,
      "outputs": []
    },
    {
      "cell_type": "code",
      "metadata": {
        "id": "jFI8nhnTXt6B",
        "colab_type": "code",
        "colab": {
          "base_uri": "https://localhost:8080/",
          "height": 35
        },
        "outputId": "96083d16-30b0-4dab-d0b3-b7115e748d69"
      },
      "source": [
        "type(sk_raw)"
      ],
      "execution_count": null,
      "outputs": [
        {
          "output_type": "execute_result",
          "data": {
            "text/plain": [
              "pandas.core.frame.DataFrame"
            ]
          },
          "metadata": {
            "tags": []
          },
          "execution_count": 40
        }
      ]
    },
    {
      "cell_type": "code",
      "metadata": {
        "id": "u8cT19RAXxy2",
        "colab_type": "code",
        "colab": {
          "base_uri": "https://localhost:8080/",
          "height": 197
        },
        "outputId": "5cea8f51-b507-43bc-a336-421d0d777c3b"
      },
      "source": [
        "sk_raw.head()"
      ],
      "execution_count": null,
      "outputs": [
        {
          "output_type": "execute_result",
          "data": {
            "text/html": [
              "<div>\n",
              "<style scoped>\n",
              "    .dataframe tbody tr th:only-of-type {\n",
              "        vertical-align: middle;\n",
              "    }\n",
              "\n",
              "    .dataframe tbody tr th {\n",
              "        vertical-align: top;\n",
              "    }\n",
              "\n",
              "    .dataframe thead th {\n",
              "        text-align: right;\n",
              "    }\n",
              "</style>\n",
              "<table border=\"1\" class=\"dataframe\">\n",
              "  <thead>\n",
              "    <tr style=\"text-align: right;\">\n",
              "      <th></th>\n",
              "      <th>open</th>\n",
              "      <th>high</th>\n",
              "      <th>low</th>\n",
              "      <th>close</th>\n",
              "      <th>vol</th>\n",
              "    </tr>\n",
              "  </thead>\n",
              "  <tbody>\n",
              "    <tr>\n",
              "      <th>20160502</th>\n",
              "      <td>22522.0</td>\n",
              "      <td>22527.0</td>\n",
              "      <td>22383.0</td>\n",
              "      <td>22403.0</td>\n",
              "      <td>4681049.0</td>\n",
              "    </tr>\n",
              "    <tr>\n",
              "      <th>20160503</th>\n",
              "      <td>22490.0</td>\n",
              "      <td>22508.0</td>\n",
              "      <td>22406.0</td>\n",
              "      <td>22472.0</td>\n",
              "      <td>4827054.0</td>\n",
              "    </tr>\n",
              "    <tr>\n",
              "      <th>20160504</th>\n",
              "      <td>22360.0</td>\n",
              "      <td>22420.0</td>\n",
              "      <td>22286.0</td>\n",
              "      <td>22357.0</td>\n",
              "      <td>4394388.0</td>\n",
              "    </tr>\n",
              "    <tr>\n",
              "      <th>20160509</th>\n",
              "      <td>22351.0</td>\n",
              "      <td>22388.0</td>\n",
              "      <td>22268.0</td>\n",
              "      <td>22319.0</td>\n",
              "      <td>5981643.0</td>\n",
              "    </tr>\n",
              "    <tr>\n",
              "      <th>20160510</th>\n",
              "      <td>22268.0</td>\n",
              "      <td>22402.0</td>\n",
              "      <td>22258.0</td>\n",
              "      <td>22407.0</td>\n",
              "      <td>3887521.0</td>\n",
              "    </tr>\n",
              "  </tbody>\n",
              "</table>\n",
              "</div>"
            ],
            "text/plain": [
              "             open     high      low    close        vol\n",
              "20160502  22522.0  22527.0  22383.0  22403.0  4681049.0\n",
              "20160503  22490.0  22508.0  22406.0  22472.0  4827054.0\n",
              "20160504  22360.0  22420.0  22286.0  22357.0  4394388.0\n",
              "20160509  22351.0  22388.0  22268.0  22319.0  5981643.0\n",
              "20160510  22268.0  22402.0  22258.0  22407.0  3887521.0"
            ]
          },
          "metadata": {
            "tags": []
          },
          "execution_count": 4
        }
      ]
    },
    {
      "cell_type": "code",
      "metadata": {
        "id": "RXINXIKaX6Y3",
        "colab_type": "code",
        "colab": {}
      },
      "source": [
        "ma5 = pd.DataFrame(sk_raw['close'].rolling(window=5).mean())\n",
        "ma20 = pd.DataFrame(sk_raw['close'].rolling(window=20).mean())\n",
        "ma60 = pd.DataFrame(sk_raw['close'].rolling(window=60).mean())\n",
        "ma120 = pd.DataFrame(sk_raw['close'].rolling(window=120).mean())\n",
        "sk_raw['5일']=  ma5\n",
        "sk_raw['20일']=  ma20\n",
        "sk_raw['60일']=  ma60\n",
        "sk_raw['120일']=  ma120"
      ],
      "execution_count": null,
      "outputs": []
    },
    {
      "cell_type": "code",
      "metadata": {
        "id": "TskDxwWxZuej",
        "colab_type": "code",
        "colab": {}
      },
      "source": [
        "sk_ret = sk_raw.close.pct_change()[1:]"
      ],
      "execution_count": null,
      "outputs": []
    },
    {
      "cell_type": "code",
      "metadata": {
        "id": "nTFP6AreY9uR",
        "colab_type": "code",
        "colab": {}
      },
      "source": [
        "sk_raw['sk_ret']=sk_ret"
      ],
      "execution_count": null,
      "outputs": []
    },
    {
      "cell_type": "code",
      "metadata": {
        "id": "2PPCniE990du",
        "colab_type": "code",
        "colab": {
          "base_uri": "https://localhost:8080/",
          "height": 419
        },
        "outputId": "92b1540b-0178-4813-e685-b2ed5a2c2c47"
      },
      "source": [
        "sk_raw"
      ],
      "execution_count": null,
      "outputs": [
        {
          "output_type": "execute_result",
          "data": {
            "text/html": [
              "<div>\n",
              "<style scoped>\n",
              "    .dataframe tbody tr th:only-of-type {\n",
              "        vertical-align: middle;\n",
              "    }\n",
              "\n",
              "    .dataframe tbody tr th {\n",
              "        vertical-align: top;\n",
              "    }\n",
              "\n",
              "    .dataframe thead th {\n",
              "        text-align: right;\n",
              "    }\n",
              "</style>\n",
              "<table border=\"1\" class=\"dataframe\">\n",
              "  <thead>\n",
              "    <tr style=\"text-align: right;\">\n",
              "      <th></th>\n",
              "      <th>open</th>\n",
              "      <th>high</th>\n",
              "      <th>low</th>\n",
              "      <th>close</th>\n",
              "      <th>vol</th>\n",
              "      <th>5일</th>\n",
              "      <th>20일</th>\n",
              "      <th>60일</th>\n",
              "      <th>120일</th>\n",
              "      <th>sk_ret</th>\n",
              "    </tr>\n",
              "  </thead>\n",
              "  <tbody>\n",
              "    <tr>\n",
              "      <th>20160303</th>\n",
              "      <td>97400.0</td>\n",
              "      <td>101900.0</td>\n",
              "      <td>96300.0</td>\n",
              "      <td>101500.0</td>\n",
              "      <td>633883.0</td>\n",
              "      <td>NaN</td>\n",
              "      <td>NaN</td>\n",
              "      <td>NaN</td>\n",
              "      <td>NaN</td>\n",
              "      <td>NaN</td>\n",
              "    </tr>\n",
              "    <tr>\n",
              "      <th>20160304</th>\n",
              "      <td>102400.0</td>\n",
              "      <td>104600.0</td>\n",
              "      <td>101300.0</td>\n",
              "      <td>103800.0</td>\n",
              "      <td>562840.0</td>\n",
              "      <td>NaN</td>\n",
              "      <td>NaN</td>\n",
              "      <td>NaN</td>\n",
              "      <td>NaN</td>\n",
              "      <td>0.022660</td>\n",
              "    </tr>\n",
              "    <tr>\n",
              "      <th>20160307</th>\n",
              "      <td>104100.0</td>\n",
              "      <td>107000.0</td>\n",
              "      <td>104100.0</td>\n",
              "      <td>105900.0</td>\n",
              "      <td>564062.0</td>\n",
              "      <td>NaN</td>\n",
              "      <td>NaN</td>\n",
              "      <td>NaN</td>\n",
              "      <td>NaN</td>\n",
              "      <td>0.020231</td>\n",
              "    </tr>\n",
              "    <tr>\n",
              "      <th>20160308</th>\n",
              "      <td>106600.0</td>\n",
              "      <td>107200.0</td>\n",
              "      <td>104500.0</td>\n",
              "      <td>106200.0</td>\n",
              "      <td>341742.0</td>\n",
              "      <td>NaN</td>\n",
              "      <td>NaN</td>\n",
              "      <td>NaN</td>\n",
              "      <td>NaN</td>\n",
              "      <td>0.002833</td>\n",
              "    </tr>\n",
              "    <tr>\n",
              "      <th>20160309</th>\n",
              "      <td>106000.0</td>\n",
              "      <td>108500.0</td>\n",
              "      <td>105100.0</td>\n",
              "      <td>107800.0</td>\n",
              "      <td>339001.0</td>\n",
              "      <td>105040.0</td>\n",
              "      <td>NaN</td>\n",
              "      <td>NaN</td>\n",
              "      <td>NaN</td>\n",
              "      <td>0.015066</td>\n",
              "    </tr>\n",
              "    <tr>\n",
              "      <th>...</th>\n",
              "      <td>...</td>\n",
              "      <td>...</td>\n",
              "      <td>...</td>\n",
              "      <td>...</td>\n",
              "      <td>...</td>\n",
              "      <td>...</td>\n",
              "      <td>...</td>\n",
              "      <td>...</td>\n",
              "      <td>...</td>\n",
              "      <td>...</td>\n",
              "    </tr>\n",
              "    <tr>\n",
              "      <th>20200323</th>\n",
              "      <td>138000.0</td>\n",
              "      <td>148000.0</td>\n",
              "      <td>137500.0</td>\n",
              "      <td>143500.0</td>\n",
              "      <td>1569378.0</td>\n",
              "      <td>143100.0</td>\n",
              "      <td>164850.0</td>\n",
              "      <td>166150.000000</td>\n",
              "      <td>156258.333333</td>\n",
              "      <td>-0.040134</td>\n",
              "    </tr>\n",
              "    <tr>\n",
              "      <th>20200324</th>\n",
              "      <td>150500.0</td>\n",
              "      <td>155000.0</td>\n",
              "      <td>147000.0</td>\n",
              "      <td>154500.0</td>\n",
              "      <td>1271387.0</td>\n",
              "      <td>144500.0</td>\n",
              "      <td>163300.0</td>\n",
              "      <td>166283.333333</td>\n",
              "      <td>156416.666667</td>\n",
              "      <td>0.076655</td>\n",
              "    </tr>\n",
              "    <tr>\n",
              "      <th>20200325</th>\n",
              "      <td>160500.0</td>\n",
              "      <td>162500.0</td>\n",
              "      <td>151000.0</td>\n",
              "      <td>154500.0</td>\n",
              "      <td>1290376.0</td>\n",
              "      <td>147200.0</td>\n",
              "      <td>161825.0</td>\n",
              "      <td>166391.666667</td>\n",
              "      <td>156575.000000</td>\n",
              "      <td>0.000000</td>\n",
              "    </tr>\n",
              "    <tr>\n",
              "      <th>20200326</th>\n",
              "      <td>155000.0</td>\n",
              "      <td>156000.0</td>\n",
              "      <td>150000.0</td>\n",
              "      <td>150500.0</td>\n",
              "      <td>893688.0</td>\n",
              "      <td>150500.0</td>\n",
              "      <td>160425.0</td>\n",
              "      <td>166341.666667</td>\n",
              "      <td>156683.333333</td>\n",
              "      <td>-0.025890</td>\n",
              "    </tr>\n",
              "    <tr>\n",
              "      <th>20200327</th>\n",
              "      <td>156500.0</td>\n",
              "      <td>157000.0</td>\n",
              "      <td>149000.0</td>\n",
              "      <td>152500.0</td>\n",
              "      <td>956638.0</td>\n",
              "      <td>151100.0</td>\n",
              "      <td>159450.0</td>\n",
              "      <td>166325.000000</td>\n",
              "      <td>156825.000000</td>\n",
              "      <td>0.013289</td>\n",
              "    </tr>\n",
              "  </tbody>\n",
              "</table>\n",
              "<p>1000 rows × 10 columns</p>\n",
              "</div>"
            ],
            "text/plain": [
              "              open      high       low  ...            60일           120일    sk_ret\n",
              "20160303   97400.0  101900.0   96300.0  ...            NaN            NaN       NaN\n",
              "20160304  102400.0  104600.0  101300.0  ...            NaN            NaN  0.022660\n",
              "20160307  104100.0  107000.0  104100.0  ...            NaN            NaN  0.020231\n",
              "20160308  106600.0  107200.0  104500.0  ...            NaN            NaN  0.002833\n",
              "20160309  106000.0  108500.0  105100.0  ...            NaN            NaN  0.015066\n",
              "...            ...       ...       ...  ...            ...            ...       ...\n",
              "20200323  138000.0  148000.0  137500.0  ...  166150.000000  156258.333333 -0.040134\n",
              "20200324  150500.0  155000.0  147000.0  ...  166283.333333  156416.666667  0.076655\n",
              "20200325  160500.0  162500.0  151000.0  ...  166391.666667  156575.000000  0.000000\n",
              "20200326  155000.0  156000.0  150000.0  ...  166341.666667  156683.333333 -0.025890\n",
              "20200327  156500.0  157000.0  149000.0  ...  166325.000000  156825.000000  0.013289\n",
              "\n",
              "[1000 rows x 10 columns]"
            ]
          },
          "metadata": {
            "tags": []
          },
          "execution_count": 45
        }
      ]
    },
    {
      "cell_type": "code",
      "metadata": {
        "id": "Q72cFTRwZSll",
        "colab_type": "code",
        "colab": {}
      },
      "source": [
        "sk_raw=sk_raw.dropna() # 앞서 pandas에서 다룬 결측치 처리.dropna()!"
      ],
      "execution_count": null,
      "outputs": []
    },
    {
      "cell_type": "code",
      "metadata": {
        "id": "EEQ5ZLo999IP",
        "colab_type": "code",
        "colab": {
          "base_uri": "https://localhost:8080/",
          "height": 419
        },
        "outputId": "4a4b58a0-c0db-46e6-cdea-588180f4c8e5"
      },
      "source": [
        "sk_raw"
      ],
      "execution_count": null,
      "outputs": [
        {
          "output_type": "execute_result",
          "data": {
            "text/html": [
              "<div>\n",
              "<style scoped>\n",
              "    .dataframe tbody tr th:only-of-type {\n",
              "        vertical-align: middle;\n",
              "    }\n",
              "\n",
              "    .dataframe tbody tr th {\n",
              "        vertical-align: top;\n",
              "    }\n",
              "\n",
              "    .dataframe thead th {\n",
              "        text-align: right;\n",
              "    }\n",
              "</style>\n",
              "<table border=\"1\" class=\"dataframe\">\n",
              "  <thead>\n",
              "    <tr style=\"text-align: right;\">\n",
              "      <th></th>\n",
              "      <th>open</th>\n",
              "      <th>high</th>\n",
              "      <th>low</th>\n",
              "      <th>close</th>\n",
              "      <th>vol</th>\n",
              "      <th>5일</th>\n",
              "      <th>20일</th>\n",
              "      <th>60일</th>\n",
              "      <th>120일</th>\n",
              "      <th>sk_ret</th>\n",
              "    </tr>\n",
              "  </thead>\n",
              "  <tbody>\n",
              "    <tr>\n",
              "      <th>20160824</th>\n",
              "      <td>81100.0</td>\n",
              "      <td>83100.0</td>\n",
              "      <td>80700.0</td>\n",
              "      <td>82500.0</td>\n",
              "      <td>696481.0</td>\n",
              "      <td>83420.0</td>\n",
              "      <td>89280.0</td>\n",
              "      <td>92581.666667</td>\n",
              "      <td>97826.666667</td>\n",
              "      <td>0.024845</td>\n",
              "    </tr>\n",
              "    <tr>\n",
              "      <th>20160825</th>\n",
              "      <td>82100.0</td>\n",
              "      <td>83000.0</td>\n",
              "      <td>81000.0</td>\n",
              "      <td>81000.0</td>\n",
              "      <td>346409.0</td>\n",
              "      <td>82280.0</td>\n",
              "      <td>88770.0</td>\n",
              "      <td>92218.333333</td>\n",
              "      <td>97655.833333</td>\n",
              "      <td>-0.018182</td>\n",
              "    </tr>\n",
              "    <tr>\n",
              "      <th>20160826</th>\n",
              "      <td>80500.0</td>\n",
              "      <td>81500.0</td>\n",
              "      <td>80500.0</td>\n",
              "      <td>81000.0</td>\n",
              "      <td>255043.0</td>\n",
              "      <td>81540.0</td>\n",
              "      <td>88240.0</td>\n",
              "      <td>91926.666667</td>\n",
              "      <td>97465.833333</td>\n",
              "      <td>0.000000</td>\n",
              "    </tr>\n",
              "    <tr>\n",
              "      <th>20160829</th>\n",
              "      <td>80800.0</td>\n",
              "      <td>80900.0</td>\n",
              "      <td>79300.0</td>\n",
              "      <td>79300.0</td>\n",
              "      <td>478825.0</td>\n",
              "      <td>80860.0</td>\n",
              "      <td>87660.0</td>\n",
              "      <td>91623.333333</td>\n",
              "      <td>97244.166667</td>\n",
              "      <td>-0.020988</td>\n",
              "    </tr>\n",
              "    <tr>\n",
              "      <th>20160830</th>\n",
              "      <td>79500.0</td>\n",
              "      <td>80800.0</td>\n",
              "      <td>79400.0</td>\n",
              "      <td>80000.0</td>\n",
              "      <td>293565.0</td>\n",
              "      <td>80760.0</td>\n",
              "      <td>87110.0</td>\n",
              "      <td>91323.333333</td>\n",
              "      <td>97025.833333</td>\n",
              "      <td>0.008827</td>\n",
              "    </tr>\n",
              "    <tr>\n",
              "      <th>...</th>\n",
              "      <td>...</td>\n",
              "      <td>...</td>\n",
              "      <td>...</td>\n",
              "      <td>...</td>\n",
              "      <td>...</td>\n",
              "      <td>...</td>\n",
              "      <td>...</td>\n",
              "      <td>...</td>\n",
              "      <td>...</td>\n",
              "      <td>...</td>\n",
              "    </tr>\n",
              "    <tr>\n",
              "      <th>20200323</th>\n",
              "      <td>138000.0</td>\n",
              "      <td>148000.0</td>\n",
              "      <td>137500.0</td>\n",
              "      <td>143500.0</td>\n",
              "      <td>1569378.0</td>\n",
              "      <td>143100.0</td>\n",
              "      <td>164850.0</td>\n",
              "      <td>166150.000000</td>\n",
              "      <td>156258.333333</td>\n",
              "      <td>-0.040134</td>\n",
              "    </tr>\n",
              "    <tr>\n",
              "      <th>20200324</th>\n",
              "      <td>150500.0</td>\n",
              "      <td>155000.0</td>\n",
              "      <td>147000.0</td>\n",
              "      <td>154500.0</td>\n",
              "      <td>1271387.0</td>\n",
              "      <td>144500.0</td>\n",
              "      <td>163300.0</td>\n",
              "      <td>166283.333333</td>\n",
              "      <td>156416.666667</td>\n",
              "      <td>0.076655</td>\n",
              "    </tr>\n",
              "    <tr>\n",
              "      <th>20200325</th>\n",
              "      <td>160500.0</td>\n",
              "      <td>162500.0</td>\n",
              "      <td>151000.0</td>\n",
              "      <td>154500.0</td>\n",
              "      <td>1290376.0</td>\n",
              "      <td>147200.0</td>\n",
              "      <td>161825.0</td>\n",
              "      <td>166391.666667</td>\n",
              "      <td>156575.000000</td>\n",
              "      <td>0.000000</td>\n",
              "    </tr>\n",
              "    <tr>\n",
              "      <th>20200326</th>\n",
              "      <td>155000.0</td>\n",
              "      <td>156000.0</td>\n",
              "      <td>150000.0</td>\n",
              "      <td>150500.0</td>\n",
              "      <td>893688.0</td>\n",
              "      <td>150500.0</td>\n",
              "      <td>160425.0</td>\n",
              "      <td>166341.666667</td>\n",
              "      <td>156683.333333</td>\n",
              "      <td>-0.025890</td>\n",
              "    </tr>\n",
              "    <tr>\n",
              "      <th>20200327</th>\n",
              "      <td>156500.0</td>\n",
              "      <td>157000.0</td>\n",
              "      <td>149000.0</td>\n",
              "      <td>152500.0</td>\n",
              "      <td>956638.0</td>\n",
              "      <td>151100.0</td>\n",
              "      <td>159450.0</td>\n",
              "      <td>166325.000000</td>\n",
              "      <td>156825.000000</td>\n",
              "      <td>0.013289</td>\n",
              "    </tr>\n",
              "  </tbody>\n",
              "</table>\n",
              "<p>881 rows × 10 columns</p>\n",
              "</div>"
            ],
            "text/plain": [
              "              open      high       low  ...            60일           120일    sk_ret\n",
              "20160824   81100.0   83100.0   80700.0  ...   92581.666667   97826.666667  0.024845\n",
              "20160825   82100.0   83000.0   81000.0  ...   92218.333333   97655.833333 -0.018182\n",
              "20160826   80500.0   81500.0   80500.0  ...   91926.666667   97465.833333  0.000000\n",
              "20160829   80800.0   80900.0   79300.0  ...   91623.333333   97244.166667 -0.020988\n",
              "20160830   79500.0   80800.0   79400.0  ...   91323.333333   97025.833333  0.008827\n",
              "...            ...       ...       ...  ...            ...            ...       ...\n",
              "20200323  138000.0  148000.0  137500.0  ...  166150.000000  156258.333333 -0.040134\n",
              "20200324  150500.0  155000.0  147000.0  ...  166283.333333  156416.666667  0.076655\n",
              "20200325  160500.0  162500.0  151000.0  ...  166391.666667  156575.000000  0.000000\n",
              "20200326  155000.0  156000.0  150000.0  ...  166341.666667  156683.333333 -0.025890\n",
              "20200327  156500.0  157000.0  149000.0  ...  166325.000000  156825.000000  0.013289\n",
              "\n",
              "[881 rows x 10 columns]"
            ]
          },
          "metadata": {
            "tags": []
          },
          "execution_count": 47
        }
      ]
    },
    {
      "cell_type": "code",
      "metadata": {
        "id": "eUYjitxFZWNB",
        "colab_type": "code",
        "colab": {
          "base_uri": "https://localhost:8080/",
          "height": 375
        },
        "outputId": "50f5e466-5d2f-4e76-e81f-2671cdfaef3d"
      },
      "source": [
        "fig = plt.figure(figsize=(20, 10))\n",
        "pr_line = plt.subplot2grid((4,4), (0,0), rowspan=3, colspan=4,)\n",
        "vol_bar = plt.subplot2grid((4,4), (3,0), rowspan=1, colspan=4)\n",
        "#이평선\n",
        "pr_line.plot(sk_raw.index, sk_raw['5일'], label='MA5')\n",
        "pr_line.plot(sk_raw.index, sk_raw['20일'], label='MA20')\n",
        "pr_line.plot(sk_raw.index, sk_raw['60일'], label='MA60')\n",
        "pr_line.plot(sk_raw.index, sk_raw['120일'], label='MA120',color='purple' )\n",
        "\n",
        "#캔들\n",
        "pr_line.bar( sk_raw.index, height=sk_raw['close']-sk_raw['open'], bottom=sk_raw['open'], width=1, color= list(map(lambda c: 'red' if c >0 else 'blue', sk_raw['sk_ret'])))\n",
        "pr_line.vlines( sk_raw.index, sk_raw['low'], sk_raw['high'],  color= list(map(lambda c: 'red' if c >0 else 'blue', sk_raw['sk_ret'])))\n",
        "#matplotlib.pyplot.vlines(x, ymin, ymax) vertical line을 그려주어요!\n",
        "\n",
        "'''\n",
        "-color에 들어간 함수의 의미: +인 날은 빨간색으로 -인 날은 파란색으로 표시하도록 하는 함수를 sk_raw['sk_ret']에 모두 적용하고 list로 반환\n",
        "-lambda는 함수를 한 줄로 정의하여 바로 실행할 수 있게 해줍니다.\n",
        "  형태\n",
        "  lambda 인수 : 리턴값을 도출하는 방식을 정의\n",
        "-map은 반복가능한 자료형을 입력으로 받아, 지정된 함수로 처리해서 반환합니다.\n",
        "  형태\n",
        "  map(함수,반복 가능한 자료형)\n",
        "\n",
        "'''\n",
        "vol_bar.bar(sk_raw.index,  sk_raw['vol'])\n",
        "#plt.legend(loc='best')\n",
        "plt.show()\n",
        "\n"
      ],
      "execution_count": null,
      "outputs": [
        {
          "output_type": "display_data",
          "data": {
            "image/png": "[encoded data removed]",
            "text/plain": [
              "<Figure size 1440x720 with 2 Axes>"
            ]
          },
          "metadata": {
            "tags": []
          }
        }
      ]
    },
    {
      "cell_type": "markdown",
      "metadata": {
        "id": "gOcRChh-XZHx",
        "colab_type": "text"
      },
      "source": [
        "**고생하셨습니다 :)**\n",
        ">참고 자료: \n",
        "\n",
        "모두를 위한 파이썬 프로그래밍 강의 자료\n",
        "\n",
        "파이썬으로 배우는 알고리즘 트레이딩 https://wikidocs.net/book/110\n",
        "\n",
        "지난 학기 세션   "
      ]
    }
  ]
}