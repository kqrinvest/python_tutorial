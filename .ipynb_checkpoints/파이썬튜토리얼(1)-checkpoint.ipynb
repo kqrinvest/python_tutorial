{
 "cells": [
  {
   "cell_type": "markdown",
   "metadata": {
    "colab_type": "text",
    "id": "v4jzH5OcpW7s"
   },
   "source": [
    ">colab에서 작성되었습니다! \n",
    "\n",
    "\n",
    "setting: 런타임-> 런타임 유형->하드웨어 가속기 :GPU \n",
    "\n"
   ]
  },
  {
   "cell_type": "code",
   "execution_count": 1,
   "metadata": {
    "colab": {
     "base_uri": "https://localhost:8080/",
     "height": 34
    },
    "colab_type": "code",
    "id": "FxNRpm5xpG25",
    "outputId": "68694b34-7a4f-47a8-dcf8-65fdbdd65600"
   },
   "outputs": [
    {
     "name": "stdout",
     "output_type": "stream",
     "text": [
      "test\n"
     ]
    }
   ],
   "source": [
    "print(\"test\")"
   ]
  },
  {
   "cell_type": "markdown",
   "metadata": {
    "colab_type": "text",
    "id": "u6MQmcmgvXr6"
   },
   "source": [
    "# **변수, 자료형**\n",
    "\n",
    "\n",
    "\n",
    "\n",
    "\n"
   ]
  },
  {
   "cell_type": "code",
   "execution_count": 2,
   "metadata": {
    "colab": {},
    "colab_type": "code",
    "id": "UFJp_9QZqPC4"
   },
   "outputs": [],
   "source": [
    "# 변수 선언\n",
    "name = \"삼성전자\"\n",
    "stock_price = 47800\n",
    "등락률 = -1.75\n",
    "buy = False\n"
   ]
  },
  {
   "cell_type": "code",
   "execution_count": null,
   "metadata": {
    "colab": {
     "base_uri": "https://localhost:8080/",
     "height": 34
    },
    "colab_type": "code",
    "id": "AAlB1fa1J76i",
    "outputId": "efcc722d-39e6-4f5f-b8e0-b2be0ba4ac37"
   },
   "outputs": [
    {
     "data": {
      "text/plain": [
       "140483051310280"
      ]
     },
     "execution_count": 2,
     "metadata": {
      "tags": []
     },
     "output_type": "execute_result"
    }
   ],
   "source": [
    "id(name)"
   ]
  },
  {
   "cell_type": "code",
   "execution_count": 3,
   "metadata": {
    "colab": {
     "base_uri": "https://localhost:8080/",
     "height": 142
    },
    "colab_type": "code",
    "id": "wMeD3pl_uDqQ",
    "outputId": "0134649e-d1ac-4f19-bab6-df36e9534460"
   },
   "outputs": [
    {
     "name": "stdout",
     "output_type": "stream",
     "text": [
      "<class 'str'>\n",
      "<class 'int'>\n",
      "<class 'float'>\n",
      "<class 'bool'>\n",
      "<class 'list'>\n",
      "<class 'dict'>\n",
      "<class 'tuple'>\n"
     ]
    }
   ],
   "source": [
    "# 자료형 확인\n",
    "print(type(name))\n",
    "print(type(stock_price))\n",
    "print(type(등락률))\n",
    "print(type(buy))\n",
    "print(type([]))\n",
    "print(type({})) \n",
    "print(type(())) "
   ]
  },
  {
   "cell_type": "code",
   "execution_count": 6,
   "metadata": {
    "colab": {
     "base_uri": "https://localhost:8080/",
     "height": 34
    },
    "colab_type": "code",
    "id": "m8NLVfgEUZr-",
    "outputId": "5b08084a-7114-4cdf-f721-a8585fe5d718"
   },
   "outputs": [
    {
     "name": "stdout",
     "output_type": "stream",
     "text": [
      "아무 숫자나 입력해주세요.12.232\n"
     ]
    }
   ],
   "source": [
    "#형변환\n",
    "i=input(\"아무 숫자나 입력해주세요.\")"
   ]
  },
  {
   "cell_type": "code",
   "execution_count": 7,
   "metadata": {},
   "outputs": [
    {
     "data": {
      "text/plain": [
       "'12.232'"
      ]
     },
     "execution_count": 7,
     "metadata": {},
     "output_type": "execute_result"
    }
   ],
   "source": [
    "i"
   ]
  },
  {
   "cell_type": "code",
   "execution_count": null,
   "metadata": {
    "colab": {
     "base_uri": "https://localhost:8080/",
     "height": 34
    },
    "colab_type": "code",
    "id": "yTPvXus0V-yk",
    "outputId": "48dfc5cd-93f1-475b-c26d-805be1cd166f"
   },
   "outputs": [
    {
     "name": "stdout",
     "output_type": "stream",
     "text": [
      "<class 'str'>\n"
     ]
    }
   ],
   "source": [
    "print(type(i))"
   ]
  },
  {
   "cell_type": "code",
   "execution_count": null,
   "metadata": {
    "colab": {
     "base_uri": "https://localhost:8080/",
     "height": 34
    },
    "colab_type": "code",
    "id": "Q70Zi6rcWCrf",
    "outputId": "cf543910-4e61-4d42-eef8-54a6d9f62681"
   },
   "outputs": [
    {
     "name": "stdout",
     "output_type": "stream",
     "text": [
      "<class 'int'>\n"
     ]
    }
   ],
   "source": [
    "i= int(i)\n",
    "print(type(i))"
   ]
  },
  {
   "cell_type": "markdown",
   "metadata": {
    "colab_type": "text",
    "id": "A-NlN_Wczd4-"
   },
   "source": [
    "# **연산자**\n"
   ]
  },
  {
   "cell_type": "code",
   "execution_count": null,
   "metadata": {
    "colab": {},
    "colab_type": "code",
    "id": "VTejren2zi5c"
   },
   "outputs": [],
   "source": [
    "#산술 연산자\n",
    "a = 20\n",
    "b = 3\n",
    "c = a+b\n",
    "d = a*b\n",
    "e = a/b\n",
    "f = a%b"
   ]
  },
  {
   "cell_type": "code",
   "execution_count": null,
   "metadata": {
    "colab": {
     "base_uri": "https://localhost:8080/",
     "height": 88
    },
    "colab_type": "code",
    "id": "mjigVgjn0hn_",
    "outputId": "8db97c55-b526-4f67-8c6f-0ecac5c4880e"
   },
   "outputs": [
    {
     "name": "stdout",
     "output_type": "stream",
     "text": [
      "23\n",
      "60\n",
      "6.666666666666667\n",
      "2\n"
     ]
    }
   ],
   "source": [
    "print(c)\n",
    "print(d)\n",
    "print(e)\n",
    "print(f)"
   ]
  },
  {
   "cell_type": "code",
   "execution_count": null,
   "metadata": {
    "colab": {
     "base_uri": "https://localhost:8080/",
     "height": 34
    },
    "colab_type": "code",
    "id": "9QNy9om4zwTF",
    "outputId": "22ca6f77-a350-46bd-b2b6-1d924020b6d0"
   },
   "outputs": [
    {
     "data": {
      "text/plain": [
       "13"
      ]
     },
     "execution_count": 13,
     "metadata": {
      "tags": []
     },
     "output_type": "execute_result"
    }
   ],
   "source": [
    "#복합 연산자: 대입 연산자와 다른 연산자가 묶여서 정의된 형태\n",
    "a =10\n",
    "a = a+3\n",
    "a"
   ]
  },
  {
   "cell_type": "code",
   "execution_count": null,
   "metadata": {
    "colab": {
     "base_uri": "https://localhost:8080/",
     "height": 34
    },
    "colab_type": "code",
    "id": "S2e9qdV42Ug9",
    "outputId": "1324a7d8-7665-4958-f3da-8530ded4969c"
   },
   "outputs": [
    {
     "data": {
      "text/plain": [
       "13"
      ]
     },
     "execution_count": 12,
     "metadata": {
      "tags": []
     },
     "output_type": "execute_result"
    }
   ],
   "source": [
    "#위의 코드에 복합 연산자를 적용하면 다음과 같음 \n",
    "a =10\n",
    "a +=3\n",
    "a"
   ]
  },
  {
   "cell_type": "code",
   "execution_count": null,
   "metadata": {
    "colab": {
     "base_uri": "https://localhost:8080/",
     "height": 106
    },
    "colab_type": "code",
    "id": "K1yeSbJpaqB3",
    "outputId": "b3ff35dc-7fae-4740-cd7d-1547c6056283"
   },
   "outputs": [
    {
     "name": "stdout",
     "output_type": "stream",
     "text": [
      "False\n",
      "True\n",
      "False\n",
      "False\n",
      "True\n"
     ]
    }
   ],
   "source": [
    "#관계 연산자:같다, 같지 않다, 작다, 크다 판단-> 조건문에서 많이 쓰임!\n",
    "a= 10\n",
    "b= 14\n",
    "print(a==b)\n",
    "print(a!=b)\n",
    "print(a>b)\n",
    "print(a>=b)\n",
    "print(a<=b)"
   ]
  },
  {
   "cell_type": "code",
   "execution_count": null,
   "metadata": {
    "colab": {
     "base_uri": "https://localhost:8080/",
     "height": 88
    },
    "colab_type": "code",
    "id": "8x1xc_VvbgDe",
    "outputId": "3c91ca4e-cf21-49bf-bdbd-393e8eb0cbc8"
   },
   "outputs": [
    {
     "name": "stdout",
     "output_type": "stream",
     "text": [
      "True\n",
      "False\n",
      "True\n",
      "True\n"
     ]
    }
   ],
   "source": [
    "#논리 연산자: and, or, not 조건문에서 많이 쓰임!\n",
    "a= 10\n",
    "b= 14\n",
    "print((a==10) and (b==14))\n",
    "print((a==10) and (b!=14))\n",
    "print((a>10) or(b>10))\n",
    "print(not(a>b))\n"
   ]
  },
  {
   "cell_type": "markdown",
   "metadata": {
    "colab_type": "text",
    "id": "3SI4Rl3Q5X9C"
   },
   "source": [
    "# **문자열**"
   ]
  },
  {
   "cell_type": "code",
   "execution_count": null,
   "metadata": {
    "colab": {},
    "colab_type": "code",
    "id": "LMFbkCWT2MMJ"
   },
   "outputs": [],
   "source": [
    "#문자열 연산-> +: 문자열 연결,  *: 문자열 반복\n",
    "a='동학'\n",
    "b='개미'\n",
    "c='운동'\n",
    "d =' 파이팅! '\n",
    "e=(a+b+c)+(d*2)"
   ]
  },
  {
   "cell_type": "code",
   "execution_count": null,
   "metadata": {
    "colab": {
     "base_uri": "https://localhost:8080/",
     "height": 34
    },
    "colab_type": "code",
    "id": "yLHtzmGu2kjn",
    "outputId": "3bf5abc2-ac5c-4c05-f3a1-3a360a99312e"
   },
   "outputs": [
    {
     "name": "stdout",
     "output_type": "stream",
     "text": [
      "동학개미운동 파이팅!  파이팅! \n"
     ]
    }
   ],
   "source": [
    "print(e)"
   ]
  },
  {
   "cell_type": "code",
   "execution_count": null,
   "metadata": {
    "colab": {},
    "colab_type": "code",
    "id": "7EGbP7NU4Hga"
   },
   "outputs": [],
   "source": [
    "#문자열 인덱싱: 문자열은 여러 개의 문자로 구성되어 있기 때문에 인덱싱 가능\n",
    "ex1 = \"naver 주가는 152,500\""
   ]
  },
  {
   "cell_type": "code",
   "execution_count": null,
   "metadata": {
    "colab": {},
    "colab_type": "code",
    "id": "OFCaZqU37ROq"
   },
   "outputs": [],
   "source": [
    "#len() 문자열 길이 계산\n",
    "len(ex1)"
   ]
  },
  {
   "cell_type": "code",
   "execution_count": null,
   "metadata": {
    "colab": {
     "base_uri": "https://localhost:8080/",
     "height": 52
    },
    "colab_type": "code",
    "id": "VE34nZ-o7V0e",
    "outputId": "ec814269-74f8-4818-ae73-bc2fc6c10f7d"
   },
   "outputs": [
    {
     "name": "stdout",
     "output_type": "stream",
     "text": [
      "n\n",
      "na\n"
     ]
    }
   ],
   "source": [
    "#문자 추출\n",
    "print(ex1[0])\n",
    "print(ex1[0]+ex1[1])"
   ]
  },
  {
   "cell_type": "code",
   "execution_count": null,
   "metadata": {
    "colab": {
     "base_uri": "https://localhost:8080/",
     "height": 34
    },
    "colab_type": "code",
    "id": "5cIlGNdW7glw",
    "outputId": "83cd61f9-a291-4e57-e6df-dc7da9616bf6"
   },
   "outputs": [
    {
     "data": {
      "text/plain": [
       "'152,500'"
      ]
     },
     "execution_count": 9,
     "metadata": {
      "tags": []
     },
     "output_type": "execute_result"
    }
   ],
   "source": [
    "#문자열 슬라이싱\n",
    "ex1[10:17]"
   ]
  },
  {
   "cell_type": "code",
   "execution_count": null,
   "metadata": {
    "colab": {
     "base_uri": "https://localhost:8080/",
     "height": 34
    },
    "colab_type": "code",
    "id": "tg668qLI8N_c",
    "outputId": "b2f90fea-f77a-46f2-d0d3-46efefce782b"
   },
   "outputs": [
    {
     "data": {
      "text/plain": [
       "'152,500'"
      ]
     },
     "execution_count": 10,
     "metadata": {
      "tags": []
     },
     "output_type": "execute_result"
    }
   ],
   "source": [
    "ex1[-7:] #-7부터 끝(-1)까지 "
   ]
  },
  {
   "cell_type": "code",
   "execution_count": null,
   "metadata": {
    "colab": {
     "base_uri": "https://localhost:8080/",
     "height": 34
    },
    "colab_type": "code",
    "id": "gWPsgog97Z-S",
    "outputId": "70e1af47-3530-474f-e58e-937f559c0c7e"
   },
   "outputs": [
    {
     "data": {
      "text/plain": [
       "'naver 주가는 152,500'"
      ]
     },
     "execution_count": 11,
     "metadata": {
      "tags": []
     },
     "output_type": "execute_result"
    }
   ],
   "source": [
    "ex1[:]"
   ]
  },
  {
   "cell_type": "code",
   "execution_count": null,
   "metadata": {
    "colab": {
     "base_uri": "https://localhost:8080/",
     "height": 34
    },
    "colab_type": "code",
    "id": "181clKbr8pyT",
    "outputId": "3f80eb9a-662a-4a3b-a6f5-b521163e87dc"
   },
   "outputs": [
    {
     "data": {
      "text/plain": [
       "'152,500'"
      ]
     },
     "execution_count": 12,
     "metadata": {
      "tags": []
     },
     "output_type": "execute_result"
    }
   ],
   "source": [
    "# 다음의 ex2는 연산 가능할까요?\n",
    "ex2=ex1[-7:]\n",
    "ex2"
   ]
  },
  {
   "cell_type": "code",
   "execution_count": null,
   "metadata": {
    "colab": {
     "base_uri": "https://localhost:8080/",
     "height": 34
    },
    "colab_type": "code",
    "id": "NxGCzfvJgimM",
    "outputId": "d6153432-5013-446f-e79b-1ef8579e1344"
   },
   "outputs": [
    {
     "name": "stdout",
     "output_type": "stream",
     "text": [
      "<class 'str'>\n"
     ]
    }
   ],
   "source": [
    "#문자열이어서 형변환하려 했는데 안된다?\n",
    "print(type(ex2))\n"
   ]
  },
  {
   "cell_type": "code",
   "execution_count": null,
   "metadata": {
    "colab": {
     "base_uri": "https://localhost:8080/",
     "height": 34
    },
    "colab_type": "code",
    "id": "XA0tFcIU9KIh",
    "outputId": "99e6860f-410a-4a23-a6cc-1048dac3217e"
   },
   "outputs": [
    {
     "data": {
      "text/plain": [
       "'152500'"
      ]
     },
     "execution_count": 36,
     "metadata": {
      "tags": []
     },
     "output_type": "execute_result"
    }
   ],
   "source": [
    "#문자열 수정 replace 메소드\n",
    "ex3 = ex2.replace(',','')\n",
    "ex3"
   ]
  },
  {
   "cell_type": "code",
   "execution_count": null,
   "metadata": {
    "colab": {
     "base_uri": "https://localhost:8080/",
     "height": 34
    },
    "colab_type": "code",
    "id": "u9N5B6kN9oya",
    "outputId": "3f1e8e22-1664-40a0-96f8-4fab195830ae"
   },
   "outputs": [
    {
     "data": {
      "text/plain": [
       "'152500152500'"
      ]
     },
     "execution_count": 37,
     "metadata": {
      "tags": []
     },
     "output_type": "execute_result"
    }
   ],
   "source": [
    "ex3*2"
   ]
  },
  {
   "cell_type": "code",
   "execution_count": null,
   "metadata": {
    "colab": {
     "base_uri": "https://localhost:8080/",
     "height": 52
    },
    "colab_type": "code",
    "id": "icN-fkHc9kXC",
    "outputId": "2dbacbed-6ea2-4e04-e19a-bc8d5701264f"
   },
   "outputs": [
    {
     "name": "stdout",
     "output_type": "stream",
     "text": [
      "152500\n",
      "<class 'int'>\n"
     ]
    }
   ],
   "source": [
    "ex4=int(ex3)\n",
    "print(ex4)\n",
    "print(type(ex4))"
   ]
  },
  {
   "cell_type": "code",
   "execution_count": null,
   "metadata": {
    "colab": {
     "base_uri": "https://localhost:8080/",
     "height": 34
    },
    "colab_type": "code",
    "id": "AvXz1qE5-E74",
    "outputId": "8c726ace-f75c-409f-e705-8a498df16024"
   },
   "outputs": [
    {
     "data": {
      "text/plain": [
       "305000"
      ]
     },
     "execution_count": 39,
     "metadata": {
      "tags": []
     },
     "output_type": "execute_result"
    }
   ],
   "source": [
    "ex4*2"
   ]
  },
  {
   "cell_type": "code",
   "execution_count": null,
   "metadata": {
    "colab": {
     "base_uri": "https://localhost:8080/",
     "height": 34
    },
    "colab_type": "code",
    "id": "u8yYCBarii95",
    "outputId": "48445561-c540-41f4-91b1-c9954b41af45"
   },
   "outputs": [
    {
     "data": {
      "text/plain": [
       "['naver', '주가는', '152,500']"
      ]
     },
     "execution_count": 40,
     "metadata": {
      "tags": []
     },
     "output_type": "execute_result"
    }
   ],
   "source": [
    "#split 메소드: 아래의 코드는 문자열을 띄어쓰기 단위로 쪼개도록 함\n",
    "ex1.split(' ')"
   ]
  },
  {
   "cell_type": "code",
   "execution_count": null,
   "metadata": {
    "colab": {
     "base_uri": "https://localhost:8080/",
     "height": 52
    },
    "colab_type": "code",
    "id": "A-xKK8XR-x8s",
    "outputId": "754cd5a6-d271-48ec-cad9-93accac63a35"
   },
   "outputs": [
    {
     "name": "stdout",
     "output_type": "stream",
     "text": [
      "시가총액 2위는 하이닉스입니다.\n",
      "시가총액 2위는 하이닉스입니다.\n"
     ]
    }
   ],
   "source": [
    "#문자열 포맷팅 내 문자열,숫자,정보 대입\n",
    "\n",
    "#원래라면 문자열 연산 이용\n",
    "n=2\n",
    "hi= '하이닉스'\n",
    "print('시가총액 '+str(n)+'위는 '+hi+'입니다.')\n",
    "#위의 방법은 번거롭다!\n",
    "print('시가총액 {}위는 {}입니다.'.format(2,'하이닉스'))"
   ]
  },
  {
   "cell_type": "code",
   "execution_count": null,
   "metadata": {
    "colab": {
     "base_uri": "https://localhost:8080/",
     "height": 136
    },
    "colab_type": "code",
    "id": "1ePm8CUV3Lze",
    "outputId": "74997f23-ee15-4872-8439-0dfb456e47c1"
   },
   "outputs": [
    {
     "ename": "SyntaxError",
     "evalue": "ignored",
     "output_type": "error",
     "traceback": [
      "\u001b[0;36m  File \u001b[0;32m\"<ipython-input-17-77d1bc9020c8>\"\u001b[0;36m, line \u001b[0;32m1\u001b[0m\n\u001b[0;31m    print(')\u001b[0m\n\u001b[0m            ^\u001b[0m\n\u001b[0;31mSyntaxError\u001b[0m\u001b[0;31m:\u001b[0m EOL while scanning string literal\n"
     ]
    }
   ],
   "source": [
    "#Escape 문자->1.문자열 내에서 다른 의미로 해석된다. 2.출력되는 형식에 영향을준다.\n",
    "print(') #이렇게 하면 에러가 난다는 것을 보여드리기 위해 넣은 코드 \n",
    "print('\\'')\n",
    "print('kqr 5기\\t여러분\\n환영합니다') #탭(\\t)/ 줄바꿈(\\n)\n",
    "\n",
    "\n"
   ]
  },
  {
   "cell_type": "markdown",
   "metadata": {
    "colab_type": "text",
    "id": "LfwTc86BQQJh"
   },
   "source": [
    "# **리스트**\n",
    "여러 개의 데이터를 ‘순서대로’ 저장하고 관리\n",
    "\n",
    "```\n",
    "리스트명 = [요소1, 요소2, 요소3,···]\n",
    "```\n",
    "\n",
    "\n",
    "> 리스트 인덱싱\n",
    "\n",
    "리스트의 인덱스 역시 문자열 인덱스처럼 0부터 시작\n",
    "\n",
    "\n",
    "```\n",
    ">>> price = [9130, 9150, 9150, 9300, 9400]\n",
    ">>> price[0]\n",
    "9130\n",
    ">>> price[1]\n",
    "9150\n",
    ">>> price[-1]\n",
    "9400\n",
    "```\n",
    "\n",
    "\n",
    "> 리스트 슬라이싱\n",
    "\n",
    "\n",
    "```\n",
    ">>> price = [9130, 9150, 9150, 9300, 9400]\n",
    ">>> price[1:4]\n",
    "[9150,9150,9300] \n",
    "```\n",
    "\n",
    "\n",
    " > 자주 쓰이는 메소드\n",
    " \n",
    "```\n",
    "리스트.append(x) : 리스트의 맨 마지막에 x를 추가\n",
    "리스트.insert(a,b) : 리스트의 a번째 위치에 b를 삽입\n",
    "del 리스트명[a] : 리스트의 a번째 요소 값을 삭제\n",
    "리스트.remove(x) : 리스트에서 첫 번째로 나오는 x를 삭제하는 함수\n",
    " 리스트.sort() : 리스트의 요소를 순서대로 정렬\n",
    "```\n",
    "\n",
    "\n",
    "\n",
    "\n",
    "\n",
    "\n",
    "\n",
    "\n",
    "\n",
    "\n",
    "\n",
    "\n"
   ]
  },
  {
   "cell_type": "code",
   "execution_count": null,
   "metadata": {
    "colab": {
     "base_uri": "https://localhost:8080/",
     "height": 52
    },
    "colab_type": "code",
    "id": "fNUZG4owJrXM",
    "outputId": "9670a934-47e4-4b6c-a4d6-9690974d157a"
   },
   "outputs": [
    {
     "name": "stdout",
     "output_type": "stream",
     "text": [
      "6\n",
      "['삼성전자', 'SK하이닉스', '삼성전자우']\n"
     ]
    }
   ],
   "source": [
    "#코스피 시가총액 1위~3위를 출력하고자함\n",
    "kospi_top6 = ['삼성전자', 'SK하이닉스', '삼성전자우', '삼성바이오로직스', 'NAVER','셀트리온']\n",
    "print(len(kospi_top6))\n",
    "kospi_top3 = kospi_top6[:3]\n",
    "print(kospi_top3)"
   ]
  },
  {
   "cell_type": "code",
   "execution_count": null,
   "metadata": {
    "colab": {},
    "colab_type": "code",
    "id": "iRKqNYbeCZhK"
   },
   "outputs": [],
   "source": [
    "kospi_top6.append('LG화학')"
   ]
  },
  {
   "cell_type": "code",
   "execution_count": null,
   "metadata": {
    "colab": {
     "base_uri": "https://localhost:8080/",
     "height": 54
    },
    "colab_type": "code",
    "id": "2upH44X-Ckjq",
    "outputId": "52d698db-f95c-4fff-d800-ccf0788cd774"
   },
   "outputs": [
    {
     "data": {
      "text/plain": [
       "['삼성전자', 'SK하이닉스', '삼성전자우', '삼성바이오로직스', 'NAVER', '셀트리온', 'LG화학']"
      ]
     },
     "execution_count": 51,
     "metadata": {
      "tags": []
     },
     "output_type": "execute_result"
    }
   ],
   "source": [
    "kospi_top6 # 리스트 자체가 변해버림"
   ]
  },
  {
   "cell_type": "code",
   "execution_count": null,
   "metadata": {
    "colab": {},
    "colab_type": "code",
    "id": "UCdRwnrFpk8p"
   },
   "outputs": [],
   "source": []
  },
  {
   "cell_type": "code",
   "execution_count": null,
   "metadata": {
    "colab": {},
    "colab_type": "code",
    "id": "AMiwxkMMCnpJ"
   },
   "outputs": [],
   "source": [
    "kospi_top7=kospi_top6"
   ]
  },
  {
   "cell_type": "code",
   "execution_count": null,
   "metadata": {
    "colab": {},
    "colab_type": "code",
    "id": "g0cKlAOjDbUv"
   },
   "outputs": [],
   "source": [
    "kospi_top7.insert(7, '현대차')"
   ]
  },
  {
   "cell_type": "code",
   "execution_count": null,
   "metadata": {
    "colab": {
     "base_uri": "https://localhost:8080/",
     "height": 54
    },
    "colab_type": "code",
    "id": "omXRM0gIEIN_",
    "outputId": "c5f1ea6c-4247-46aa-bf03-38461e2fc4f9"
   },
   "outputs": [
    {
     "name": "stdout",
     "output_type": "stream",
     "text": [
      "['삼성전자', 'SK하이닉스', '삼성전자우', '삼성바이오로직스', 'NAVER', '셀트리온', 'LG화학', '현대차', '현대차']\n"
     ]
    }
   ],
   "source": [
    "kospi_top8=kospi_top7"
   ]
  },
  {
   "cell_type": "code",
   "execution_count": null,
   "metadata": {
    "colab": {},
    "colab_type": "code",
    "id": "4cjd3KLAphIC"
   },
   "outputs": [],
   "source": [
    "kospi_top8"
   ]
  },
  {
   "cell_type": "code",
   "execution_count": null,
   "metadata": {
    "colab": {},
    "colab_type": "code",
    "id": "6GbsdPH5Dy52"
   },
   "outputs": [],
   "source": [
    "del kospi_top6[-1]"
   ]
  },
  {
   "cell_type": "code",
   "execution_count": null,
   "metadata": {
    "colab": {
     "base_uri": "https://localhost:8080/",
     "height": 54
    },
    "colab_type": "code",
    "id": "HsuY9MnBD_nk",
    "outputId": "addb23f9-b30a-48c2-c865-10755efef1fc"
   },
   "outputs": [
    {
     "data": {
      "text/plain": [
       "['삼성전자', 'SK하이닉스', '삼성전자우', '삼성바이오로직스', 'NAVER', '셀트리온', 'LG화학', '현대차']"
      ]
     },
     "execution_count": 62,
     "metadata": {
      "tags": []
     },
     "output_type": "execute_result"
    }
   ],
   "source": [
    "kospi_top6"
   ]
  },
  {
   "cell_type": "markdown",
   "metadata": {
    "colab_type": "text",
    "id": "17P4NIKqFAPD"
   },
   "source": [
    "# **튜플** \n",
    "\n",
    "1) 리스트는 '[' 와 ']'를 사용하는 반면 튜플은 '('와 ')'를 사용한다. \n",
    "2) 리스트는 리스트 내의 원소를 변경할 수 있지만 튜플은 변경할 수 없다."
   ]
  },
  {
   "cell_type": "code",
   "execution_count": null,
   "metadata": {
    "colab": {},
    "colab_type": "code",
    "id": "b3aMhOYEE-UA"
   },
   "outputs": [],
   "source": [
    "t = ('a', 'b', ('ab', 'cd'))"
   ]
  },
  {
   "cell_type": "code",
   "execution_count": null,
   "metadata": {
    "colab": {
     "base_uri": "https://localhost:8080/",
     "height": 172
    },
    "colab_type": "code",
    "id": "q2V0dR69E_hY",
    "outputId": "99cbb4f9-f21f-4d54-f3a3-58c36cc867b1"
   },
   "outputs": [
    {
     "ename": "TypeError",
     "evalue": "ignored",
     "output_type": "error",
     "traceback": [
      "\u001b[0;31m---------------------------------------------------------------------------\u001b[0m",
      "\u001b[0;31mTypeError\u001b[0m                                 Traceback (most recent call last)",
      "\u001b[0;32m<ipython-input-64-542f9bb8f15e>\u001b[0m in \u001b[0;36m<module>\u001b[0;34m()\u001b[0m\n\u001b[0;32m----> 1\u001b[0;31m \u001b[0;32mdel\u001b[0m \u001b[0mt\u001b[0m\u001b[0;34m[\u001b[0m\u001b[0;36m0\u001b[0m\u001b[0;34m]\u001b[0m\u001b[0;34m\u001b[0m\u001b[0;34m\u001b[0m\u001b[0m\n\u001b[0m",
      "\u001b[0;31mTypeError\u001b[0m: 'tuple' object doesn't support item deletion"
     ]
    }
   ],
   "source": [
    "del t[0] #튜플은 수정이 안된다는 것을 보여드리기 위해 넣은 코드"
   ]
  },
  {
   "cell_type": "markdown",
   "metadata": {
    "colab_type": "text",
    "id": "kj6tUdJZNlmS"
   },
   "source": [
    "# **딕셔너리**\n",
    "영어사전과 유사하게 키(key)와 값(value)이라는 것을 쌍으로 저장함으로써 더 쉽게 저장된 값을 찾을 수 있는 구조\n",
    "\n",
    "```\n",
    "dict = {Key1:Value1, Key2:Value2, Key3:Value3 ...}\n",
    "```\n",
    "\n",
    "\n",
    "> 딕셔너리에 데이터 추가,삭제\n",
    "\n",
    "\n",
    "1. dict[key] = value 입력 : 이에 해당하는 key:value라는 딕셔너리 쌍이 추가\n",
    "2. del dict[key]: key에 해당하는 {key:value} 쌍이 삭제\n",
    "\n",
    "\n",
    "\n",
    "\n"
   ]
  },
  {
   "cell_type": "code",
   "execution_count": null,
   "metadata": {
    "colab": {},
    "colab_type": "code",
    "id": "S4UDHFZDqKD0"
   },
   "outputs": [],
   "source": []
  },
  {
   "cell_type": "code",
   "execution_count": null,
   "metadata": {
    "colab": {
     "base_uri": "https://localhost:8080/",
     "height": 70
    },
    "colab_type": "code",
    "id": "GgQro-k-Fgnf",
    "outputId": "c1f166f2-2d02-4200-e3dd-5b5c011a3c44"
   },
   "outputs": [
    {
     "name": "stdout",
     "output_type": "stream",
     "text": [
      "800000\n",
      "dict_keys(['KAKAO', 'naver', 'daeshin'])\n",
      "dict_values([80000, 800000, 30000])\n"
     ]
    }
   ],
   "source": [
    "#딕셔너리로부터 키-값 구하기\n",
    "price = {'KAKAO': 80000, 'naver':800000, 'daeshin':30000}\n",
    "print(price['naver']) #key값으로 value값 접근\n",
    "print(price.keys())\n",
    "print(price.values())"
   ]
  },
  {
   "cell_type": "code",
   "execution_count": null,
   "metadata": {
    "colab": {
     "base_uri": "https://localhost:8080/",
     "height": 52
    },
    "colab_type": "code",
    "id": "eCEvm44xuBuE",
    "outputId": "b31be74b-42d3-4f7b-e10b-2fc8c9dd34fa"
   },
   "outputs": [
    {
     "name": "stdout",
     "output_type": "stream",
     "text": [
      "<class 'dict_values'>\n"
     ]
    },
    {
     "data": {
      "text/plain": [
       "[80000, 800000, 30000]"
      ]
     },
     "execution_count": 85,
     "metadata": {
      "tags": []
     },
     "output_type": "execute_result"
    }
   ],
   "source": [
    "print(type(price.values()))\n",
    "list(price.values())"
   ]
  },
  {
   "cell_type": "code",
   "execution_count": null,
   "metadata": {
    "colab": {
     "base_uri": "https://localhost:8080/",
     "height": 34
    },
    "colab_type": "code",
    "id": "trssNaG6vOMt",
    "outputId": "5e512d0c-80d2-4b0b-a1e8-587f028538cd"
   },
   "outputs": [
    {
     "data": {
      "text/plain": [
       "True"
      ]
     },
     "execution_count": 86,
     "metadata": {
      "tags": []
     },
     "output_type": "execute_result"
    }
   ],
   "source": [
    "#데이터 추가 삭제, 키 값 검색\n",
    "price['삼성전자'] =45000\n",
    "price\n",
    "'삼성전자' in price.keys() "
   ]
  },
  {
   "cell_type": "code",
   "execution_count": null,
   "metadata": {
    "colab": {
     "base_uri": "https://localhost:8080/",
     "height": 34
    },
    "colab_type": "code",
    "id": "pA5duyRSvYxm",
    "outputId": "f1977285-675d-4979-b0d1-d2bb8f36d0f9"
   },
   "outputs": [
    {
     "data": {
      "text/plain": [
       "{'KAKAO': 80000, 'daeshin': 30000, 'naver': 800000}"
      ]
     },
     "execution_count": 87,
     "metadata": {
      "tags": []
     },
     "output_type": "execute_result"
    }
   ],
   "source": [
    "del price['삼성전자'] \n",
    "price"
   ]
  },
  {
   "cell_type": "code",
   "execution_count": null,
   "metadata": {
    "colab": {
     "base_uri": "https://localhost:8080/",
     "height": 34
    },
    "colab_type": "code",
    "id": "BNQB3Bj6v9gb",
    "outputId": "152e5c26-b8d8-47fe-ea20-79fd07c51ca7"
   },
   "outputs": [
    {
     "data": {
      "text/plain": [
       "False"
      ]
     },
     "execution_count": 88,
     "metadata": {
      "tags": []
     },
     "output_type": "execute_result"
    }
   ],
   "source": [
    "'삼성전자' in price.keys()"
   ]
  },
  {
   "cell_type": "markdown",
   "metadata": {
    "colab_type": "text",
    "id": "fYuDiZx-ZGHk"
   },
   "source": [
    "# **if문**\n",
    "\n",
    "\n",
    "```\n",
    "if 조건문:\n",
    "    수행할문장1\n",
    "    수행할문장2\n",
    "```\n",
    "\n",
    "> if문 키워드\n",
    "1. if = 만약 ~라면\n",
    "2. else = 그렇지 않으면\n",
    "3. elif = 그렇지 않고 ~이면\n",
    "4. pass = 아무일도 하지 않게 설정\n",
    "\n",
    "\n",
    "> 조건문 만들 때 주의할 점\n",
    "1. 조건문의 끝에는 콜론(:)을 입력합니다.\n",
    "4. 조건이 참일 때 수행될 문장은 **들여쓰기**해야 합니다. \n"
   ]
  },
  {
   "cell_type": "code",
   "execution_count": null,
   "metadata": {
    "colab": {
     "base_uri": "https://localhost:8080/",
     "height": 34
    },
    "colab_type": "code",
    "id": "RmQcC2wYWPs-",
    "outputId": "211c46d6-7d3f-4761-fe26-71576e393112"
   },
   "outputs": [
    {
     "name": "stdout",
     "output_type": "stream",
     "text": [
      "sell\n"
     ]
    }
   ],
   "source": [
    "# 매수가 기준으로 매도 조건을 가정하고\n",
    "# 매수가와 현재가가 주어졌을 때 어떤 상황일 지 알아보아요\n",
    "매수가= 45000\n",
    "현재가 = 50000\n",
    "if (매수가*0.95 <현재가) and (현재가 < 매수가*1.1):\n",
    "  print(\"Holding\")\n",
    "elif 매수가*0.95 >현재가:\n",
    "    print(\"sell\")\n",
    "else :\n",
    "    print(\"sell\")\n"
   ]
  },
  {
   "cell_type": "markdown",
   "metadata": {
    "colab_type": "text",
    "id": "OXBOlCRniCNo"
   },
   "source": [
    "# **for문**\n",
    "\n",
    "\n",
    "```\n",
    "for 변수 in 리스트(또는 튜플,문자열);\n",
    "****수행할 문장1\n",
    "****수행할 문장2\n",
    "```\n",
    "\n",
    "> 1. for = ~에 대한\n",
    "2. range  = 범위, range(1, n+1)은 1부터 n까지의 숫자 범위\n",
    "\n",
    "\n",
    "\n"
   ]
  },
  {
   "cell_type": "code",
   "execution_count": null,
   "metadata": {
    "colab": {
     "base_uri": "https://localhost:8080/",
     "height": 214
    },
    "colab_type": "code",
    "id": "LyLrOitF7gwS",
    "outputId": "6193dc3d-5e26-406a-ae6c-08492030b574"
   },
   "outputs": [
    {
     "name": "stdout",
     "output_type": "stream",
     "text": [
      "0\n",
      "1\n",
      "2\n",
      "3\n",
      "4\n",
      "5\n",
      "6\n",
      "7\n",
      "8\n",
      "9\n",
      "10\n"
     ]
    }
   ],
   "source": [
    " for i in range(0, 11):\n",
    "        print(i)"
   ]
  },
  {
   "cell_type": "code",
   "execution_count": null,
   "metadata": {
    "colab": {
     "base_uri": "https://localhost:8080/",
     "height": 106
    },
    "colab_type": "code",
    "id": "hxRYPjHyldbm",
    "outputId": "9b9f5792-af33-407c-acde-30dd0cb84330"
   },
   "outputs": [
    {
     "name": "stdout",
     "output_type": "stream",
     "text": [
      "dict_items([('Naver', 10), ('Samsung', 5), ('SK Hynix', 30)])\n",
      "Naver: Buy 10\n",
      "Samsung: Buy 5\n",
      "SK Hynix: Buy 30\n",
      "ERROR! Session/line number was not unique in database. History logging moved to new session 59\n"
     ]
    }
   ],
   "source": [
    "# 종목마다 다른 수량만큼 주식을 매수하고자 함 \n",
    "# Naver 10주, Samsung 5주, SK Hynix 30주\n",
    "\n",
    "interest_stocks = {\"Naver\":10, \"Samsung\":5, \"SK Hynix\":30}\n",
    "print(interest_stocks.items())\n",
    "for company, stock_num in interest_stocks.items():\n",
    "        print(\"{}: Buy {}\".format(company, stock_num))"
   ]
  },
  {
   "cell_type": "markdown",
   "metadata": {
    "colab_type": "text",
    "id": "hiIw3Bu7n5Do"
   },
   "source": [
    "# **while문**\n",
    "\n",
    "```\n",
    "while 조건문:\n",
    "     수행할 문장1\n",
    "     수행할 문장2\n",
    "```\n",
    "조건식이 '참'인 동안 괄호 안의 내용을 반복적으로 수행\n",
    "\n",
    "\n",
    "> while문 키워드\n",
    "1. while = ~동안\n",
    "2. continue = 특정 조건에서 코드를 실행하지 않고 다음 단계로 이동\n",
    "3. break = while문을 강제로 종료\n",
    "\n",
    "\n",
    "> while문의 동작원리\n",
    "1. while 문의 조건이 참인가?\n",
    "2. (참일 경우) 내부의 코드 반복\n",
    "3. (거짓일 경우) 프로그램 종료\n",
    "\n",
    "\n",
    "\n"
   ]
  },
  {
   "cell_type": "code",
   "execution_count": null,
   "metadata": {
    "colab": {
     "base_uri": "https://localhost:8080/",
     "height": 34
    },
    "colab_type": "code",
    "id": "mK-wEKDCprGr",
    "outputId": "df35dc6a-5d8b-4326-eb55-82013fdea9ce"
   },
   "outputs": [
    {
     "name": "stdout",
     "output_type": "stream",
     "text": [
      "167081.85\n"
     ]
    }
   ],
   "source": [
    "#5번의 상한가가 발생한 금액을 알아보자\n",
    "\n",
    "price = 45000\n",
    "day = 1\n",
    "while day < 6 :\n",
    "    price *= 1.3\n",
    "    day += 1\n",
    "print(price)"
   ]
  },
  {
   "cell_type": "code",
   "execution_count": null,
   "metadata": {
    "colab": {
     "base_uri": "https://localhost:8080/",
     "height": 124
    },
    "colab_type": "code",
    "id": "2JwwgDUb-5yp",
    "outputId": "bdc16c1e-d165-4e8c-b6d1-2b3c0d36c76c"
   },
   "outputs": [
    {
     "name": "stdout",
     "output_type": "stream",
     "text": [
      "0\n",
      "1\n",
      "2\n",
      "3\n",
      "4\n",
      "5\n"
     ]
    }
   ],
   "source": [
    "num = 0\n",
    "while 1:\n",
    "        print(num)\n",
    "        if num == 5:\n",
    "                break\n",
    "        num += 1"
   ]
  },
  {
   "cell_type": "code",
   "execution_count": null,
   "metadata": {
    "colab": {
     "base_uri": "https://localhost:8080/",
     "height": 106
    },
    "colab_type": "code",
    "id": "mxEPiUPd-9_R",
    "outputId": "eb214ad8-6d13-4dee-b117-dcc67a4d6a43"
   },
   "outputs": [
    {
     "name": "stdout",
     "output_type": "stream",
     "text": [
      "1\n",
      "2\n",
      "4\n",
      "5\n",
      "6\n"
     ]
    }
   ],
   "source": [
    "num = 0\n",
    "while num < 6:\n",
    "        num += 1\n",
    "        if num == 3:\n",
    "                continue\n",
    "        print(num)"
   ]
  },
  {
   "cell_type": "markdown",
   "metadata": {
    "colab_type": "text",
    "id": "w5pYgN5G2xD_"
   },
   "source": [
    "# **함수**\n",
    "\n",
    "```\n",
    "def 함수명(입력 인수);\n",
    "    수행할 문장1\n",
    "    수행할 문장2\n",
    "        .\n",
    "            .\n",
    "   return 결과값\n",
    "```\n",
    "\n",
    "\n",
    "\n",
    "\n"
   ]
  },
  {
   "cell_type": "code",
   "execution_count": null,
   "metadata": {
    "colab": {
     "base_uri": "https://localhost:8080/",
     "height": 88
    },
    "colab_type": "code",
    "id": "Rv3-SsJcemN2",
    "outputId": "c2f1efaf-c166-40f1-cd03-490f8da61780"
   },
   "outputs": [
    {
     "name": "stdout",
     "output_type": "stream",
     "text": [
      "\n",
      "  ---------------\n",
      "   퀀트 투자\n",
      "  ---------------\n"
     ]
    }
   ],
   "source": [
    "# 입력값 x, return값 x\n",
    "\n",
    "def my_print():\n",
    "  print('''\n",
    "  ---------------\n",
    "   퀀트 투자\n",
    "  ---------------''')\n",
    "\n",
    "my_print()"
   ]
  },
  {
   "cell_type": "code",
   "execution_count": null,
   "metadata": {
    "colab": {
     "base_uri": "https://localhost:8080/",
     "height": 70
    },
    "colab_type": "code",
    "id": "A2BHOKepe2or",
    "outputId": "2c328e55-114f-4015-d290-1416087b66e9"
   },
   "outputs": [
    {
     "name": "stdout",
     "output_type": "stream",
     "text": [
      "첫번째 수 입력12\n",
      "두번째 수 입력2\n",
      "14\n"
     ]
    }
   ],
   "source": [
    "# 입력값 x, return값 x\n",
    "def add_func():\n",
    "  sum= a+b\n",
    "  print(sum)\n",
    "\n",
    "\n",
    "a= int(input('첫번째 수 입력'))\n",
    "b= int(input('두번째 수 입력'))\n",
    "add_func()"
   ]
  },
  {
   "cell_type": "code",
   "execution_count": null,
   "metadata": {
    "colab": {},
    "colab_type": "code",
    "id": "amH61YzHfOhl"
   },
   "outputs": [],
   "source": [
    "# 입력값 o, return값 o\n",
    "def add_func(v1,v2):\n",
    "  sum= v1+v2\n",
    "  return sum\n",
    "\n",
    "\n",
    "a= int(input('첫번째 수 입력'))\n",
    "b= int(input('두번째 수 입력'))\n",
    "print(add_func(a,b)) "
   ]
  },
  {
   "cell_type": "code",
   "execution_count": null,
   "metadata": {
    "colab": {
     "base_uri": "https://localhost:8080/",
     "height": 34
    },
    "colab_type": "code",
    "id": "vIatsdcqXMhC",
    "outputId": "6cdc3b2a-ad5f-493e-c722-12878caeda30"
   },
   "outputs": [
    {
     "name": "stdout",
     "output_type": "stream",
     "text": [
      "(69, 23460)\n"
     ]
    }
   ],
   "source": [
    "# 입력값 多, return값 多\n",
    "def func2(*para):\n",
    "  sum = 0 \n",
    "  mul = 1 \n",
    "  for i in para:\n",
    "    sum += i\n",
    "    mul *= i\n",
    "  return sum, mul\n",
    "\n",
    "\n",
    "resuit = func2(1,23,34,5,6)\n",
    "print(resuit)\n"
   ]
  },
  {
   "cell_type": "code",
   "execution_count": null,
   "metadata": {
    "colab": {
     "base_uri": "https://localhost:8080/",
     "height": 52
    },
    "colab_type": "code",
    "id": "zLkEZDQ2hyF4",
    "outputId": "226b5306-71c4-42db-a92a-2c8363c10ea0"
   },
   "outputs": [
    {
     "name": "stdout",
     "output_type": "stream",
     "text": [
      "더할 수를 여러 개 입력하시오.2 4 5 \n",
      "11\n"
     ]
    }
   ],
   "source": [
    "def all_add_function(para):\n",
    "  sum=0\n",
    "  for i in para:\n",
    "    sum+=i\n",
    "  return sum\n",
    "\n",
    "\n",
    "input_numbers = input('더할 수를 여러 개 입력하시오.').split()\n",
    "sum = all_add_function(map(int,input_numbers))\n",
    "print (sum)"
   ]
  },
  {
   "cell_type": "code",
   "execution_count": null,
   "metadata": {
    "colab": {
     "base_uri": "https://localhost:8080/",
     "height": 88
    },
    "colab_type": "code",
    "id": "vee9gYwYhIZf",
    "outputId": "2e5ffb5f-2d4a-4da9-82e7-25fe10d2e5d9"
   },
   "outputs": [
    {
     "name": "stdout",
     "output_type": "stream",
     "text": [
      "20\n",
      "30\n",
      "30\n",
      "10\n"
     ]
    }
   ],
   "source": [
    "#지역변수와 전역변수\n",
    "def house1():\n",
    "  a= 20\n",
    "  print (a)\n",
    "\n",
    "def house2():\n",
    "  global a\n",
    "  a= 30\n",
    "  print (a)\n",
    "  \n",
    "house1()\n",
    "house2()\n",
    "print (a)\n",
    "a= 10\n",
    "print (a)"
   ]
  },
  {
   "cell_type": "markdown",
   "metadata": {
    "colab_type": "text",
    "id": "j7whLbhF7BiM"
   },
   "source": [
    "# **클래스**\n",
    "\n",
    "\n"
   ]
  },
  {
   "cell_type": "code",
   "execution_count": null,
   "metadata": {
    "colab": {},
    "colab_type": "code",
    "id": "yDIXhdCIbKxc"
   },
   "outputs": [],
   "source": [
    "class stock:\n",
    "        market = \"kospi\"\n",
    "        def __init__(self):\n",
    "         print(\"객체가 생성되었습니다.\")\n",
    "\n",
    "        def set_info(self, name,code,price):\n",
    "                self.name = name\n",
    "                self.code = code\n",
    "                self.price = price\n",
    "                \n",
    "        def print_info(self):\n",
    "                print(\"--------------------\")\n",
    "                print(\" \"+ self.market)\n",
    "                print(\" 종목: \", self.name)\n",
    "                print(\" 종목코드: \", self.code)\n",
    "                print(\" 주가: {}원 \".format(self.price))\n",
    "                print(\"--------------------\")"
   ]
  },
  {
   "cell_type": "code",
   "execution_count": null,
   "metadata": {
    "colab": {
     "base_uri": "https://localhost:8080/",
     "height": 34
    },
    "colab_type": "code",
    "id": "6_qt-46r7OLd",
    "outputId": "169be42c-dfff-4f4b-aae3-eef7bc052f08"
   },
   "outputs": [
    {
     "data": {
      "text/plain": [
       "'kospi'"
      ]
     },
     "execution_count": 25,
     "metadata": {
      "tags": []
     },
     "output_type": "execute_result"
    }
   ],
   "source": [
    "stock.market"
   ]
  },
  {
   "cell_type": "code",
   "execution_count": null,
   "metadata": {
    "colab": {
     "base_uri": "https://localhost:8080/",
     "height": 34
    },
    "colab_type": "code",
    "id": "pzfSEcXp7QJl",
    "outputId": "05f77750-58c6-475b-8321-0a48adff5d4f"
   },
   "outputs": [
    {
     "data": {
      "text/plain": [
       "str"
      ]
     },
     "execution_count": 26,
     "metadata": {
      "tags": []
     },
     "output_type": "execute_result"
    }
   ],
   "source": [
    "type(ex1)"
   ]
  },
  {
   "cell_type": "code",
   "execution_count": null,
   "metadata": {
    "colab": {
     "base_uri": "https://localhost:8080/",
     "height": 34
    },
    "colab_type": "code",
    "id": "dvK-z4u_bwnO",
    "outputId": "4208015a-66a6-4caa-d464-7394e5458e34"
   },
   "outputs": [
    {
     "name": "stdout",
     "output_type": "stream",
     "text": [
      "객체가 생성되었습니다.\n"
     ]
    }
   ],
   "source": [
    "ex1 = stock()"
   ]
  },
  {
   "cell_type": "code",
   "execution_count": null,
   "metadata": {
    "colab": {},
    "colab_type": "code",
    "id": "U3rrQ_r37RsB"
   },
   "outputs": [],
   "source": [
    "ex1.set_info('카카오','035720',150500)"
   ]
  },
  {
   "cell_type": "code",
   "execution_count": null,
   "metadata": {
    "colab": {
     "base_uri": "https://localhost:8080/",
     "height": 124
    },
    "colab_type": "code",
    "id": "tPVOWte37T1W",
    "outputId": "e539ff0d-052d-44cd-ae9f-fd87a726e9ac"
   },
   "outputs": [
    {
     "name": "stdout",
     "output_type": "stream",
     "text": [
      "--------------------\n",
      " kospi\n",
      " 종목:  카카오\n",
      " 종목코드:  035720\n",
      " 주가: 150500원 \n",
      "--------------------\n"
     ]
    }
   ],
   "source": [
    "ex1.print_info()"
   ]
  },
  {
   "cell_type": "code",
   "execution_count": null,
   "metadata": {
    "colab": {
     "base_uri": "https://localhost:8080/",
     "height": 34
    },
    "colab_type": "code",
    "id": "mzpNXz6Xb3vA",
    "outputId": "6d8ea516-ce98-4528-e6f0-60ebd29db446"
   },
   "outputs": [
    {
     "name": "stdout",
     "output_type": "stream",
     "text": [
      "객체가 생성되었습니다.\n"
     ]
    }
   ],
   "source": [
    "ex2 = stock()"
   ]
  },
  {
   "cell_type": "code",
   "execution_count": null,
   "metadata": {
    "colab": {},
    "colab_type": "code",
    "id": "K21zli5Xb5tg"
   },
   "outputs": [],
   "source": [
    "ex2.market='kosdaq'"
   ]
  },
  {
   "cell_type": "code",
   "execution_count": null,
   "metadata": {
    "colab": {},
    "colab_type": "code",
    "id": "yj42kZ5VcznS"
   },
   "outputs": [],
   "source": [
    "ex2.set_info('씨젠','096530',112400)"
   ]
  },
  {
   "cell_type": "code",
   "execution_count": null,
   "metadata": {
    "colab": {
     "base_uri": "https://localhost:8080/",
     "height": 124
    },
    "colab_type": "code",
    "id": "wkKGb3HAdIGC",
    "outputId": "f1b28fba-94a6-4538-810e-a0d10d4dca66"
   },
   "outputs": [
    {
     "name": "stdout",
     "output_type": "stream",
     "text": [
      "--------------------\n",
      " kosdaq\n",
      " 종목:  씨젠\n",
      " 종목코드:  096530\n",
      " 주가: 112400원 \n",
      "--------------------\n"
     ]
    }
   ],
   "source": [
    "ex2.print_info()"
   ]
  },
  {
   "cell_type": "code",
   "execution_count": null,
   "metadata": {
    "colab": {},
    "colab_type": "code",
    "id": "3I6p_soVdoVG"
   },
   "outputs": [],
   "source": [
    "#상속의 개념\n",
    "class Parent:\n",
    "        def can_sing(self):\n",
    "                print(\"Sing a song\")"
   ]
  },
  {
   "cell_type": "code",
   "execution_count": null,
   "metadata": {
    "colab": {
     "base_uri": "https://localhost:8080/",
     "height": 34
    },
    "colab_type": "code",
    "id": "1_YOq96Jd_gY",
    "outputId": "7193cad3-3a4a-43d1-fd9d-cb3f522b4c26"
   },
   "outputs": [
    {
     "name": "stdout",
     "output_type": "stream",
     "text": [
      "Sing a song\n"
     ]
    }
   ],
   "source": [
    "father = Parent()\n",
    "father.can_sing()"
   ]
  },
  {
   "cell_type": "code",
   "execution_count": null,
   "metadata": {
    "colab": {},
    "colab_type": "code",
    "id": "4iwyfDvmeBdy"
   },
   "outputs": [],
   "source": [
    "class LuckyChild(Parent):\n",
    "        def can_dance(self):\n",
    "                print(\"Shuffle Dance\")"
   ]
  },
  {
   "cell_type": "code",
   "execution_count": null,
   "metadata": {
    "colab": {
     "base_uri": "https://localhost:8080/",
     "height": 52
    },
    "colab_type": "code",
    "id": "wQPn9FUreD_i",
    "outputId": "246018fb-25a8-4b0d-f0cd-eca4a7847798"
   },
   "outputs": [
    {
     "name": "stdout",
     "output_type": "stream",
     "text": [
      "Sing a song\n",
      "Shuffle Dance\n"
     ]
    }
   ],
   "source": [
    "child = LuckyChild()\n",
    "child.can_sing()\n",
    "child.can_dance()"
   ]
  }
 ],
 "metadata": {
  "accelerator": "GPU",
  "colab": {
   "collapsed_sections": [],
   "name": "파이썬튜토리얼(1).ipynb",
   "provenance": []
  },
  "kernelspec": {
   "display_name": "py36",
   "language": "python",
   "name": "py36"
  },
  "language_info": {
   "codemirror_mode": {
    "name": "ipython",
    "version": 3
   },
   "file_extension": ".py",
   "mimetype": "text/x-python",
   "name": "python",
   "nbconvert_exporter": "python",
   "pygments_lexer": "ipython3",
   "version": "3.6.9"
  }
 },
 "nbformat": 4,
 "nbformat_minor": 1
}
