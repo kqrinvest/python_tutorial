{
  "nbformat": 4,
  "nbformat_minor": 0,
  "metadata": {
    "colab": {
      "name": "파이썬튜토리얼(2).ipynb",
      "provenance": [],
      "collapsed_sections": []
    },
    "kernelspec": {
      "name": "python3",
      "display_name": "Python 3"
    },
    "accelerator": "GPU"
  },
  "cells": [
    {
      "cell_type": "markdown",
      "metadata": {
        "id": "meFmmQFynwdH",
        "colab_type": "text"
      },
      "source": [
        ">colab에서 작성되었습니다! "
      ]
    },
    {
      "cell_type": "markdown",
      "metadata": {
        "id": "5miR-I0c8ywC",
        "colab_type": "text"
      },
      "source": [
        "# **모듈, 라이브러리**\n"
      ]
    },
    {
      "cell_type": "code",
      "metadata": {
        "id": "BpqCUmV6ywsb",
        "colab_type": "code",
        "colab": {
          "resources": {
            "http://localhost:8080/nbextensions/google.colab/files.js": {
              "data": "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",
              "ok": true,
              "headers": [
                [
                  "content-type",
                  "application/javascript"
                ]
              ],
              "status": 200,
              "status_text": ""
            }
          },
          "base_uri": "https://localhost:8080/",
          "height": 77
        },
        "outputId": "306973dd-91b4-45d5-c2c2-7699539c39e3"
      },
      "source": [
        "#사용자 정의 모듈\n",
        "from google.colab import files \n",
        "uploaded = files.upload()\n"
      ],
      "execution_count": null,
      "outputs": [
        {
          "output_type": "display_data",
          "data": {
            "text/html": [
              "\n",
              "     <input type=\"file\" id=\"files-bf000c2e-2da6-483d-9a38-ecef78b37364\" name=\"files[]\" multiple disabled />\n",
              "     <output id=\"result-bf000c2e-2da6-483d-9a38-ecef78b37364\">\n",
              "      Upload widget is only available when the cell has been executed in the\n",
              "      current browser session. Please rerun this cell to enable.\n",
              "      </output>\n",
              "      <script src=\"/nbextensions/google.colab/files.js\"></script> "
            ],
            "text/plain": [
              "<IPython.core.display.HTML object>"
            ]
          },
          "metadata": {
            "tags": []
          }
        },
        {
          "output_type": "stream",
          "text": [
            "Saving my_module.py to my_module.py\n"
          ],
          "name": "stdout"
        }
      ]
    },
    {
      "cell_type": "code",
      "metadata": {
        "id": "1WBzVWJZ0y-V",
        "colab_type": "code",
        "colab": {}
      },
      "source": [
        "import my_module as m"
      ],
      "execution_count": null,
      "outputs": []
    },
    {
      "cell_type": "code",
      "metadata": {
        "id": "rV43dGJa7-eb",
        "colab_type": "code",
        "colab": {
          "base_uri": "https://localhost:8080/",
          "height": 35
        },
        "outputId": "d5e7aed3-3fd9-4cfa-924a-26cc257d2afe"
      },
      "source": [
        "ex = m.stock()"
      ],
      "execution_count": null,
      "outputs": [
        {
          "output_type": "stream",
          "text": [
            "객체가 생성되었습니다.\n"
          ],
          "name": "stdout"
        }
      ]
    },
    {
      "cell_type": "code",
      "metadata": {
        "id": "S_FpdVgTOtP4",
        "colab_type": "code",
        "colab": {}
      },
      "source": [
        "ex.set_info('셀트리온','068270',181500)"
      ],
      "execution_count": null,
      "outputs": []
    },
    {
      "cell_type": "code",
      "metadata": {
        "id": "ZcVYTH0xO-Rd",
        "colab_type": "code",
        "colab": {
          "base_uri": "https://localhost:8080/",
          "height": 124
        },
        "outputId": "67bf462a-bbe4-4a43-b9a7-eccdaa79cebd"
      },
      "source": [
        "ex.print_info()"
      ],
      "execution_count": null,
      "outputs": [
        {
          "output_type": "stream",
          "text": [
            "--------------------\n",
            " kospi\n",
            " 종목:  셀트리온\n",
            " 종목코드:  068270\n",
            " 주가: 181500원 \n",
            "--------------------\n"
          ],
          "name": "stdout"
        }
      ]
    },
    {
      "cell_type": "markdown",
      "metadata": {
        "id": "OvJpOBO6xZfQ",
        "colab_type": "text"
      },
      "source": [
        "# **Numpy/Pandas**"
      ]
    },
    {
      "cell_type": "markdown",
      "metadata": {
        "id": "xQOJimUC5NGm",
        "colab_type": "text"
      },
      "source": [
        "**Numpy**\n",
        "\n",
        "pandas/matplotlib의 기반이 되는 모듈"
      ]
    },
    {
      "cell_type": "code",
      "metadata": {
        "id": "AsrTcGqd_P6q",
        "colab_type": "code",
        "colab": {
          "base_uri": "https://localhost:8080/",
          "height": 70
        },
        "outputId": "492e2336-efe7-4b2f-d1f8-62a5acd9f1f7"
      },
      "source": [
        "import numpy as np \n",
        "arr = np.array([1,2,3,4,5])\n",
        "print(arr)\n",
        "print(arr.ndim) # 차원 정보\n",
        "print(arr.shape) #(행,열)을 튜플로 출력"
      ],
      "execution_count": null,
      "outputs": [
        {
          "output_type": "stream",
          "text": [
            "[1 2 3 4 5]\n",
            "1\n",
            "(5,)\n"
          ],
          "name": "stdout"
        }
      ]
    },
    {
      "cell_type": "code",
      "metadata": {
        "id": "gqN9Ger9FRwU",
        "colab_type": "code",
        "colab": {
          "base_uri": "https://localhost:8080/",
          "height": 106
        },
        "outputId": "58074737-70b2-42c6-8a23-bf1f9f27a976"
      },
      "source": [
        "#matrix\n",
        "arr1 = np.array([[1,2,3],[4,5,6]],dtype=np.float64) \n",
        "print(arr1)\n",
        "print(arr1[0,1])\n",
        "print(arr1.ndim)\n",
        "print(arr1.shape)"
      ],
      "execution_count": null,
      "outputs": [
        {
          "output_type": "stream",
          "text": [
            "[[1. 2. 3.]\n",
            " [4. 5. 6.]]\n",
            "2.0\n",
            "2\n",
            "(2, 3)\n"
          ],
          "name": "stdout"
        }
      ]
    },
    {
      "cell_type": "markdown",
      "metadata": {
        "colab_type": "text",
        "id": "FPQL94Pm5fpZ"
      },
      "source": [
        "**pandas**\n",
        "\n",
        "데이터 분석 핵심 라이브러리\n",
        "\n",
        "series -> numpy의 1차원 vector와 유사\n",
        "\n",
        "dataframe-> numpy의 2차원 matrix와 유사"
      ]
    },
    {
      "cell_type": "code",
      "metadata": {
        "id": "OkXSlZ_V8vTJ",
        "colab_type": "code",
        "colab": {}
      },
      "source": [
        "import numpy as np \n",
        "import pandas as pd "
      ],
      "execution_count": null,
      "outputs": []
    },
    {
      "cell_type": "code",
      "metadata": {
        "id": "_Sfr2srkLTEc",
        "colab_type": "code",
        "colab": {
          "base_uri": "https://localhost:8080/",
          "height": 160
        },
        "outputId": "d9bc4090-4590-4d00-8cf9-e8593c306290"
      },
      "source": [
        "#1차원 시리즈\n",
        "s = pd.Series([1,2,3,4,5], dtype=np.float64) # 인덱스와 값이 같이 출력됨\n",
        "print(s)\n",
        "print(s.index) # index만 추출할 수 있음.\n",
        "print(s.values)"
      ],
      "execution_count": null,
      "outputs": [
        {
          "output_type": "stream",
          "text": [
            "0    1.0\n",
            "1    2.0\n",
            "2    3.0\n",
            "3    4.0\n",
            "4    5.0\n",
            "dtype: float64\n",
            "RangeIndex(start=0, stop=5, step=1)\n",
            "[1. 2. 3. 4. 5.]\n"
          ],
          "name": "stdout"
        }
      ]
    },
    {
      "cell_type": "code",
      "metadata": {
        "id": "hDPZJB6eLUQA",
        "colab_type": "code",
        "colab": {
          "base_uri": "https://localhost:8080/",
          "height": 214
        },
        "outputId": "99937379-2b2d-4790-b465-9021a77d187c"
      },
      "source": [
        "s = pd.Series([1,2,3,4,5], index=['c','a','d','k','t'] ) #인덱스 정의 가능\n",
        "print(s)\n",
        "print(s[0]) #index를 따로 지정해주었을 경우에도 숫자 인덱스를 못쓰는 것 아님.\n",
        "print(s['c':'d']) #슬라이싱 가능"
      ],
      "execution_count": null,
      "outputs": [
        {
          "output_type": "stream",
          "text": [
            "c    1\n",
            "a    2\n",
            "d    3\n",
            "k    4\n",
            "t    5\n",
            "dtype: int64\n",
            "1\n",
            "c    1\n",
            "a    2\n",
            "d    3\n",
            "dtype: int64\n"
          ],
          "name": "stdout"
        }
      ]
    },
    {
      "cell_type": "code",
      "metadata": {
        "id": "BnOjwLO2LVhv",
        "colab_type": "code",
        "colab": {
          "base_uri": "https://localhost:8080/",
          "height": 151
        },
        "outputId": "a1bb79fd-7ab8-4b6a-fa41-f4126130c0a5"
      },
      "source": [
        "#dataframe: 2차원 matrix 형태의 프레임\n",
        "\n",
        "data ={'5G 섹터':['케이엠더블유','RFHIC','오이솔루션'],\n",
        "       '종목 코드':['032500','218410','138080'],\n",
        "       '주가':[56100,34250,34900]}\n",
        "\n",
        "df = pd.DataFrame(data) # 데이터분석을 위해 프레임을 만듬\n",
        "display(df)\n",
        "print(df.shape)\n"
      ],
      "execution_count": null,
      "outputs": [
        {
          "output_type": "display_data",
          "data": {
            "text/html": [
              "<div>\n",
              "<style scoped>\n",
              "    .dataframe tbody tr th:only-of-type {\n",
              "        vertical-align: middle;\n",
              "    }\n",
              "\n",
              "    .dataframe tbody tr th {\n",
              "        vertical-align: top;\n",
              "    }\n",
              "\n",
              "    .dataframe thead th {\n",
              "        text-align: right;\n",
              "    }\n",
              "</style>\n",
              "<table border=\"1\" class=\"dataframe\">\n",
              "  <thead>\n",
              "    <tr style=\"text-align: right;\">\n",
              "      <th></th>\n",
              "      <th>5G 섹터</th>\n",
              "      <th>종목 코드</th>\n",
              "      <th>주가</th>\n",
              "    </tr>\n",
              "  </thead>\n",
              "  <tbody>\n",
              "    <tr>\n",
              "      <th>0</th>\n",
              "      <td>케이엠더블유</td>\n",
              "      <td>032500</td>\n",
              "      <td>56100</td>\n",
              "    </tr>\n",
              "    <tr>\n",
              "      <th>1</th>\n",
              "      <td>RFHIC</td>\n",
              "      <td>218410</td>\n",
              "      <td>34250</td>\n",
              "    </tr>\n",
              "    <tr>\n",
              "      <th>2</th>\n",
              "      <td>오이솔루션</td>\n",
              "      <td>138080</td>\n",
              "      <td>34900</td>\n",
              "    </tr>\n",
              "  </tbody>\n",
              "</table>\n",
              "</div>"
            ],
            "text/plain": [
              "    5G 섹터   종목 코드     주가\n",
              "0  케이엠더블유  032500  56100\n",
              "1   RFHIC  218410  34250\n",
              "2   오이솔루션  138080  34900"
            ]
          },
          "metadata": {
            "tags": []
          }
        },
        {
          "output_type": "stream",
          "text": [
            "(3, 3)\n"
          ],
          "name": "stdout"
        }
      ]
    },
    {
      "cell_type": "markdown",
      "metadata": {
        "id": "Jb6MXwPaPXQu",
        "colab_type": "text"
      },
      "source": [
        ">데이터를 가져와서 작업해 보아요!\n",
        "---\n",
        "\n",
        "[데이터를 가져오는 대표적인 방법]\n",
        "\n",
        " **-원하는 데이터가 담긴 엑셀 파일을 다운**\n",
        "\n",
        "-금융 데이터 수집 라이브러리 이용(가격 정보)\n",
        "\n",
        "-웹크롤링\n",
        "\n",
        "\n",
        "\n",
        "\n"
      ]
    },
    {
      "cell_type": "code",
      "metadata": {
        "id": "J-br5uo6LXdg",
        "colab_type": "code",
        "colab": {
          "resources": {
            "http://localhost:8080/nbextensions/google.colab/files.js": {
              "data": "Ly8gQ29weXJpZ2h0IDIwMTcgR29vZ2xlIExMQwovLwovLyBMaWNlbnNlZCB1bmRlciB0aGUgQXBhY2hlIExpY2Vuc2UsIFZlcnNpb24gMi4wICh0aGUgIkxpY2Vuc2UiKTsKLy8geW91IG1heSBub3QgdXNlIHRoaXMgZmlsZSBleGNlcHQgaW4gY29tcGxpYW5jZSB3aXRoIHRoZSBMaWNlbnNlLgovLyBZb3UgbWF5IG9idGFpbiBhIGNvcHkgb2YgdGhlIExpY2Vuc2UgYXQKLy8KLy8gICAgICBodHRwOi8vd3d3LmFwYWNoZS5vcmcvbGljZW5zZXMvTElDRU5TRS0yLjAKLy8KLy8gVW5sZXNzIHJlcXVpcmVkIGJ5IGFwcGxpY2FibGUgbGF3IG9yIGFncmVlZCB0byBpbiB3cml0aW5nLCBzb2Z0d2FyZQovLyBkaXN0cmlidXRlZCB1bmRlciB0aGUgTGljZW5zZSBpcyBkaXN0cmlidXRlZCBvbiBhbiAiQVMgSVMiIEJBU0lTLAovLyBXSVRIT1VUIFdBUlJBTlRJRVMgT1IgQ09ORElUSU9OUyBPRiBBTlkgS0lORCwgZWl0aGVyIGV4cHJlc3Mgb3IgaW1wbGllZC4KLy8gU2VlIHRoZSBMaWNlbnNlIGZvciB0aGUgc3BlY2lmaWMgbGFuZ3VhZ2UgZ292ZXJuaW5nIHBlcm1pc3Npb25zIGFuZAovLyBsaW1pdGF0aW9ucyB1bmRlciB0aGUgTGljZW5zZS4KCi8qKgogKiBAZmlsZW92ZXJ2aWV3IEhlbHBlcnMgZm9yIGdvb2dsZS5jb2xhYiBQeXRob24gbW9kdWxlLgogKi8KKGZ1bmN0aW9uKHNjb3BlKSB7CmZ1bmN0aW9uIHNwYW4odGV4dCwgc3R5bGVBdHRyaWJ1dGVzID0ge30pIHsKICBjb25zdCBlbGVtZW50ID0gZG9jdW1lbnQuY3JlYXRlRWxlbWVudCgnc3BhbicpOwogIGVsZW1lbnQudGV4dENvbnRlbnQgPSB0ZXh0OwogIGZvciAoY29uc3Qga2V5IG9mIE9iamVjdC5rZXlzKHN0eWxlQXR0cmlidXRlcykpIHsKICAgIGVsZW1lbnQuc3R5bGVba2V5XSA9IHN0eWxlQXR0cmlidXRlc1trZXldOwogIH0KICByZXR1cm4gZWxlbWVudDsKfQoKLy8gTWF4IG51bWJlciBvZiBieXRlcyB3aGljaCB3aWxsIGJlIHVwbG9hZGVkIGF0IGEgdGltZS4KY29uc3QgTUFYX1BBWUxPQURfU0laRSA9IDEwMCAqIDEwMjQ7Ci8vIE1heCBhbW91bnQgb2YgdGltZSB0byBibG9jayB3YWl0aW5nIGZvciB0aGUgdXNlci4KY29uc3QgRklMRV9DSEFOR0VfVElNRU9VVF9NUyA9IDMwICogMTAwMDsKCmZ1bmN0aW9uIF91cGxvYWRGaWxlcyhpbnB1dElkLCBvdXRwdXRJZCkgewogIGNvbnN0IHN0ZXBzID0gdXBsb2FkRmlsZXNTdGVwKGlucHV0SWQsIG91dHB1dElkKTsKICBjb25zdCBvdXRwdXRFbGVtZW50ID0gZG9jdW1lbnQuZ2V0RWxlbWVudEJ5SWQob3V0cHV0SWQpOwogIC8vIENhY2hlIHN0ZXBzIG9uIHRoZSBvdXRwdXRFbGVtZW50IHRvIG1ha2UgaXQgYXZhaWxhYmxlIGZvciB0aGUgbmV4dCBjYWxsCiAgLy8gdG8gdXBsb2FkRmlsZXNDb250aW51ZSBmcm9tIFB5dGhvbi4KICBvdXRwdXRFbGVtZW50LnN0ZXBzID0gc3RlcHM7CgogIHJldHVybiBfdXBsb2FkRmlsZXNDb250aW51ZShvdXRwdXRJZCk7Cn0KCi8vIFRoaXMgaXMgcm91Z2hseSBhbiBhc3luYyBnZW5lcmF0b3IgKG5vdCBzdXBwb3J0ZWQgaW4gdGhlIGJyb3dzZXIgeWV0KSwKLy8gd2hlcmUgdGhlcmUgYXJlIG11bHRpcGxlIGFzeW5jaHJvbm91cyBzdGVwcyBhbmQgdGhlIFB5dGhvbiBzaWRlIGlzIGdvaW5nCi8vIHRvIHBvbGwgZm9yIGNvbXBsZXRpb24gb2YgZWFjaCBzdGVwLgovLyBUaGlzIHVzZXMgYSBQcm9taXNlIHRvIGJsb2NrIHRoZSBweXRob24gc2lkZSBvbiBjb21wbGV0aW9uIG9mIGVhY2ggc3RlcCwKLy8gdGhlbiBwYXNzZXMgdGhlIHJlc3VsdCBvZiB0aGUgcHJldmlvdXMgc3RlcCBhcyB0aGUgaW5wdXQgdG8gdGhlIG5leHQgc3RlcC4KZnVuY3Rpb24gX3VwbG9hZEZpbGVzQ29udGludWUob3V0cHV0SWQpIHsKICBjb25zdCBvdXRwdXRFbGVtZW50ID0gZG9jdW1lbnQuZ2V0RWxlbWVudEJ5SWQob3V0cHV0SWQpOwogIGNvbnN0IHN0ZXBzID0gb3V0cHV0RWxlbWVudC5zdGVwczsKCiAgY29uc3QgbmV4dCA9IHN0ZXBzLm5leHQob3V0cHV0RWxlbWVudC5sYXN0UHJvbWlzZVZhbHVlKTsKICByZXR1cm4gUHJvbWlzZS5yZXNvbHZlKG5leHQudmFsdWUucHJvbWlzZSkudGhlbigodmFsdWUpID0+IHsKICAgIC8vIENhY2hlIHRoZSBsYXN0IHByb21pc2UgdmFsdWUgdG8gbWFrZSBpdCBhdmFpbGFibGUgdG8gdGhlIG5leHQKICAgIC8vIHN0ZXAgb2YgdGhlIGdlbmVyYXRvci4KICAgIG91dHB1dEVsZW1lbnQubGFzdFByb21pc2VWYWx1ZSA9IHZhbHVlOwogICAgcmV0dXJuIG5leHQudmFsdWUucmVzcG9uc2U7CiAgfSk7Cn0KCi8qKgogKiBHZW5lcmF0b3IgZnVuY3Rpb24gd2hpY2ggaXMgY2FsbGVkIGJldHdlZW4gZWFjaCBhc3luYyBzdGVwIG9mIHRoZSB1cGxvYWQKICogcHJvY2Vzcy4KICogQHBhcmFtIHtzdHJpbmd9IGlucHV0SWQgRWxlbWVudCBJRCBvZiB0aGUgaW5wdXQgZmlsZSBwaWNrZXIgZWxlbWVudC4KICogQHBhcmFtIHtzdHJpbmd9IG91dHB1dElkIEVsZW1lbnQgSUQgb2YgdGhlIG91dHB1dCBkaXNwbGF5LgogKiBAcmV0dXJuIHshSXRlcmFibGU8IU9iamVjdD59IEl0ZXJhYmxlIG9mIG5leHQgc3RlcHMuCiAqLwpmdW5jdGlvbiogdXBsb2FkRmlsZXNTdGVwKGlucHV0SWQsIG91dHB1dElkKSB7CiAgY29uc3QgaW5wdXRFbGVtZW50ID0gZG9jdW1lbnQuZ2V0RWxlbWVudEJ5SWQoaW5wdXRJZCk7CiAgaW5wdXRFbGVtZW50LmRpc2FibGVkID0gZmFsc2U7CgogIGNvbnN0IG91dHB1dEVsZW1lbnQgPSBkb2N1bWVudC5nZXRFbGVtZW50QnlJZChvdXRwdXRJZCk7CiAgb3V0cHV0RWxlbWVudC5pbm5lckhUTUwgPSAnJzsKCiAgY29uc3QgcGlja2VkUHJvbWlzZSA9IG5ldyBQcm9taXNlKChyZXNvbHZlKSA9PiB7CiAgICBpbnB1dEVsZW1lbnQuYWRkRXZlbnRMaXN0ZW5lcignY2hhbmdlJywgKGUpID0+IHsKICAgICAgcmVzb2x2ZShlLnRhcmdldC5maWxlcyk7CiAgICB9KTsKICB9KTsKCiAgY29uc3QgY2FuY2VsID0gZG9jdW1lbnQuY3JlYXRlRWxlbWVudCgnYnV0dG9uJyk7CiAgaW5wdXRFbGVtZW50LnBhcmVudEVsZW1lbnQuYXBwZW5kQ2hpbGQoY2FuY2VsKTsKICBjYW5jZWwudGV4dENvbnRlbnQgPSAnQ2FuY2VsIHVwbG9hZCc7CiAgY29uc3QgY2FuY2VsUHJvbWlzZSA9IG5ldyBQcm9taXNlKChyZXNvbHZlKSA9PiB7CiAgICBjYW5jZWwub25jbGljayA9ICgpID0+IHsKICAgICAgcmVzb2x2ZShudWxsKTsKICAgIH07CiAgfSk7CgogIC8vIENhbmNlbCB1cGxvYWQgaWYgdXNlciBoYXNuJ3QgcGlja2VkIGFueXRoaW5nIGluIHRpbWVvdXQuCiAgY29uc3QgdGltZW91dFByb21pc2UgPSBuZXcgUHJvbWlzZSgocmVzb2x2ZSkgPT4gewogICAgc2V0VGltZW91dCgoKSA9PiB7CiAgICAgIHJlc29sdmUobnVsbCk7CiAgICB9LCBGSUxFX0NIQU5HRV9USU1FT1VUX01TKTsKICB9KTsKCiAgLy8gV2FpdCBmb3IgdGhlIHVzZXIgdG8gcGljayB0aGUgZmlsZXMuCiAgY29uc3QgZmlsZXMgPSB5aWVsZCB7CiAgICBwcm9taXNlOiBQcm9taXNlLnJhY2UoW3BpY2tlZFByb21pc2UsIHRpbWVvdXRQcm9taXNlLCBjYW5jZWxQcm9taXNlXSksCiAgICByZXNwb25zZTogewogICAgICBhY3Rpb246ICdzdGFydGluZycsCiAgICB9CiAgfTsKCiAgaWYgKCFmaWxlcykgewogICAgcmV0dXJuIHsKICAgICAgcmVzcG9uc2U6IHsKICAgICAgICBhY3Rpb246ICdjb21wbGV0ZScsCiAgICAgIH0KICAgIH07CiAgfQoKICBjYW5jZWwucmVtb3ZlKCk7CgogIC8vIERpc2FibGUgdGhlIGlucHV0IGVsZW1lbnQgc2luY2UgZnVydGhlciBwaWNrcyBhcmUgbm90IGFsbG93ZWQuCiAgaW5wdXRFbGVtZW50LmRpc2FibGVkID0gdHJ1ZTsKCiAgZm9yIChjb25zdCBmaWxlIG9mIGZpbGVzKSB7CiAgICBjb25zdCBsaSA9IGRvY3VtZW50LmNyZWF0ZUVsZW1lbnQoJ2xpJyk7CiAgICBsaS5hcHBlbmQoc3BhbihmaWxlLm5hbWUsIHtmb250V2VpZ2h0OiAnYm9sZCd9KSk7CiAgICBsaS5hcHBlbmQoc3BhbigKICAgICAgICBgKCR7ZmlsZS50eXBlIHx8ICduL2EnfSkgLSAke2ZpbGUuc2l6ZX0gYnl0ZXMsIGAgKwogICAgICAgIGBsYXN0IG1vZGlmaWVkOiAkewogICAgICAgICAgICBmaWxlLmxhc3RNb2RpZmllZERhdGUgPyBmaWxlLmxhc3RNb2RpZmllZERhdGUudG9Mb2NhbGVEYXRlU3RyaW5nKCkgOgogICAgICAgICAgICAgICAgICAgICAgICAgICAgICAgICAgICAnbi9hJ30gLSBgKSk7CiAgICBjb25zdCBwZXJjZW50ID0gc3BhbignMCUgZG9uZScpOwogICAgbGkuYXBwZW5kQ2hpbGQocGVyY2VudCk7CgogICAgb3V0cHV0RWxlbWVudC5hcHBlbmRDaGlsZChsaSk7CgogICAgY29uc3QgZmlsZURhdGFQcm9taXNlID0gbmV3IFByb21pc2UoKHJlc29sdmUpID0+IHsKICAgICAgY29uc3QgcmVhZGVyID0gbmV3IEZpbGVSZWFkZXIoKTsKICAgICAgcmVhZGVyLm9ubG9hZCA9IChlKSA9PiB7CiAgICAgICAgcmVzb2x2ZShlLnRhcmdldC5yZXN1bHQpOwogICAgICB9OwogICAgICByZWFkZXIucmVhZEFzQXJyYXlCdWZmZXIoZmlsZSk7CiAgICB9KTsKICAgIC8vIFdhaXQgZm9yIHRoZSBkYXRhIHRvIGJlIHJlYWR5LgogICAgbGV0IGZpbGVEYXRhID0geWllbGQgewogICAgICBwcm9taXNlOiBmaWxlRGF0YVByb21pc2UsCiAgICAgIHJlc3BvbnNlOiB7CiAgICAgICAgYWN0aW9uOiAnY29udGludWUnLAogICAgICB9CiAgICB9OwoKICAgIC8vIFVzZSBhIGNodW5rZWQgc2VuZGluZyB0byBhdm9pZCBtZXNzYWdlIHNpemUgbGltaXRzLiBTZWUgYi82MjExNTY2MC4KICAgIGxldCBwb3NpdGlvbiA9IDA7CiAgICB3aGlsZSAocG9zaXRpb24gPCBmaWxlRGF0YS5ieXRlTGVuZ3RoKSB7CiAgICAgIGNvbnN0IGxlbmd0aCA9IE1hdGgubWluKGZpbGVEYXRhLmJ5dGVMZW5ndGggLSBwb3NpdGlvbiwgTUFYX1BBWUxPQURfU0laRSk7CiAgICAgIGNvbnN0IGNodW5rID0gbmV3IFVpbnQ4QXJyYXkoZmlsZURhdGEsIHBvc2l0aW9uLCBsZW5ndGgpOwogICAgICBwb3NpdGlvbiArPSBsZW5ndGg7CgogICAgICBjb25zdCBiYXNlNjQgPSBidG9hKFN0cmluZy5mcm9tQ2hhckNvZGUuYXBwbHkobnVsbCwgY2h1bmspKTsKICAgICAgeWllbGQgewogICAgICAgIHJlc3BvbnNlOiB7CiAgICAgICAgICBhY3Rpb246ICdhcHBlbmQnLAogICAgICAgICAgZmlsZTogZmlsZS5uYW1lLAogICAgICAgICAgZGF0YTogYmFzZTY0LAogICAgICAgIH0sCiAgICAgIH07CiAgICAgIHBlcmNlbnQudGV4dENvbnRlbnQgPQogICAgICAgICAgYCR7TWF0aC5yb3VuZCgocG9zaXRpb24gLyBmaWxlRGF0YS5ieXRlTGVuZ3RoKSAqIDEwMCl9JSBkb25lYDsKICAgIH0KICB9CgogIC8vIEFsbCBkb25lLgogIHlpZWxkIHsKICAgIHJlc3BvbnNlOiB7CiAgICAgIGFjdGlvbjogJ2NvbXBsZXRlJywKICAgIH0KICB9Owp9CgpzY29wZS5nb29nbGUgPSBzY29wZS5nb29nbGUgfHwge307CnNjb3BlLmdvb2dsZS5jb2xhYiA9IHNjb3BlLmdvb2dsZS5jb2xhYiB8fCB7fTsKc2NvcGUuZ29vZ2xlLmNvbGFiLl9maWxlcyA9IHsKICBfdXBsb2FkRmlsZXMsCiAgX3VwbG9hZEZpbGVzQ29udGludWUsCn07Cn0pKHNlbGYpOwo=",
              "ok": true,
              "headers": [
                [
                  "content-type",
                  "application/javascript"
                ]
              ],
              "status": 200,
              "status_text": ""
            }
          },
          "base_uri": "https://localhost:8080/",
          "height": 77
        },
        "outputId": "8ae7ff05-8a03-4e72-fe09-2f0be4a12f70"
      },
      "source": [
        "# 원하는 데이터가 담긴 엑셀 파일 가져오기\n",
        "\n",
        "from google.colab import files\n",
        "uploaded = files.upload()"
      ],
      "execution_count": null,
      "outputs": [
        {
          "output_type": "display_data",
          "data": {
            "text/html": [
              "\n",
              "     <input type=\"file\" id=\"files-cfc887a7-c3ae-4260-aa3e-286e3d08a5dc\" name=\"files[]\" multiple disabled />\n",
              "     <output id=\"result-cfc887a7-c3ae-4260-aa3e-286e3d08a5dc\">\n",
              "      Upload widget is only available when the cell has been executed in the\n",
              "      current browser session. Please rerun this cell to enable.\n",
              "      </output>\n",
              "      <script src=\"/nbextensions/google.colab/files.js\"></script> "
            ],
            "text/plain": [
              "<IPython.core.display.HTML object>"
            ]
          },
          "metadata": {
            "tags": []
          }
        },
        {
          "output_type": "stream",
          "text": [
            "Saving 배당주.xlsx to 배당주 (1).xlsx\n"
          ],
          "name": "stdout"
        }
      ]
    },
    {
      "cell_type": "code",
      "metadata": {
        "id": "h22y4q22ykIy",
        "colab_type": "code",
        "colab": {}
      },
      "source": [
        "df = pd.read_excel('배당주.xlsx', sheet_name='in')"
      ],
      "execution_count": null,
      "outputs": []
    },
    {
      "cell_type": "code",
      "metadata": {
        "id": "pT3DHYBvLY0V",
        "colab_type": "code",
        "colab": {
          "base_uri": "https://localhost:8080/",
          "height": 194
        },
        "outputId": "af124ad5-482b-47f5-c801-949617f719de"
      },
      "source": [
        "display(df.head()) #head() 함수는 위에서부터 5개의 줄 출력"
      ],
      "execution_count": null,
      "outputs": [
        {
          "output_type": "display_data",
          "data": {
            "text/html": [
              "<div>\n",
              "<style scoped>\n",
              "    .dataframe tbody tr th:only-of-type {\n",
              "        vertical-align: middle;\n",
              "    }\n",
              "\n",
              "    .dataframe tbody tr th {\n",
              "        vertical-align: top;\n",
              "    }\n",
              "\n",
              "    .dataframe thead th {\n",
              "        text-align: right;\n",
              "    }\n",
              "</style>\n",
              "<table border=\"1\" class=\"dataframe\">\n",
              "  <thead>\n",
              "    <tr style=\"text-align: right;\">\n",
              "      <th></th>\n",
              "      <th>종목코드</th>\n",
              "      <th>종목명</th>\n",
              "      <th>현재가</th>\n",
              "      <th>배당금</th>\n",
              "      <th>배당수익률</th>\n",
              "      <th>배당성향</th>\n",
              "      <th>ROE</th>\n",
              "      <th>PER</th>\n",
              "      <th>PBR</th>\n",
              "    </tr>\n",
              "  </thead>\n",
              "  <tbody>\n",
              "    <tr>\n",
              "      <th>0</th>\n",
              "      <td>'065690</td>\n",
              "      <td>파커스</td>\n",
              "      <td>1490</td>\n",
              "      <td>300</td>\n",
              "      <td>0.201</td>\n",
              "      <td>0.923</td>\n",
              "      <td>5.0</td>\n",
              "      <td>4.58</td>\n",
              "      <td>0.21</td>\n",
              "    </tr>\n",
              "    <tr>\n",
              "      <th>1</th>\n",
              "      <td>'041520</td>\n",
              "      <td>이라이콤</td>\n",
              "      <td>2530</td>\n",
              "      <td>400</td>\n",
              "      <td>0.158</td>\n",
              "      <td>0.593</td>\n",
              "      <td>4.0</td>\n",
              "      <td>3.75</td>\n",
              "      <td>0.15</td>\n",
              "    </tr>\n",
              "    <tr>\n",
              "      <th>2</th>\n",
              "      <td>'034950</td>\n",
              "      <td>한국기업평가</td>\n",
              "      <td>57500</td>\n",
              "      <td>8618</td>\n",
              "      <td>0.150</td>\n",
              "      <td>1.922</td>\n",
              "      <td>21.0</td>\n",
              "      <td>12.83</td>\n",
              "      <td>2.39</td>\n",
              "    </tr>\n",
              "    <tr>\n",
              "      <th>3</th>\n",
              "      <td>'155900</td>\n",
              "      <td>바다로19호</td>\n",
              "      <td>2435</td>\n",
              "      <td>354</td>\n",
              "      <td>0.145</td>\n",
              "      <td>0.727</td>\n",
              "      <td>16.3</td>\n",
              "      <td>5.00</td>\n",
              "      <td>0.81</td>\n",
              "    </tr>\n",
              "    <tr>\n",
              "      <th>4</th>\n",
              "      <td>'078020</td>\n",
              "      <td>이베스트투자증권</td>\n",
              "      <td>3400</td>\n",
              "      <td>485</td>\n",
              "      <td>0.143</td>\n",
              "      <td>0.577</td>\n",
              "      <td>8.6</td>\n",
              "      <td>4.04</td>\n",
              "      <td>0.31</td>\n",
              "    </tr>\n",
              "  </tbody>\n",
              "</table>\n",
              "</div>"
            ],
            "text/plain": [
              "      종목코드       종목명    현재가   배당금  배당수익률   배당성향   ROE    PER   PBR\n",
              "0  '065690       파커스   1490   300  0.201  0.923   5.0   4.58  0.21\n",
              "1  '041520      이라이콤   2530   400  0.158  0.593   4.0   3.75  0.15\n",
              "2  '034950    한국기업평가  57500  8618  0.150  1.922  21.0  12.83  2.39\n",
              "3  '155900    바다로19호   2435   354  0.145  0.727  16.3   5.00  0.81\n",
              "4  '078020  이베스트투자증권   3400   485  0.143  0.577   8.6   4.04  0.31"
            ]
          },
          "metadata": {
            "tags": []
          }
        }
      ]
    },
    {
      "cell_type": "markdown",
      "metadata": {
        "id": "19ulb5biMZQW",
        "colab_type": "text"
      },
      "source": [
        "**column 단위 데이터 추출**"
      ]
    },
    {
      "cell_type": "code",
      "metadata": {
        "id": "9cgORDtDLa27",
        "colab_type": "code",
        "colab": {
          "base_uri": "https://localhost:8080/",
          "height": 232
        },
        "outputId": "79888517-4837-4d92-9735-9f444f7f64d7"
      },
      "source": [
        "print(df['종목명']) # series 형태로 출력"
      ],
      "execution_count": null,
      "outputs": [
        {
          "output_type": "stream",
          "text": [
            "0          파커스\n",
            "1         이라이콤\n",
            "2       한국기업평가\n",
            "3       바다로19호\n",
            "4     이베스트투자증권\n",
            "        ...   \n",
            "95      스카이라이프\n",
            "96        S&TC\n",
            "97      미래에셋생명\n",
            "98       풍산홀딩스\n",
            "99      인지디스플레\n",
            "Name: 종목명, Length: 100, dtype: object\n"
          ],
          "name": "stdout"
        }
      ]
    },
    {
      "cell_type": "code",
      "metadata": {
        "id": "mvrLdTRwLcB0",
        "colab_type": "code",
        "colab": {
          "base_uri": "https://localhost:8080/",
          "height": 392
        },
        "outputId": "4bf1342f-ec6e-4ebe-8338-568597fe07e5"
      },
      "source": [
        "#column 단위 데이터 추출(n개)\n",
        "df[['종목명','현재가','배당수익률','배당금']]"
      ],
      "execution_count": null,
      "outputs": [
        {
          "output_type": "execute_result",
          "data": {
            "text/html": [
              "<div>\n",
              "<style scoped>\n",
              "    .dataframe tbody tr th:only-of-type {\n",
              "        vertical-align: middle;\n",
              "    }\n",
              "\n",
              "    .dataframe tbody tr th {\n",
              "        vertical-align: top;\n",
              "    }\n",
              "\n",
              "    .dataframe thead th {\n",
              "        text-align: right;\n",
              "    }\n",
              "</style>\n",
              "<table border=\"1\" class=\"dataframe\">\n",
              "  <thead>\n",
              "    <tr style=\"text-align: right;\">\n",
              "      <th></th>\n",
              "      <th>종목명</th>\n",
              "      <th>현재가</th>\n",
              "      <th>배당수익률</th>\n",
              "      <th>배당금</th>\n",
              "    </tr>\n",
              "  </thead>\n",
              "  <tbody>\n",
              "    <tr>\n",
              "      <th>0</th>\n",
              "      <td>파커스</td>\n",
              "      <td>1,490</td>\n",
              "      <td>20.1%</td>\n",
              "      <td>300</td>\n",
              "    </tr>\n",
              "    <tr>\n",
              "      <th>1</th>\n",
              "      <td>이라이콤</td>\n",
              "      <td>2,530</td>\n",
              "      <td>15.8%</td>\n",
              "      <td>400</td>\n",
              "    </tr>\n",
              "    <tr>\n",
              "      <th>2</th>\n",
              "      <td>한국기업평가</td>\n",
              "      <td>57,500</td>\n",
              "      <td>15.0%</td>\n",
              "      <td>8,618</td>\n",
              "    </tr>\n",
              "    <tr>\n",
              "      <th>3</th>\n",
              "      <td>바다로19호</td>\n",
              "      <td>2,435</td>\n",
              "      <td>14.5%</td>\n",
              "      <td>354</td>\n",
              "    </tr>\n",
              "    <tr>\n",
              "      <th>4</th>\n",
              "      <td>이베스트투자증권</td>\n",
              "      <td>3,400</td>\n",
              "      <td>14.3%</td>\n",
              "      <td>485</td>\n",
              "    </tr>\n",
              "    <tr>\n",
              "      <th>...</th>\n",
              "      <td>...</td>\n",
              "      <td>...</td>\n",
              "      <td>...</td>\n",
              "      <td>...</td>\n",
              "    </tr>\n",
              "    <tr>\n",
              "      <th>95</th>\n",
              "      <td>스카이라이프</td>\n",
              "      <td>5,150</td>\n",
              "      <td>6.8%</td>\n",
              "      <td>350</td>\n",
              "    </tr>\n",
              "    <tr>\n",
              "      <th>96</th>\n",
              "      <td>S&amp;TC</td>\n",
              "      <td>11,800</td>\n",
              "      <td>6.8%</td>\n",
              "      <td>800</td>\n",
              "    </tr>\n",
              "    <tr>\n",
              "      <th>97</th>\n",
              "      <td>미래에셋생명</td>\n",
              "      <td>2,510</td>\n",
              "      <td>6.8%</td>\n",
              "      <td>170</td>\n",
              "    </tr>\n",
              "    <tr>\n",
              "      <th>98</th>\n",
              "      <td>풍산홀딩스</td>\n",
              "      <td>20,900</td>\n",
              "      <td>6.7%</td>\n",
              "      <td>1,400</td>\n",
              "    </tr>\n",
              "    <tr>\n",
              "      <th>99</th>\n",
              "      <td>인지디스플레</td>\n",
              "      <td>1,120</td>\n",
              "      <td>6.7%</td>\n",
              "      <td>75</td>\n",
              "    </tr>\n",
              "  </tbody>\n",
              "</table>\n",
              "<p>100 rows × 4 columns</p>\n",
              "</div>"
            ],
            "text/plain": [
              "         종목명     현재가  배당수익률    배당금\n",
              "0        파커스   1,490  20.1%    300\n",
              "1       이라이콤   2,530  15.8%    400\n",
              "2     한국기업평가  57,500  15.0%  8,618\n",
              "3     바다로19호   2,435  14.5%    354\n",
              "4   이베스트투자증권   3,400  14.3%    485\n",
              "..       ...     ...    ...    ...\n",
              "95    스카이라이프   5,150   6.8%    350\n",
              "96      S&TC  11,800   6.8%    800\n",
              "97    미래에셋생명   2,510   6.8%    170\n",
              "98     풍산홀딩스  20,900   6.7%  1,400\n",
              "99    인지디스플레   1,120   6.7%     75\n",
              "\n",
              "[100 rows x 4 columns]"
            ]
          },
          "metadata": {
            "tags": []
          },
          "execution_count": 8
        }
      ]
    },
    {
      "cell_type": "markdown",
      "metadata": {
        "id": "Nhx1LJvbMeKh",
        "colab_type": "text"
      },
      "source": [
        "**데이터 접근 및 수정**"
      ]
    },
    {
      "cell_type": "code",
      "metadata": {
        "id": "vrX8pf8HKM5S",
        "colab_type": "code",
        "colab": {
          "base_uri": "https://localhost:8080/",
          "height": 106
        },
        "outputId": "8e296605-b384-44c2-fec2-f2ae5fd339d0"
      },
      "source": [
        "df['종목명'][0] = 'vkzjtm'"
      ],
      "execution_count": null,
      "outputs": [
        {
          "output_type": "stream",
          "text": [
            "/usr/local/lib/python3.6/dist-packages/ipykernel_launcher.py:2: SettingWithCopyWarning: \n",
            "A value is trying to be set on a copy of a slice from a DataFrame\n",
            "\n",
            "See the caveats in the documentation: http://pandas.pydata.org/pandas-docs/stable/user_guide/indexing.html#returning-a-view-versus-a-copy\n",
            "  \n"
          ],
          "name": "stderr"
        }
      ]
    },
    {
      "cell_type": "code",
      "metadata": {
        "id": "-6GrGl3zKuwc",
        "colab_type": "code",
        "colab": {
          "base_uri": "https://localhost:8080/",
          "height": 34
        },
        "outputId": "2c9b47cc-a8bb-4655-b748-1e61bea1b50c"
      },
      "source": [
        "df['종목명'][0]"
      ],
      "execution_count": null,
      "outputs": [
        {
          "output_type": "execute_result",
          "data": {
            "text/plain": [
              "'vkzjtm'"
            ]
          },
          "metadata": {
            "tags": []
          },
          "execution_count": 10
        }
      ]
    },
    {
      "cell_type": "code",
      "metadata": {
        "id": "UNwTj0S3KwS8",
        "colab_type": "code",
        "colab": {
          "base_uri": "https://localhost:8080/",
          "height": 106
        },
        "outputId": "c1349404-dc9e-4a25-a497-64a48c769bb1"
      },
      "source": [
        "df['종목명'][0]='파커스'"
      ],
      "execution_count": null,
      "outputs": [
        {
          "output_type": "stream",
          "text": [
            "/usr/local/lib/python3.6/dist-packages/ipykernel_launcher.py:1: SettingWithCopyWarning: \n",
            "A value is trying to be set on a copy of a slice from a DataFrame\n",
            "\n",
            "See the caveats in the documentation: http://pandas.pydata.org/pandas-docs/stable/user_guide/indexing.html#returning-a-view-versus-a-copy\n",
            "  \"\"\"Entry point for launching an IPython kernel.\n"
          ],
          "name": "stderr"
        }
      ]
    },
    {
      "cell_type": "code",
      "metadata": {
        "id": "dUTsNt34gHAF",
        "colab_type": "code",
        "colab": {}
      },
      "source": [
        "#list 또는 numpy형식으로 데이터 수정 가능\n",
        "#문제 상황: 가격 정보를 숫자로 인식하게 하여 연산을 하고 싶은데 현재가에 담긴 데이터로는 바로 처리 어렵다\n",
        "def data_process(index):\n",
        "  ind=[]\n",
        "  ind = list(df[index])\n",
        "\n",
        "  for i in range(len(df[index])):\n",
        "    if(ind[i][-1]=='%'):\n",
        "      ind[i] = float(ind[i].replace('%', ''));\n",
        "    elif(ind[i][0]==\"'\"):\n",
        "      ind[i] = ind[i].replace(\"'\", '')\n",
        "    else:\n",
        "      ind[i] = float(ind[i].replace(',', ''))\n",
        "     \n",
        "  df[index]=pd.DataFrame(ind)"
      ],
      "execution_count": null,
      "outputs": []
    },
    {
      "cell_type": "code",
      "metadata": {
        "id": "2ZHtvl6BSBId",
        "colab_type": "code",
        "colab": {}
      },
      "source": [
        "data_process('종목코드')"
      ],
      "execution_count": null,
      "outputs": []
    },
    {
      "cell_type": "code",
      "metadata": {
        "id": "JXq3JXi-Lklv",
        "colab_type": "code",
        "colab": {}
      },
      "source": [
        "data_process('현재가')"
      ],
      "execution_count": null,
      "outputs": []
    },
    {
      "cell_type": "code",
      "metadata": {
        "id": "YI-QiqhXl6AK",
        "colab_type": "code",
        "colab": {}
      },
      "source": [
        "data_process('배당금')"
      ],
      "execution_count": null,
      "outputs": []
    },
    {
      "cell_type": "code",
      "metadata": {
        "id": "3WRHiCORmkeF",
        "colab_type": "code",
        "colab": {}
      },
      "source": [
        "data_process('배당수익률')"
      ],
      "execution_count": null,
      "outputs": []
    },
    {
      "cell_type": "code",
      "metadata": {
        "id": "lHzZPG_vnhJy",
        "colab_type": "code",
        "colab": {}
      },
      "source": [
        "data_process('배당성향')"
      ],
      "execution_count": null,
      "outputs": []
    },
    {
      "cell_type": "code",
      "metadata": {
        "id": "G4QQF2LrLdYw",
        "colab_type": "code",
        "colab": {
          "base_uri": "https://localhost:8080/",
          "height": 190
        },
        "outputId": "bef937b5-8a66-46d5-93d4-6d7281f4d3b8"
      },
      "source": [
        "df.head()"
      ],
      "execution_count": null,
      "outputs": [
        {
          "output_type": "execute_result",
          "data": {
            "text/html": [
              "<div>\n",
              "<style scoped>\n",
              "    .dataframe tbody tr th:only-of-type {\n",
              "        vertical-align: middle;\n",
              "    }\n",
              "\n",
              "    .dataframe tbody tr th {\n",
              "        vertical-align: top;\n",
              "    }\n",
              "\n",
              "    .dataframe thead th {\n",
              "        text-align: right;\n",
              "    }\n",
              "</style>\n",
              "<table border=\"1\" class=\"dataframe\">\n",
              "  <thead>\n",
              "    <tr style=\"text-align: right;\">\n",
              "      <th></th>\n",
              "      <th>종목코드</th>\n",
              "      <th>종목명</th>\n",
              "      <th>현재가</th>\n",
              "      <th>배당금</th>\n",
              "      <th>배당수익률</th>\n",
              "      <th>배당성향</th>\n",
              "      <th>ROE</th>\n",
              "      <th>PER</th>\n",
              "      <th>PBR</th>\n",
              "    </tr>\n",
              "  </thead>\n",
              "  <tbody>\n",
              "    <tr>\n",
              "      <th>0</th>\n",
              "      <td>065690</td>\n",
              "      <td>파커스</td>\n",
              "      <td>1490.0</td>\n",
              "      <td>300.0</td>\n",
              "      <td>20.1</td>\n",
              "      <td>92.3</td>\n",
              "      <td>5.0</td>\n",
              "      <td>4.58</td>\n",
              "      <td>0.21</td>\n",
              "    </tr>\n",
              "    <tr>\n",
              "      <th>1</th>\n",
              "      <td>041520</td>\n",
              "      <td>이라이콤</td>\n",
              "      <td>2530.0</td>\n",
              "      <td>400.0</td>\n",
              "      <td>15.8</td>\n",
              "      <td>59.3</td>\n",
              "      <td>4.0</td>\n",
              "      <td>3.75</td>\n",
              "      <td>0.15</td>\n",
              "    </tr>\n",
              "    <tr>\n",
              "      <th>2</th>\n",
              "      <td>034950</td>\n",
              "      <td>한국기업평가</td>\n",
              "      <td>57500.0</td>\n",
              "      <td>8618.0</td>\n",
              "      <td>15.0</td>\n",
              "      <td>192.2</td>\n",
              "      <td>21.0</td>\n",
              "      <td>12.83</td>\n",
              "      <td>2.39</td>\n",
              "    </tr>\n",
              "    <tr>\n",
              "      <th>3</th>\n",
              "      <td>155900</td>\n",
              "      <td>바다로19호</td>\n",
              "      <td>2435.0</td>\n",
              "      <td>354.0</td>\n",
              "      <td>14.5</td>\n",
              "      <td>72.7</td>\n",
              "      <td>16.3</td>\n",
              "      <td>5.00</td>\n",
              "      <td>0.81</td>\n",
              "    </tr>\n",
              "    <tr>\n",
              "      <th>4</th>\n",
              "      <td>078020</td>\n",
              "      <td>이베스트투자증권</td>\n",
              "      <td>3400.0</td>\n",
              "      <td>485.0</td>\n",
              "      <td>14.3</td>\n",
              "      <td>57.7</td>\n",
              "      <td>8.6</td>\n",
              "      <td>4.04</td>\n",
              "      <td>0.31</td>\n",
              "    </tr>\n",
              "  </tbody>\n",
              "</table>\n",
              "</div>"
            ],
            "text/plain": [
              "     종목코드       종목명      현재가     배당금  배당수익률   배당성향   ROE    PER   PBR\n",
              "0  065690       파커스   1490.0   300.0   20.1   92.3   5.0   4.58  0.21\n",
              "1  041520      이라이콤   2530.0   400.0   15.8   59.3   4.0   3.75  0.15\n",
              "2  034950    한국기업평가  57500.0  8618.0   15.0  192.2  21.0  12.83  2.39\n",
              "3  155900    바다로19호   2435.0   354.0   14.5   72.7  16.3   5.00  0.81\n",
              "4  078020  이베스트투자증권   3400.0   485.0   14.3   57.7   8.6   4.04  0.31"
            ]
          },
          "metadata": {
            "tags": []
          },
          "execution_count": 22
        }
      ]
    },
    {
      "cell_type": "markdown",
      "metadata": {
        "id": "l5fqeiH5Mgnw",
        "colab_type": "text"
      },
      "source": [
        "**column 추가/삭제 (+)연산**"
      ]
    },
    {
      "cell_type": "code",
      "metadata": {
        "id": "cPA37U-WLdcc",
        "colab_type": "code",
        "colab": {}
      },
      "source": [
        "# column 추가\n",
        "df['신호']= 0"
      ],
      "execution_count": null,
      "outputs": []
    },
    {
      "cell_type": "code",
      "metadata": {
        "id": "WkFAkhwLLeS3",
        "colab_type": "code",
        "colab": {
          "base_uri": "https://localhost:8080/",
          "height": 106
        },
        "outputId": "a7b5c812-fd43-4b81-84b3-94a2c626ed3e"
      },
      "source": [
        "# column 연산\n",
        "for i in range(len(df['ROE'])): \n",
        "  if(df['ROE'][i]>=float(df['ROE'].mean())) :\n",
        "        df['신호'][i]=1"
      ],
      "execution_count": null,
      "outputs": [
        {
          "output_type": "stream",
          "text": [
            "/usr/local/lib/python3.6/dist-packages/ipykernel_launcher.py:3: SettingWithCopyWarning: \n",
            "A value is trying to be set on a copy of a slice from a DataFrame\n",
            "\n",
            "See the caveats in the documentation: http://pandas.pydata.org/pandas-docs/stable/user_guide/indexing.html#returning-a-view-versus-a-copy\n",
            "  This is separate from the ipykernel package so we can avoid doing imports until\n"
          ],
          "name": "stderr"
        }
      ]
    },
    {
      "cell_type": "code",
      "metadata": {
        "id": "nQVEdSG_MMn2",
        "colab_type": "code",
        "colab": {
          "base_uri": "https://localhost:8080/",
          "height": 190
        },
        "outputId": "b36bfb38-b2d6-46eb-da7b-2ec43d451bf3"
      },
      "source": [
        "df.head()"
      ],
      "execution_count": null,
      "outputs": [
        {
          "output_type": "execute_result",
          "data": {
            "text/html": [
              "<div>\n",
              "<style scoped>\n",
              "    .dataframe tbody tr th:only-of-type {\n",
              "        vertical-align: middle;\n",
              "    }\n",
              "\n",
              "    .dataframe tbody tr th {\n",
              "        vertical-align: top;\n",
              "    }\n",
              "\n",
              "    .dataframe thead th {\n",
              "        text-align: right;\n",
              "    }\n",
              "</style>\n",
              "<table border=\"1\" class=\"dataframe\">\n",
              "  <thead>\n",
              "    <tr style=\"text-align: right;\">\n",
              "      <th></th>\n",
              "      <th>종목코드</th>\n",
              "      <th>종목명</th>\n",
              "      <th>현재가</th>\n",
              "      <th>배당금</th>\n",
              "      <th>배당수익률</th>\n",
              "      <th>배당성향</th>\n",
              "      <th>ROE</th>\n",
              "      <th>PER</th>\n",
              "      <th>PBR</th>\n",
              "      <th>신호</th>\n",
              "    </tr>\n",
              "  </thead>\n",
              "  <tbody>\n",
              "    <tr>\n",
              "      <th>0</th>\n",
              "      <td>065690</td>\n",
              "      <td>파커스</td>\n",
              "      <td>1490.0</td>\n",
              "      <td>300.0</td>\n",
              "      <td>20.1</td>\n",
              "      <td>92.3</td>\n",
              "      <td>5.0</td>\n",
              "      <td>4.58</td>\n",
              "      <td>0.21</td>\n",
              "      <td>0</td>\n",
              "    </tr>\n",
              "    <tr>\n",
              "      <th>1</th>\n",
              "      <td>041520</td>\n",
              "      <td>이라이콤</td>\n",
              "      <td>2530.0</td>\n",
              "      <td>400.0</td>\n",
              "      <td>15.8</td>\n",
              "      <td>59.3</td>\n",
              "      <td>4.0</td>\n",
              "      <td>3.75</td>\n",
              "      <td>0.15</td>\n",
              "      <td>0</td>\n",
              "    </tr>\n",
              "    <tr>\n",
              "      <th>2</th>\n",
              "      <td>034950</td>\n",
              "      <td>한국기업평가</td>\n",
              "      <td>57500.0</td>\n",
              "      <td>8618.0</td>\n",
              "      <td>15.0</td>\n",
              "      <td>192.2</td>\n",
              "      <td>21.0</td>\n",
              "      <td>12.83</td>\n",
              "      <td>2.39</td>\n",
              "      <td>1</td>\n",
              "    </tr>\n",
              "    <tr>\n",
              "      <th>3</th>\n",
              "      <td>155900</td>\n",
              "      <td>바다로19호</td>\n",
              "      <td>2435.0</td>\n",
              "      <td>354.0</td>\n",
              "      <td>14.5</td>\n",
              "      <td>72.7</td>\n",
              "      <td>16.3</td>\n",
              "      <td>5.00</td>\n",
              "      <td>0.81</td>\n",
              "      <td>1</td>\n",
              "    </tr>\n",
              "    <tr>\n",
              "      <th>4</th>\n",
              "      <td>078020</td>\n",
              "      <td>이베스트투자증권</td>\n",
              "      <td>3400.0</td>\n",
              "      <td>485.0</td>\n",
              "      <td>14.3</td>\n",
              "      <td>57.7</td>\n",
              "      <td>8.6</td>\n",
              "      <td>4.04</td>\n",
              "      <td>0.31</td>\n",
              "      <td>0</td>\n",
              "    </tr>\n",
              "  </tbody>\n",
              "</table>\n",
              "</div>"
            ],
            "text/plain": [
              "     종목코드       종목명      현재가     배당금  배당수익률   배당성향   ROE    PER   PBR  신호\n",
              "0  065690       파커스   1490.0   300.0   20.1   92.3   5.0   4.58  0.21   0\n",
              "1  041520      이라이콤   2530.0   400.0   15.8   59.3   4.0   3.75  0.15   0\n",
              "2  034950    한국기업평가  57500.0  8618.0   15.0  192.2  21.0  12.83  2.39   1\n",
              "3  155900    바다로19호   2435.0   354.0   14.5   72.7  16.3   5.00  0.81   1\n",
              "4  078020  이베스트투자증권   3400.0   485.0   14.3   57.7   8.6   4.04  0.31   0"
            ]
          },
          "metadata": {
            "tags": []
          },
          "execution_count": 25
        }
      ]
    },
    {
      "cell_type": "code",
      "metadata": {
        "id": "-LDPt2d4MoBc",
        "colab_type": "code",
        "colab": {
          "base_uri": "https://localhost:8080/",
          "height": 190
        },
        "outputId": "2001e6b4-f9ae-4028-c209-5622d0c8ee48"
      },
      "source": [
        "# column 삭제\n",
        "df['실수']= 0\n",
        "df.head()"
      ],
      "execution_count": null,
      "outputs": [
        {
          "output_type": "execute_result",
          "data": {
            "text/html": [
              "<div>\n",
              "<style scoped>\n",
              "    .dataframe tbody tr th:only-of-type {\n",
              "        vertical-align: middle;\n",
              "    }\n",
              "\n",
              "    .dataframe tbody tr th {\n",
              "        vertical-align: top;\n",
              "    }\n",
              "\n",
              "    .dataframe thead th {\n",
              "        text-align: right;\n",
              "    }\n",
              "</style>\n",
              "<table border=\"1\" class=\"dataframe\">\n",
              "  <thead>\n",
              "    <tr style=\"text-align: right;\">\n",
              "      <th></th>\n",
              "      <th>종목코드</th>\n",
              "      <th>종목명</th>\n",
              "      <th>현재가</th>\n",
              "      <th>배당금</th>\n",
              "      <th>배당수익률</th>\n",
              "      <th>배당성향</th>\n",
              "      <th>ROE</th>\n",
              "      <th>PER</th>\n",
              "      <th>PBR</th>\n",
              "      <th>신호</th>\n",
              "      <th>실수</th>\n",
              "    </tr>\n",
              "  </thead>\n",
              "  <tbody>\n",
              "    <tr>\n",
              "      <th>0</th>\n",
              "      <td>065690</td>\n",
              "      <td>파커스</td>\n",
              "      <td>1490.0</td>\n",
              "      <td>300.0</td>\n",
              "      <td>20.1</td>\n",
              "      <td>92.3</td>\n",
              "      <td>5.0</td>\n",
              "      <td>4.58</td>\n",
              "      <td>0.21</td>\n",
              "      <td>0</td>\n",
              "      <td>0</td>\n",
              "    </tr>\n",
              "    <tr>\n",
              "      <th>1</th>\n",
              "      <td>041520</td>\n",
              "      <td>이라이콤</td>\n",
              "      <td>2530.0</td>\n",
              "      <td>400.0</td>\n",
              "      <td>15.8</td>\n",
              "      <td>59.3</td>\n",
              "      <td>4.0</td>\n",
              "      <td>3.75</td>\n",
              "      <td>0.15</td>\n",
              "      <td>0</td>\n",
              "      <td>0</td>\n",
              "    </tr>\n",
              "    <tr>\n",
              "      <th>2</th>\n",
              "      <td>034950</td>\n",
              "      <td>한국기업평가</td>\n",
              "      <td>57500.0</td>\n",
              "      <td>8618.0</td>\n",
              "      <td>15.0</td>\n",
              "      <td>192.2</td>\n",
              "      <td>21.0</td>\n",
              "      <td>12.83</td>\n",
              "      <td>2.39</td>\n",
              "      <td>1</td>\n",
              "      <td>0</td>\n",
              "    </tr>\n",
              "    <tr>\n",
              "      <th>3</th>\n",
              "      <td>155900</td>\n",
              "      <td>바다로19호</td>\n",
              "      <td>2435.0</td>\n",
              "      <td>354.0</td>\n",
              "      <td>14.5</td>\n",
              "      <td>72.7</td>\n",
              "      <td>16.3</td>\n",
              "      <td>5.00</td>\n",
              "      <td>0.81</td>\n",
              "      <td>1</td>\n",
              "      <td>0</td>\n",
              "    </tr>\n",
              "    <tr>\n",
              "      <th>4</th>\n",
              "      <td>078020</td>\n",
              "      <td>이베스트투자증권</td>\n",
              "      <td>3400.0</td>\n",
              "      <td>485.0</td>\n",
              "      <td>14.3</td>\n",
              "      <td>57.7</td>\n",
              "      <td>8.6</td>\n",
              "      <td>4.04</td>\n",
              "      <td>0.31</td>\n",
              "      <td>0</td>\n",
              "      <td>0</td>\n",
              "    </tr>\n",
              "  </tbody>\n",
              "</table>\n",
              "</div>"
            ],
            "text/plain": [
              "     종목코드       종목명      현재가     배당금  배당수익률   배당성향   ROE    PER   PBR  신호  실수\n",
              "0  065690       파커스   1490.0   300.0   20.1   92.3   5.0   4.58  0.21   0   0\n",
              "1  041520      이라이콤   2530.0   400.0   15.8   59.3   4.0   3.75  0.15   0   0\n",
              "2  034950    한국기업평가  57500.0  8618.0   15.0  192.2  21.0  12.83  2.39   1   0\n",
              "3  155900    바다로19호   2435.0   354.0   14.5   72.7  16.3   5.00  0.81   1   0\n",
              "4  078020  이베스트투자증권   3400.0   485.0   14.3   57.7   8.6   4.04  0.31   0   0"
            ]
          },
          "metadata": {
            "tags": []
          },
          "execution_count": 26
        }
      ]
    },
    {
      "cell_type": "code",
      "metadata": {
        "id": "WdRm8WnqM_-i",
        "colab_type": "code",
        "colab": {
          "base_uri": "https://localhost:8080/",
          "height": 190
        },
        "outputId": "69ceca84-1ee6-4a83-9c6b-52358e290e2c"
      },
      "source": [
        "# keyword del 사용\n",
        "del df['실수']\n",
        "df.head()"
      ],
      "execution_count": null,
      "outputs": [
        {
          "output_type": "execute_result",
          "data": {
            "text/html": [
              "<div>\n",
              "<style scoped>\n",
              "    .dataframe tbody tr th:only-of-type {\n",
              "        vertical-align: middle;\n",
              "    }\n",
              "\n",
              "    .dataframe tbody tr th {\n",
              "        vertical-align: top;\n",
              "    }\n",
              "\n",
              "    .dataframe thead th {\n",
              "        text-align: right;\n",
              "    }\n",
              "</style>\n",
              "<table border=\"1\" class=\"dataframe\">\n",
              "  <thead>\n",
              "    <tr style=\"text-align: right;\">\n",
              "      <th></th>\n",
              "      <th>종목코드</th>\n",
              "      <th>종목명</th>\n",
              "      <th>현재가</th>\n",
              "      <th>배당금</th>\n",
              "      <th>배당수익률</th>\n",
              "      <th>배당성향</th>\n",
              "      <th>ROE</th>\n",
              "      <th>PER</th>\n",
              "      <th>PBR</th>\n",
              "      <th>신호</th>\n",
              "    </tr>\n",
              "  </thead>\n",
              "  <tbody>\n",
              "    <tr>\n",
              "      <th>0</th>\n",
              "      <td>065690</td>\n",
              "      <td>파커스</td>\n",
              "      <td>1490.0</td>\n",
              "      <td>300.0</td>\n",
              "      <td>20.1</td>\n",
              "      <td>92.3</td>\n",
              "      <td>5.0</td>\n",
              "      <td>4.58</td>\n",
              "      <td>0.21</td>\n",
              "      <td>0</td>\n",
              "    </tr>\n",
              "    <tr>\n",
              "      <th>1</th>\n",
              "      <td>041520</td>\n",
              "      <td>이라이콤</td>\n",
              "      <td>2530.0</td>\n",
              "      <td>400.0</td>\n",
              "      <td>15.8</td>\n",
              "      <td>59.3</td>\n",
              "      <td>4.0</td>\n",
              "      <td>3.75</td>\n",
              "      <td>0.15</td>\n",
              "      <td>0</td>\n",
              "    </tr>\n",
              "    <tr>\n",
              "      <th>2</th>\n",
              "      <td>034950</td>\n",
              "      <td>한국기업평가</td>\n",
              "      <td>57500.0</td>\n",
              "      <td>8618.0</td>\n",
              "      <td>15.0</td>\n",
              "      <td>192.2</td>\n",
              "      <td>21.0</td>\n",
              "      <td>12.83</td>\n",
              "      <td>2.39</td>\n",
              "      <td>1</td>\n",
              "    </tr>\n",
              "    <tr>\n",
              "      <th>3</th>\n",
              "      <td>155900</td>\n",
              "      <td>바다로19호</td>\n",
              "      <td>2435.0</td>\n",
              "      <td>354.0</td>\n",
              "      <td>14.5</td>\n",
              "      <td>72.7</td>\n",
              "      <td>16.3</td>\n",
              "      <td>5.00</td>\n",
              "      <td>0.81</td>\n",
              "      <td>1</td>\n",
              "    </tr>\n",
              "    <tr>\n",
              "      <th>4</th>\n",
              "      <td>078020</td>\n",
              "      <td>이베스트투자증권</td>\n",
              "      <td>3400.0</td>\n",
              "      <td>485.0</td>\n",
              "      <td>14.3</td>\n",
              "      <td>57.7</td>\n",
              "      <td>8.6</td>\n",
              "      <td>4.04</td>\n",
              "      <td>0.31</td>\n",
              "      <td>0</td>\n",
              "    </tr>\n",
              "  </tbody>\n",
              "</table>\n",
              "</div>"
            ],
            "text/plain": [
              "     종목코드       종목명      현재가     배당금  배당수익률   배당성향   ROE    PER   PBR  신호\n",
              "0  065690       파커스   1490.0   300.0   20.1   92.3   5.0   4.58  0.21   0\n",
              "1  041520      이라이콤   2530.0   400.0   15.8   59.3   4.0   3.75  0.15   0\n",
              "2  034950    한국기업평가  57500.0  8618.0   15.0  192.2  21.0  12.83  2.39   1\n",
              "3  155900    바다로19호   2435.0   354.0   14.5   72.7  16.3   5.00  0.81   1\n",
              "4  078020  이베스트투자증권   3400.0   485.0   14.3   57.7   8.6   4.04  0.31   0"
            ]
          },
          "metadata": {
            "tags": []
          },
          "execution_count": 27
        }
      ]
    },
    {
      "cell_type": "code",
      "metadata": {
        "id": "IK595v_QNJLs",
        "colab_type": "code",
        "colab": {
          "base_uri": "https://localhost:8080/",
          "height": 190
        },
        "outputId": "a841ea7a-5732-4e8d-dc0d-d363273a599a"
      },
      "source": [
        "df['실수']= 0\n",
        "new_df= df.drop('실수', axis=1, inplace= False) #True 설정 시 원본까지 변경\n",
        "new_df.head()"
      ],
      "execution_count": null,
      "outputs": [
        {
          "output_type": "execute_result",
          "data": {
            "text/html": [
              "<div>\n",
              "<style scoped>\n",
              "    .dataframe tbody tr th:only-of-type {\n",
              "        vertical-align: middle;\n",
              "    }\n",
              "\n",
              "    .dataframe tbody tr th {\n",
              "        vertical-align: top;\n",
              "    }\n",
              "\n",
              "    .dataframe thead th {\n",
              "        text-align: right;\n",
              "    }\n",
              "</style>\n",
              "<table border=\"1\" class=\"dataframe\">\n",
              "  <thead>\n",
              "    <tr style=\"text-align: right;\">\n",
              "      <th></th>\n",
              "      <th>종목코드</th>\n",
              "      <th>종목명</th>\n",
              "      <th>현재가</th>\n",
              "      <th>배당금</th>\n",
              "      <th>배당수익률</th>\n",
              "      <th>배당성향</th>\n",
              "      <th>ROE</th>\n",
              "      <th>PER</th>\n",
              "      <th>PBR</th>\n",
              "      <th>신호</th>\n",
              "    </tr>\n",
              "  </thead>\n",
              "  <tbody>\n",
              "    <tr>\n",
              "      <th>0</th>\n",
              "      <td>065690</td>\n",
              "      <td>파커스</td>\n",
              "      <td>1490.0</td>\n",
              "      <td>300.0</td>\n",
              "      <td>20.1</td>\n",
              "      <td>92.3</td>\n",
              "      <td>5.0</td>\n",
              "      <td>4.58</td>\n",
              "      <td>0.21</td>\n",
              "      <td>0</td>\n",
              "    </tr>\n",
              "    <tr>\n",
              "      <th>1</th>\n",
              "      <td>041520</td>\n",
              "      <td>이라이콤</td>\n",
              "      <td>2530.0</td>\n",
              "      <td>400.0</td>\n",
              "      <td>15.8</td>\n",
              "      <td>59.3</td>\n",
              "      <td>4.0</td>\n",
              "      <td>3.75</td>\n",
              "      <td>0.15</td>\n",
              "      <td>0</td>\n",
              "    </tr>\n",
              "    <tr>\n",
              "      <th>2</th>\n",
              "      <td>034950</td>\n",
              "      <td>한국기업평가</td>\n",
              "      <td>57500.0</td>\n",
              "      <td>8618.0</td>\n",
              "      <td>15.0</td>\n",
              "      <td>192.2</td>\n",
              "      <td>21.0</td>\n",
              "      <td>12.83</td>\n",
              "      <td>2.39</td>\n",
              "      <td>1</td>\n",
              "    </tr>\n",
              "    <tr>\n",
              "      <th>3</th>\n",
              "      <td>155900</td>\n",
              "      <td>바다로19호</td>\n",
              "      <td>2435.0</td>\n",
              "      <td>354.0</td>\n",
              "      <td>14.5</td>\n",
              "      <td>72.7</td>\n",
              "      <td>16.3</td>\n",
              "      <td>5.00</td>\n",
              "      <td>0.81</td>\n",
              "      <td>1</td>\n",
              "    </tr>\n",
              "    <tr>\n",
              "      <th>4</th>\n",
              "      <td>078020</td>\n",
              "      <td>이베스트투자증권</td>\n",
              "      <td>3400.0</td>\n",
              "      <td>485.0</td>\n",
              "      <td>14.3</td>\n",
              "      <td>57.7</td>\n",
              "      <td>8.6</td>\n",
              "      <td>4.04</td>\n",
              "      <td>0.31</td>\n",
              "      <td>0</td>\n",
              "    </tr>\n",
              "  </tbody>\n",
              "</table>\n",
              "</div>"
            ],
            "text/plain": [
              "     종목코드       종목명      현재가     배당금  배당수익률   배당성향   ROE    PER   PBR  신호\n",
              "0  065690       파커스   1490.0   300.0   20.1   92.3   5.0   4.58  0.21   0\n",
              "1  041520      이라이콤   2530.0   400.0   15.8   59.3   4.0   3.75  0.15   0\n",
              "2  034950    한국기업평가  57500.0  8618.0   15.0  192.2  21.0  12.83  2.39   1\n",
              "3  155900    바다로19호   2435.0   354.0   14.5   72.7  16.3   5.00  0.81   1\n",
              "4  078020  이베스트투자증권   3400.0   485.0   14.3   57.7   8.6   4.04  0.31   0"
            ]
          },
          "metadata": {
            "tags": []
          },
          "execution_count": 28
        }
      ]
    },
    {
      "cell_type": "code",
      "metadata": {
        "id": "WGyIMDGsNukU",
        "colab_type": "code",
        "colab": {
          "base_uri": "https://localhost:8080/",
          "height": 190
        },
        "outputId": "a9b8a49c-a6d2-4ad6-ade2-a51c4dd90995"
      },
      "source": [
        "df.head()"
      ],
      "execution_count": null,
      "outputs": [
        {
          "output_type": "execute_result",
          "data": {
            "text/html": [
              "<div>\n",
              "<style scoped>\n",
              "    .dataframe tbody tr th:only-of-type {\n",
              "        vertical-align: middle;\n",
              "    }\n",
              "\n",
              "    .dataframe tbody tr th {\n",
              "        vertical-align: top;\n",
              "    }\n",
              "\n",
              "    .dataframe thead th {\n",
              "        text-align: right;\n",
              "    }\n",
              "</style>\n",
              "<table border=\"1\" class=\"dataframe\">\n",
              "  <thead>\n",
              "    <tr style=\"text-align: right;\">\n",
              "      <th></th>\n",
              "      <th>종목코드</th>\n",
              "      <th>종목명</th>\n",
              "      <th>현재가</th>\n",
              "      <th>배당금</th>\n",
              "      <th>배당수익률</th>\n",
              "      <th>배당성향</th>\n",
              "      <th>ROE</th>\n",
              "      <th>PER</th>\n",
              "      <th>PBR</th>\n",
              "      <th>신호</th>\n",
              "      <th>실수</th>\n",
              "    </tr>\n",
              "  </thead>\n",
              "  <tbody>\n",
              "    <tr>\n",
              "      <th>0</th>\n",
              "      <td>065690</td>\n",
              "      <td>파커스</td>\n",
              "      <td>1490.0</td>\n",
              "      <td>300.0</td>\n",
              "      <td>20.1</td>\n",
              "      <td>92.3</td>\n",
              "      <td>5.0</td>\n",
              "      <td>4.58</td>\n",
              "      <td>0.21</td>\n",
              "      <td>0</td>\n",
              "      <td>0</td>\n",
              "    </tr>\n",
              "    <tr>\n",
              "      <th>1</th>\n",
              "      <td>041520</td>\n",
              "      <td>이라이콤</td>\n",
              "      <td>2530.0</td>\n",
              "      <td>400.0</td>\n",
              "      <td>15.8</td>\n",
              "      <td>59.3</td>\n",
              "      <td>4.0</td>\n",
              "      <td>3.75</td>\n",
              "      <td>0.15</td>\n",
              "      <td>0</td>\n",
              "      <td>0</td>\n",
              "    </tr>\n",
              "    <tr>\n",
              "      <th>2</th>\n",
              "      <td>034950</td>\n",
              "      <td>한국기업평가</td>\n",
              "      <td>57500.0</td>\n",
              "      <td>8618.0</td>\n",
              "      <td>15.0</td>\n",
              "      <td>192.2</td>\n",
              "      <td>21.0</td>\n",
              "      <td>12.83</td>\n",
              "      <td>2.39</td>\n",
              "      <td>1</td>\n",
              "      <td>0</td>\n",
              "    </tr>\n",
              "    <tr>\n",
              "      <th>3</th>\n",
              "      <td>155900</td>\n",
              "      <td>바다로19호</td>\n",
              "      <td>2435.0</td>\n",
              "      <td>354.0</td>\n",
              "      <td>14.5</td>\n",
              "      <td>72.7</td>\n",
              "      <td>16.3</td>\n",
              "      <td>5.00</td>\n",
              "      <td>0.81</td>\n",
              "      <td>1</td>\n",
              "      <td>0</td>\n",
              "    </tr>\n",
              "    <tr>\n",
              "      <th>4</th>\n",
              "      <td>078020</td>\n",
              "      <td>이베스트투자증권</td>\n",
              "      <td>3400.0</td>\n",
              "      <td>485.0</td>\n",
              "      <td>14.3</td>\n",
              "      <td>57.7</td>\n",
              "      <td>8.6</td>\n",
              "      <td>4.04</td>\n",
              "      <td>0.31</td>\n",
              "      <td>0</td>\n",
              "      <td>0</td>\n",
              "    </tr>\n",
              "  </tbody>\n",
              "</table>\n",
              "</div>"
            ],
            "text/plain": [
              "     종목코드       종목명      현재가     배당금  배당수익률   배당성향   ROE    PER   PBR  신호  실수\n",
              "0  065690       파커스   1490.0   300.0   20.1   92.3   5.0   4.58  0.21   0   0\n",
              "1  041520      이라이콤   2530.0   400.0   15.8   59.3   4.0   3.75  0.15   0   0\n",
              "2  034950    한국기업평가  57500.0  8618.0   15.0  192.2  21.0  12.83  2.39   1   0\n",
              "3  155900    바다로19호   2435.0   354.0   14.5   72.7  16.3   5.00  0.81   1   0\n",
              "4  078020  이베스트투자증권   3400.0   485.0   14.3   57.7   8.6   4.04  0.31   0   0"
            ]
          },
          "metadata": {
            "tags": []
          },
          "execution_count": 29
        }
      ]
    },
    {
      "cell_type": "markdown",
      "metadata": {
        "id": "Y0OJ6BvqMpLY",
        "colab_type": "text"
      },
      "source": [
        "**row 기준 데이터 접근/추출**"
      ]
    },
    {
      "cell_type": "code",
      "metadata": {
        "id": "53jAlykSaMcE",
        "colab_type": "code",
        "colab": {
          "base_uri": "https://localhost:8080/",
          "height": 214
        },
        "outputId": "4c6b6c53-1a0a-45e2-9081-1b1761f6080d"
      },
      "source": [
        "del df['실수']\n",
        "#추출/접근: df.loc[인덱스]\n",
        "df.loc[1]"
      ],
      "execution_count": null,
      "outputs": [
        {
          "output_type": "execute_result",
          "data": {
            "text/plain": [
              "종목코드     041520\n",
              "종목명        이라이콤\n",
              "현재가        2530\n",
              "배당금         400\n",
              "배당수익률      15.8\n",
              "배당성향       59.3\n",
              "ROE           4\n",
              "PER        3.75\n",
              "PBR        0.15\n",
              "신호            0\n",
              "Name: 1, dtype: object"
            ]
          },
          "metadata": {
            "tags": []
          },
          "execution_count": 30
        }
      ]
    },
    {
      "cell_type": "code",
      "metadata": {
        "id": "mVgJkemfbTTy",
        "colab_type": "code",
        "colab": {
          "base_uri": "https://localhost:8080/",
          "height": 219
        },
        "outputId": "d49b0f1f-09db-4a9a-d16d-b0217f994c3f"
      },
      "source": [
        "df.index=df['종목코드']\n",
        "del df['종목코드']\n",
        "df.head()"
      ],
      "execution_count": null,
      "outputs": [
        {
          "output_type": "execute_result",
          "data": {
            "text/html": [
              "<div>\n",
              "<style scoped>\n",
              "    .dataframe tbody tr th:only-of-type {\n",
              "        vertical-align: middle;\n",
              "    }\n",
              "\n",
              "    .dataframe tbody tr th {\n",
              "        vertical-align: top;\n",
              "    }\n",
              "\n",
              "    .dataframe thead th {\n",
              "        text-align: right;\n",
              "    }\n",
              "</style>\n",
              "<table border=\"1\" class=\"dataframe\">\n",
              "  <thead>\n",
              "    <tr style=\"text-align: right;\">\n",
              "      <th></th>\n",
              "      <th>종목명</th>\n",
              "      <th>현재가</th>\n",
              "      <th>배당금</th>\n",
              "      <th>배당수익률</th>\n",
              "      <th>배당성향</th>\n",
              "      <th>ROE</th>\n",
              "      <th>PER</th>\n",
              "      <th>PBR</th>\n",
              "      <th>신호</th>\n",
              "    </tr>\n",
              "    <tr>\n",
              "      <th>종목코드</th>\n",
              "      <th></th>\n",
              "      <th></th>\n",
              "      <th></th>\n",
              "      <th></th>\n",
              "      <th></th>\n",
              "      <th></th>\n",
              "      <th></th>\n",
              "      <th></th>\n",
              "      <th></th>\n",
              "    </tr>\n",
              "  </thead>\n",
              "  <tbody>\n",
              "    <tr>\n",
              "      <th>065690</th>\n",
              "      <td>파커스</td>\n",
              "      <td>1490.0</td>\n",
              "      <td>300.0</td>\n",
              "      <td>20.1</td>\n",
              "      <td>92.3</td>\n",
              "      <td>5.0</td>\n",
              "      <td>4.58</td>\n",
              "      <td>0.21</td>\n",
              "      <td>0</td>\n",
              "    </tr>\n",
              "    <tr>\n",
              "      <th>041520</th>\n",
              "      <td>이라이콤</td>\n",
              "      <td>2530.0</td>\n",
              "      <td>400.0</td>\n",
              "      <td>15.8</td>\n",
              "      <td>59.3</td>\n",
              "      <td>4.0</td>\n",
              "      <td>3.75</td>\n",
              "      <td>0.15</td>\n",
              "      <td>0</td>\n",
              "    </tr>\n",
              "    <tr>\n",
              "      <th>034950</th>\n",
              "      <td>한국기업평가</td>\n",
              "      <td>57500.0</td>\n",
              "      <td>8618.0</td>\n",
              "      <td>15.0</td>\n",
              "      <td>192.2</td>\n",
              "      <td>21.0</td>\n",
              "      <td>12.83</td>\n",
              "      <td>2.39</td>\n",
              "      <td>1</td>\n",
              "    </tr>\n",
              "    <tr>\n",
              "      <th>155900</th>\n",
              "      <td>바다로19호</td>\n",
              "      <td>2435.0</td>\n",
              "      <td>354.0</td>\n",
              "      <td>14.5</td>\n",
              "      <td>72.7</td>\n",
              "      <td>16.3</td>\n",
              "      <td>5.00</td>\n",
              "      <td>0.81</td>\n",
              "      <td>1</td>\n",
              "    </tr>\n",
              "    <tr>\n",
              "      <th>078020</th>\n",
              "      <td>이베스트투자증권</td>\n",
              "      <td>3400.0</td>\n",
              "      <td>485.0</td>\n",
              "      <td>14.3</td>\n",
              "      <td>57.7</td>\n",
              "      <td>8.6</td>\n",
              "      <td>4.04</td>\n",
              "      <td>0.31</td>\n",
              "      <td>0</td>\n",
              "    </tr>\n",
              "  </tbody>\n",
              "</table>\n",
              "</div>"
            ],
            "text/plain": [
              "             종목명      현재가     배당금  배당수익률   배당성향   ROE    PER   PBR  신호\n",
              "종목코드                                                                  \n",
              "065690       파커스   1490.0   300.0   20.1   92.3   5.0   4.58  0.21   0\n",
              "041520      이라이콤   2530.0   400.0   15.8   59.3   4.0   3.75  0.15   0\n",
              "034950    한국기업평가  57500.0  8618.0   15.0  192.2  21.0  12.83  2.39   1\n",
              "155900    바다로19호   2435.0   354.0   14.5   72.7  16.3   5.00  0.81   1\n",
              "078020  이베스트투자증권   3400.0   485.0   14.3   57.7   8.6   4.04  0.31   0"
            ]
          },
          "metadata": {
            "tags": []
          },
          "execution_count": 31
        }
      ]
    },
    {
      "cell_type": "code",
      "metadata": {
        "id": "0ni08glyO1jV",
        "colab_type": "code",
        "colab": {
          "base_uri": "https://localhost:8080/",
          "height": 196
        },
        "outputId": "afa3532a-5d57-435a-f42e-aff4b8b25ade"
      },
      "source": [
        "df.loc[\"065690\"]\n"
      ],
      "execution_count": null,
      "outputs": [
        {
          "output_type": "execute_result",
          "data": {
            "text/plain": [
              "종목명       파커스\n",
              "현재가      1490\n",
              "배당금       300\n",
              "배당수익률    20.1\n",
              "배당성향     92.3\n",
              "ROE         5\n",
              "PER      4.58\n",
              "PBR      0.21\n",
              "신호          0\n",
              "Name: 065690, dtype: object"
            ]
          },
          "metadata": {
            "tags": []
          },
          "execution_count": 33
        }
      ]
    },
    {
      "cell_type": "code",
      "metadata": {
        "id": "k1UHKFfAUS-p",
        "colab_type": "code",
        "colab": {
          "base_uri": "https://localhost:8080/",
          "height": 196
        },
        "outputId": "cea35aa9-2981-4c96-8e7b-aae03e933800"
      },
      "source": [
        "df.iloc[0]"
      ],
      "execution_count": null,
      "outputs": [
        {
          "output_type": "execute_result",
          "data": {
            "text/plain": [
              "종목명      파커스는_아님\n",
              "현재가         1490\n",
              "배당금          300\n",
              "배당수익률       20.1\n",
              "배당성향        92.3\n",
              "ROE            5\n",
              "PER         4.58\n",
              "PBR         0.21\n",
              "신호             0\n",
              "Name: 065690, dtype: object"
            ]
          },
          "metadata": {
            "tags": []
          },
          "execution_count": 49
        }
      ]
    },
    {
      "cell_type": "code",
      "metadata": {
        "id": "o93OLgz8O97U",
        "colab_type": "code",
        "colab": {
          "base_uri": "https://localhost:8080/",
          "height": 219
        },
        "outputId": "2ded6404-8cd4-46ef-cd4c-9c8ed2d282a1"
      },
      "source": [
        "#슬라이싱 가능\n",
        "df.loc[\"065690\":\"078020\"]"
      ],
      "execution_count": null,
      "outputs": [
        {
          "output_type": "execute_result",
          "data": {
            "text/html": [
              "<div>\n",
              "<style scoped>\n",
              "    .dataframe tbody tr th:only-of-type {\n",
              "        vertical-align: middle;\n",
              "    }\n",
              "\n",
              "    .dataframe tbody tr th {\n",
              "        vertical-align: top;\n",
              "    }\n",
              "\n",
              "    .dataframe thead th {\n",
              "        text-align: right;\n",
              "    }\n",
              "</style>\n",
              "<table border=\"1\" class=\"dataframe\">\n",
              "  <thead>\n",
              "    <tr style=\"text-align: right;\">\n",
              "      <th></th>\n",
              "      <th>종목명</th>\n",
              "      <th>현재가</th>\n",
              "      <th>배당금</th>\n",
              "      <th>배당수익률</th>\n",
              "      <th>배당성향</th>\n",
              "      <th>ROE</th>\n",
              "      <th>PER</th>\n",
              "      <th>PBR</th>\n",
              "      <th>신호</th>\n",
              "    </tr>\n",
              "    <tr>\n",
              "      <th>종목코드</th>\n",
              "      <th></th>\n",
              "      <th></th>\n",
              "      <th></th>\n",
              "      <th></th>\n",
              "      <th></th>\n",
              "      <th></th>\n",
              "      <th></th>\n",
              "      <th></th>\n",
              "      <th></th>\n",
              "    </tr>\n",
              "  </thead>\n",
              "  <tbody>\n",
              "    <tr>\n",
              "      <th>065690</th>\n",
              "      <td>파커스</td>\n",
              "      <td>1490.0</td>\n",
              "      <td>300.0</td>\n",
              "      <td>20.1</td>\n",
              "      <td>92.3</td>\n",
              "      <td>5.0</td>\n",
              "      <td>4.58</td>\n",
              "      <td>0.21</td>\n",
              "      <td>0</td>\n",
              "    </tr>\n",
              "    <tr>\n",
              "      <th>041520</th>\n",
              "      <td>이라이콤</td>\n",
              "      <td>2530.0</td>\n",
              "      <td>400.0</td>\n",
              "      <td>15.8</td>\n",
              "      <td>59.3</td>\n",
              "      <td>4.0</td>\n",
              "      <td>3.75</td>\n",
              "      <td>0.15</td>\n",
              "      <td>0</td>\n",
              "    </tr>\n",
              "    <tr>\n",
              "      <th>034950</th>\n",
              "      <td>한국기업평가</td>\n",
              "      <td>57500.0</td>\n",
              "      <td>8618.0</td>\n",
              "      <td>15.0</td>\n",
              "      <td>192.2</td>\n",
              "      <td>21.0</td>\n",
              "      <td>12.83</td>\n",
              "      <td>2.39</td>\n",
              "      <td>1</td>\n",
              "    </tr>\n",
              "    <tr>\n",
              "      <th>155900</th>\n",
              "      <td>바다로19호</td>\n",
              "      <td>2435.0</td>\n",
              "      <td>354.0</td>\n",
              "      <td>14.5</td>\n",
              "      <td>72.7</td>\n",
              "      <td>16.3</td>\n",
              "      <td>5.00</td>\n",
              "      <td>0.81</td>\n",
              "      <td>1</td>\n",
              "    </tr>\n",
              "    <tr>\n",
              "      <th>078020</th>\n",
              "      <td>이베스트투자증권</td>\n",
              "      <td>3400.0</td>\n",
              "      <td>485.0</td>\n",
              "      <td>14.3</td>\n",
              "      <td>57.7</td>\n",
              "      <td>8.6</td>\n",
              "      <td>4.04</td>\n",
              "      <td>0.31</td>\n",
              "      <td>0</td>\n",
              "    </tr>\n",
              "  </tbody>\n",
              "</table>\n",
              "</div>"
            ],
            "text/plain": [
              "             종목명      현재가     배당금  배당수익률   배당성향   ROE    PER   PBR  신호\n",
              "종목코드                                                                  \n",
              "065690       파커스   1490.0   300.0   20.1   92.3   5.0   4.58  0.21   0\n",
              "041520      이라이콤   2530.0   400.0   15.8   59.3   4.0   3.75  0.15   0\n",
              "034950    한국기업평가  57500.0  8618.0   15.0  192.2  21.0  12.83  2.39   1\n",
              "155900    바다로19호   2435.0   354.0   14.5   72.7  16.3   5.00  0.81   1\n",
              "078020  이베스트투자증권   3400.0   485.0   14.3   57.7   8.6   4.04  0.31   0"
            ]
          },
          "metadata": {
            "tags": []
          },
          "execution_count": 34
        }
      ]
    },
    {
      "cell_type": "code",
      "metadata": {
        "id": "3uwI5yU6PVcZ",
        "colab_type": "code",
        "colab": {
          "base_uri": "https://localhost:8080/",
          "height": 142
        },
        "outputId": "bd73fcfd-cdb8-4d94-a62c-d6e74138044b"
      },
      "source": [
        "df.loc[\"065690\":\"078020\",\"배당금\"]"
      ],
      "execution_count": null,
      "outputs": [
        {
          "output_type": "execute_result",
          "data": {
            "text/plain": [
              "종목코드\n",
              "065690     300.0\n",
              "041520     400.0\n",
              "034950    8618.0\n",
              "155900     354.0\n",
              "078020     485.0\n",
              "Name: 배당금, dtype: float64"
            ]
          },
          "metadata": {
            "tags": []
          },
          "execution_count": 35
        }
      ]
    },
    {
      "cell_type": "code",
      "metadata": {
        "id": "-KVmaCVaPeHg",
        "colab_type": "code",
        "colab": {
          "base_uri": "https://localhost:8080/",
          "height": 219
        },
        "outputId": "23e7a9ab-621d-4197-f191-b10040a0b916"
      },
      "source": [
        "df.loc[\"065690\":\"078020\",[\"배당금\",\"배당수익률\"]] # 2개 이상의 column "
      ],
      "execution_count": null,
      "outputs": [
        {
          "output_type": "execute_result",
          "data": {
            "text/html": [
              "<div>\n",
              "<style scoped>\n",
              "    .dataframe tbody tr th:only-of-type {\n",
              "        vertical-align: middle;\n",
              "    }\n",
              "\n",
              "    .dataframe tbody tr th {\n",
              "        vertical-align: top;\n",
              "    }\n",
              "\n",
              "    .dataframe thead th {\n",
              "        text-align: right;\n",
              "    }\n",
              "</style>\n",
              "<table border=\"1\" class=\"dataframe\">\n",
              "  <thead>\n",
              "    <tr style=\"text-align: right;\">\n",
              "      <th></th>\n",
              "      <th>배당금</th>\n",
              "      <th>배당수익률</th>\n",
              "    </tr>\n",
              "    <tr>\n",
              "      <th>종목코드</th>\n",
              "      <th></th>\n",
              "      <th></th>\n",
              "    </tr>\n",
              "  </thead>\n",
              "  <tbody>\n",
              "    <tr>\n",
              "      <th>065690</th>\n",
              "      <td>300.0</td>\n",
              "      <td>20.1</td>\n",
              "    </tr>\n",
              "    <tr>\n",
              "      <th>041520</th>\n",
              "      <td>400.0</td>\n",
              "      <td>15.8</td>\n",
              "    </tr>\n",
              "    <tr>\n",
              "      <th>034950</th>\n",
              "      <td>8618.0</td>\n",
              "      <td>15.0</td>\n",
              "    </tr>\n",
              "    <tr>\n",
              "      <th>155900</th>\n",
              "      <td>354.0</td>\n",
              "      <td>14.5</td>\n",
              "    </tr>\n",
              "    <tr>\n",
              "      <th>078020</th>\n",
              "      <td>485.0</td>\n",
              "      <td>14.3</td>\n",
              "    </tr>\n",
              "  </tbody>\n",
              "</table>\n",
              "</div>"
            ],
            "text/plain": [
              "           배당금  배당수익률\n",
              "종목코드                 \n",
              "065690   300.0   20.1\n",
              "041520   400.0   15.8\n",
              "034950  8618.0   15.0\n",
              "155900   354.0   14.5\n",
              "078020   485.0   14.3"
            ]
          },
          "metadata": {
            "tags": []
          },
          "execution_count": 36
        }
      ]
    },
    {
      "cell_type": "code",
      "metadata": {
        "id": "4_xlF3nBPqbk",
        "colab_type": "code",
        "colab": {
          "base_uri": "https://localhost:8080/",
          "height": 219
        },
        "outputId": "ebb51daa-de7f-49e5-9b07-57959ffc9c09"
      },
      "source": [
        "df.loc[\"065690\":\"078020\",\"현재가\":\"배당수익률\"]"
      ],
      "execution_count": null,
      "outputs": [
        {
          "output_type": "execute_result",
          "data": {
            "text/html": [
              "<div>\n",
              "<style scoped>\n",
              "    .dataframe tbody tr th:only-of-type {\n",
              "        vertical-align: middle;\n",
              "    }\n",
              "\n",
              "    .dataframe tbody tr th {\n",
              "        vertical-align: top;\n",
              "    }\n",
              "\n",
              "    .dataframe thead th {\n",
              "        text-align: right;\n",
              "    }\n",
              "</style>\n",
              "<table border=\"1\" class=\"dataframe\">\n",
              "  <thead>\n",
              "    <tr style=\"text-align: right;\">\n",
              "      <th></th>\n",
              "      <th>현재가</th>\n",
              "      <th>배당금</th>\n",
              "      <th>배당수익률</th>\n",
              "    </tr>\n",
              "    <tr>\n",
              "      <th>종목코드</th>\n",
              "      <th></th>\n",
              "      <th></th>\n",
              "      <th></th>\n",
              "    </tr>\n",
              "  </thead>\n",
              "  <tbody>\n",
              "    <tr>\n",
              "      <th>065690</th>\n",
              "      <td>1490.0</td>\n",
              "      <td>300.0</td>\n",
              "      <td>20.1</td>\n",
              "    </tr>\n",
              "    <tr>\n",
              "      <th>041520</th>\n",
              "      <td>2530.0</td>\n",
              "      <td>400.0</td>\n",
              "      <td>15.8</td>\n",
              "    </tr>\n",
              "    <tr>\n",
              "      <th>034950</th>\n",
              "      <td>57500.0</td>\n",
              "      <td>8618.0</td>\n",
              "      <td>15.0</td>\n",
              "    </tr>\n",
              "    <tr>\n",
              "      <th>155900</th>\n",
              "      <td>2435.0</td>\n",
              "      <td>354.0</td>\n",
              "      <td>14.5</td>\n",
              "    </tr>\n",
              "    <tr>\n",
              "      <th>078020</th>\n",
              "      <td>3400.0</td>\n",
              "      <td>485.0</td>\n",
              "      <td>14.3</td>\n",
              "    </tr>\n",
              "  </tbody>\n",
              "</table>\n",
              "</div>"
            ],
            "text/plain": [
              "            현재가     배당금  배당수익률\n",
              "종목코드                          \n",
              "065690   1490.0   300.0   20.1\n",
              "041520   2530.0   400.0   15.8\n",
              "034950  57500.0  8618.0   15.0\n",
              "155900   2435.0   354.0   14.5\n",
              "078020   3400.0   485.0   14.3"
            ]
          },
          "metadata": {
            "tags": []
          },
          "execution_count": 37
        }
      ]
    },
    {
      "cell_type": "markdown",
      "metadata": {
        "id": "I9i_6bWRPym2",
        "colab_type": "text"
      },
      "source": [
        "**row 기준 데이터 추가**"
      ]
    },
    {
      "cell_type": "code",
      "metadata": {
        "id": "4enWaw75Pxqp",
        "colab_type": "code",
        "colab": {}
      },
      "source": [
        "#인덱스에 없는 값을 선언하면 추가해주고\n",
        "#인덱스에 있는 값에 대해 무언가를 정의하면 수정해줌\n",
        "\n",
        "df.loc[\"아이쿠\",:] = ['실수했네',898,2,4,4,4,32,5,3]\n",
        "df.loc[\"065690\",'종목명'] = '파커스는_아님'"
      ],
      "execution_count": null,
      "outputs": []
    },
    {
      "cell_type": "code",
      "metadata": {
        "id": "XPf3S2ULRFLR",
        "colab_type": "code",
        "colab": {
          "base_uri": "https://localhost:8080/",
          "height": 421
        },
        "outputId": "0545b52c-4a32-4226-a67a-976d64b73ffc"
      },
      "source": [
        "df"
      ],
      "execution_count": null,
      "outputs": [
        {
          "output_type": "execute_result",
          "data": {
            "text/html": [
              "<div>\n",
              "<style scoped>\n",
              "    .dataframe tbody tr th:only-of-type {\n",
              "        vertical-align: middle;\n",
              "    }\n",
              "\n",
              "    .dataframe tbody tr th {\n",
              "        vertical-align: top;\n",
              "    }\n",
              "\n",
              "    .dataframe thead th {\n",
              "        text-align: right;\n",
              "    }\n",
              "</style>\n",
              "<table border=\"1\" class=\"dataframe\">\n",
              "  <thead>\n",
              "    <tr style=\"text-align: right;\">\n",
              "      <th></th>\n",
              "      <th>종목명</th>\n",
              "      <th>현재가</th>\n",
              "      <th>배당금</th>\n",
              "      <th>배당수익률</th>\n",
              "      <th>배당성향</th>\n",
              "      <th>ROE</th>\n",
              "      <th>PER</th>\n",
              "      <th>PBR</th>\n",
              "      <th>신호</th>\n",
              "    </tr>\n",
              "    <tr>\n",
              "      <th>종목코드</th>\n",
              "      <th></th>\n",
              "      <th></th>\n",
              "      <th></th>\n",
              "      <th></th>\n",
              "      <th></th>\n",
              "      <th></th>\n",
              "      <th></th>\n",
              "      <th></th>\n",
              "      <th></th>\n",
              "    </tr>\n",
              "  </thead>\n",
              "  <tbody>\n",
              "    <tr>\n",
              "      <th>065690</th>\n",
              "      <td>파커스는_아님</td>\n",
              "      <td>1490.0</td>\n",
              "      <td>300.0</td>\n",
              "      <td>20.1</td>\n",
              "      <td>92.3</td>\n",
              "      <td>5.0</td>\n",
              "      <td>4.58</td>\n",
              "      <td>0.21</td>\n",
              "      <td>0.0</td>\n",
              "    </tr>\n",
              "    <tr>\n",
              "      <th>041520</th>\n",
              "      <td>이라이콤</td>\n",
              "      <td>2530.0</td>\n",
              "      <td>400.0</td>\n",
              "      <td>15.8</td>\n",
              "      <td>59.3</td>\n",
              "      <td>4.0</td>\n",
              "      <td>3.75</td>\n",
              "      <td>0.15</td>\n",
              "      <td>0.0</td>\n",
              "    </tr>\n",
              "    <tr>\n",
              "      <th>034950</th>\n",
              "      <td>한국기업평가</td>\n",
              "      <td>57500.0</td>\n",
              "      <td>8618.0</td>\n",
              "      <td>15.0</td>\n",
              "      <td>192.2</td>\n",
              "      <td>21.0</td>\n",
              "      <td>12.83</td>\n",
              "      <td>2.39</td>\n",
              "      <td>1.0</td>\n",
              "    </tr>\n",
              "    <tr>\n",
              "      <th>155900</th>\n",
              "      <td>바다로19호</td>\n",
              "      <td>2435.0</td>\n",
              "      <td>354.0</td>\n",
              "      <td>14.5</td>\n",
              "      <td>72.7</td>\n",
              "      <td>16.3</td>\n",
              "      <td>5.00</td>\n",
              "      <td>0.81</td>\n",
              "      <td>1.0</td>\n",
              "    </tr>\n",
              "    <tr>\n",
              "      <th>078020</th>\n",
              "      <td>이베스트투자증권</td>\n",
              "      <td>3400.0</td>\n",
              "      <td>485.0</td>\n",
              "      <td>14.3</td>\n",
              "      <td>57.7</td>\n",
              "      <td>8.6</td>\n",
              "      <td>4.04</td>\n",
              "      <td>0.31</td>\n",
              "      <td>0.0</td>\n",
              "    </tr>\n",
              "    <tr>\n",
              "      <th>...</th>\n",
              "      <td>...</td>\n",
              "      <td>...</td>\n",
              "      <td>...</td>\n",
              "      <td>...</td>\n",
              "      <td>...</td>\n",
              "      <td>...</td>\n",
              "      <td>...</td>\n",
              "      <td>...</td>\n",
              "      <td>...</td>\n",
              "    </tr>\n",
              "    <tr>\n",
              "      <th>100840</th>\n",
              "      <td>S&amp;TC</td>\n",
              "      <td>11800.0</td>\n",
              "      <td>800.0</td>\n",
              "      <td>6.8</td>\n",
              "      <td>38.9</td>\n",
              "      <td>6.5</td>\n",
              "      <td>5.73</td>\n",
              "      <td>0.35</td>\n",
              "      <td>0.0</td>\n",
              "    </tr>\n",
              "    <tr>\n",
              "      <th>085620</th>\n",
              "      <td>미래에셋생명</td>\n",
              "      <td>2510.0</td>\n",
              "      <td>170.0</td>\n",
              "      <td>6.8</td>\n",
              "      <td>30.8</td>\n",
              "      <td>5.2</td>\n",
              "      <td>4.54</td>\n",
              "      <td>0.24</td>\n",
              "      <td>0.0</td>\n",
              "    </tr>\n",
              "    <tr>\n",
              "      <th>005810</th>\n",
              "      <td>풍산홀딩스</td>\n",
              "      <td>20900.0</td>\n",
              "      <td>1400.0</td>\n",
              "      <td>6.7</td>\n",
              "      <td>45.7</td>\n",
              "      <td>3.4</td>\n",
              "      <td>6.82</td>\n",
              "      <td>0.22</td>\n",
              "      <td>0.0</td>\n",
              "    </tr>\n",
              "    <tr>\n",
              "      <th>037330</th>\n",
              "      <td>인지디스플레</td>\n",
              "      <td>1120.0</td>\n",
              "      <td>75.0</td>\n",
              "      <td>6.7</td>\n",
              "      <td>28.2</td>\n",
              "      <td>6.6</td>\n",
              "      <td>4.21</td>\n",
              "      <td>0.27</td>\n",
              "      <td>0.0</td>\n",
              "    </tr>\n",
              "    <tr>\n",
              "      <th>아이쿠</th>\n",
              "      <td>실수했네</td>\n",
              "      <td>898.0</td>\n",
              "      <td>2.0</td>\n",
              "      <td>4.0</td>\n",
              "      <td>4.0</td>\n",
              "      <td>4.0</td>\n",
              "      <td>32.00</td>\n",
              "      <td>5.00</td>\n",
              "      <td>3.0</td>\n",
              "    </tr>\n",
              "  </tbody>\n",
              "</table>\n",
              "<p>101 rows × 9 columns</p>\n",
              "</div>"
            ],
            "text/plain": [
              "             종목명      현재가     배당금  배당수익률   배당성향   ROE    PER   PBR   신호\n",
              "종목코드                                                                   \n",
              "065690   파커스는_아님   1490.0   300.0   20.1   92.3   5.0   4.58  0.21  0.0\n",
              "041520      이라이콤   2530.0   400.0   15.8   59.3   4.0   3.75  0.15  0.0\n",
              "034950    한국기업평가  57500.0  8618.0   15.0  192.2  21.0  12.83  2.39  1.0\n",
              "155900    바다로19호   2435.0   354.0   14.5   72.7  16.3   5.00  0.81  1.0\n",
              "078020  이베스트투자증권   3400.0   485.0   14.3   57.7   8.6   4.04  0.31  0.0\n",
              "...          ...      ...     ...    ...    ...   ...    ...   ...  ...\n",
              "100840      S&TC  11800.0   800.0    6.8   38.9   6.5   5.73  0.35  0.0\n",
              "085620    미래에셋생명   2510.0   170.0    6.8   30.8   5.2   4.54  0.24  0.0\n",
              "005810     풍산홀딩스  20900.0  1400.0    6.7   45.7   3.4   6.82  0.22  0.0\n",
              "037330    인지디스플레   1120.0    75.0    6.7   28.2   6.6   4.21  0.27  0.0\n",
              "아이쿠         실수했네    898.0     2.0    4.0    4.0   4.0  32.00  5.00  3.0\n",
              "\n",
              "[101 rows x 9 columns]"
            ]
          },
          "metadata": {
            "tags": []
          },
          "execution_count": 40
        }
      ]
    },
    {
      "cell_type": "markdown",
      "metadata": {
        "id": "WFtbVPrYS-MY",
        "colab_type": "text"
      },
      "source": [
        "**row 기준 데이터 삭제**"
      ]
    },
    {
      "cell_type": "code",
      "metadata": {
        "id": "4xUvrHB6S6aF",
        "colab_type": "code",
        "colab": {}
      },
      "source": [
        "test_df=df"
      ],
      "execution_count": null,
      "outputs": []
    },
    {
      "cell_type": "code",
      "metadata": {
        "id": "3IPTkM0yTLXm",
        "colab_type": "code",
        "colab": {
          "base_uri": "https://localhost:8080/",
          "height": 421
        },
        "outputId": "0f63aca5-ed9e-4170-c1c7-ddf53e07bf5a"
      },
      "source": [
        "test_df.drop(\"아이쿠\",axis=0)"
      ],
      "execution_count": null,
      "outputs": [
        {
          "output_type": "execute_result",
          "data": {
            "text/html": [
              "<div>\n",
              "<style scoped>\n",
              "    .dataframe tbody tr th:only-of-type {\n",
              "        vertical-align: middle;\n",
              "    }\n",
              "\n",
              "    .dataframe tbody tr th {\n",
              "        vertical-align: top;\n",
              "    }\n",
              "\n",
              "    .dataframe thead th {\n",
              "        text-align: right;\n",
              "    }\n",
              "</style>\n",
              "<table border=\"1\" class=\"dataframe\">\n",
              "  <thead>\n",
              "    <tr style=\"text-align: right;\">\n",
              "      <th></th>\n",
              "      <th>종목명</th>\n",
              "      <th>현재가</th>\n",
              "      <th>배당금</th>\n",
              "      <th>배당수익률</th>\n",
              "      <th>배당성향</th>\n",
              "      <th>ROE</th>\n",
              "      <th>PER</th>\n",
              "      <th>PBR</th>\n",
              "      <th>신호</th>\n",
              "    </tr>\n",
              "    <tr>\n",
              "      <th>종목코드</th>\n",
              "      <th></th>\n",
              "      <th></th>\n",
              "      <th></th>\n",
              "      <th></th>\n",
              "      <th></th>\n",
              "      <th></th>\n",
              "      <th></th>\n",
              "      <th></th>\n",
              "      <th></th>\n",
              "    </tr>\n",
              "  </thead>\n",
              "  <tbody>\n",
              "    <tr>\n",
              "      <th>065690</th>\n",
              "      <td>파커스는_아님</td>\n",
              "      <td>1490.0</td>\n",
              "      <td>300.0</td>\n",
              "      <td>20.1</td>\n",
              "      <td>92.3</td>\n",
              "      <td>5.0</td>\n",
              "      <td>4.58</td>\n",
              "      <td>0.21</td>\n",
              "      <td>0.0</td>\n",
              "    </tr>\n",
              "    <tr>\n",
              "      <th>041520</th>\n",
              "      <td>이라이콤</td>\n",
              "      <td>2530.0</td>\n",
              "      <td>400.0</td>\n",
              "      <td>15.8</td>\n",
              "      <td>59.3</td>\n",
              "      <td>4.0</td>\n",
              "      <td>3.75</td>\n",
              "      <td>0.15</td>\n",
              "      <td>0.0</td>\n",
              "    </tr>\n",
              "    <tr>\n",
              "      <th>034950</th>\n",
              "      <td>한국기업평가</td>\n",
              "      <td>57500.0</td>\n",
              "      <td>8618.0</td>\n",
              "      <td>15.0</td>\n",
              "      <td>192.2</td>\n",
              "      <td>21.0</td>\n",
              "      <td>12.83</td>\n",
              "      <td>2.39</td>\n",
              "      <td>1.0</td>\n",
              "    </tr>\n",
              "    <tr>\n",
              "      <th>155900</th>\n",
              "      <td>바다로19호</td>\n",
              "      <td>2435.0</td>\n",
              "      <td>354.0</td>\n",
              "      <td>14.5</td>\n",
              "      <td>72.7</td>\n",
              "      <td>16.3</td>\n",
              "      <td>5.00</td>\n",
              "      <td>0.81</td>\n",
              "      <td>1.0</td>\n",
              "    </tr>\n",
              "    <tr>\n",
              "      <th>078020</th>\n",
              "      <td>이베스트투자증권</td>\n",
              "      <td>3400.0</td>\n",
              "      <td>485.0</td>\n",
              "      <td>14.3</td>\n",
              "      <td>57.7</td>\n",
              "      <td>8.6</td>\n",
              "      <td>4.04</td>\n",
              "      <td>0.31</td>\n",
              "      <td>0.0</td>\n",
              "    </tr>\n",
              "    <tr>\n",
              "      <th>...</th>\n",
              "      <td>...</td>\n",
              "      <td>...</td>\n",
              "      <td>...</td>\n",
              "      <td>...</td>\n",
              "      <td>...</td>\n",
              "      <td>...</td>\n",
              "      <td>...</td>\n",
              "      <td>...</td>\n",
              "      <td>...</td>\n",
              "    </tr>\n",
              "    <tr>\n",
              "      <th>053210</th>\n",
              "      <td>스카이라이프</td>\n",
              "      <td>5150.0</td>\n",
              "      <td>350.0</td>\n",
              "      <td>6.8</td>\n",
              "      <td>30.7</td>\n",
              "      <td>8.0</td>\n",
              "      <td>4.51</td>\n",
              "      <td>0.35</td>\n",
              "      <td>0.0</td>\n",
              "    </tr>\n",
              "    <tr>\n",
              "      <th>100840</th>\n",
              "      <td>S&amp;TC</td>\n",
              "      <td>11800.0</td>\n",
              "      <td>800.0</td>\n",
              "      <td>6.8</td>\n",
              "      <td>38.9</td>\n",
              "      <td>6.5</td>\n",
              "      <td>5.73</td>\n",
              "      <td>0.35</td>\n",
              "      <td>0.0</td>\n",
              "    </tr>\n",
              "    <tr>\n",
              "      <th>085620</th>\n",
              "      <td>미래에셋생명</td>\n",
              "      <td>2510.0</td>\n",
              "      <td>170.0</td>\n",
              "      <td>6.8</td>\n",
              "      <td>30.8</td>\n",
              "      <td>5.2</td>\n",
              "      <td>4.54</td>\n",
              "      <td>0.24</td>\n",
              "      <td>0.0</td>\n",
              "    </tr>\n",
              "    <tr>\n",
              "      <th>005810</th>\n",
              "      <td>풍산홀딩스</td>\n",
              "      <td>20900.0</td>\n",
              "      <td>1400.0</td>\n",
              "      <td>6.7</td>\n",
              "      <td>45.7</td>\n",
              "      <td>3.4</td>\n",
              "      <td>6.82</td>\n",
              "      <td>0.22</td>\n",
              "      <td>0.0</td>\n",
              "    </tr>\n",
              "    <tr>\n",
              "      <th>037330</th>\n",
              "      <td>인지디스플레</td>\n",
              "      <td>1120.0</td>\n",
              "      <td>75.0</td>\n",
              "      <td>6.7</td>\n",
              "      <td>28.2</td>\n",
              "      <td>6.6</td>\n",
              "      <td>4.21</td>\n",
              "      <td>0.27</td>\n",
              "      <td>0.0</td>\n",
              "    </tr>\n",
              "  </tbody>\n",
              "</table>\n",
              "<p>100 rows × 9 columns</p>\n",
              "</div>"
            ],
            "text/plain": [
              "             종목명      현재가     배당금  배당수익률   배당성향   ROE    PER   PBR   신호\n",
              "종목코드                                                                   \n",
              "065690   파커스는_아님   1490.0   300.0   20.1   92.3   5.0   4.58  0.21  0.0\n",
              "041520      이라이콤   2530.0   400.0   15.8   59.3   4.0   3.75  0.15  0.0\n",
              "034950    한국기업평가  57500.0  8618.0   15.0  192.2  21.0  12.83  2.39  1.0\n",
              "155900    바다로19호   2435.0   354.0   14.5   72.7  16.3   5.00  0.81  1.0\n",
              "078020  이베스트투자증권   3400.0   485.0   14.3   57.7   8.6   4.04  0.31  0.0\n",
              "...          ...      ...     ...    ...    ...   ...    ...   ...  ...\n",
              "053210    스카이라이프   5150.0   350.0    6.8   30.7   8.0   4.51  0.35  0.0\n",
              "100840      S&TC  11800.0   800.0    6.8   38.9   6.5   5.73  0.35  0.0\n",
              "085620    미래에셋생명   2510.0   170.0    6.8   30.8   5.2   4.54  0.24  0.0\n",
              "005810     풍산홀딩스  20900.0  1400.0    6.7   45.7   3.4   6.82  0.22  0.0\n",
              "037330    인지디스플레   1120.0    75.0    6.7   28.2   6.6   4.21  0.27  0.0\n",
              "\n",
              "[100 rows x 9 columns]"
            ]
          },
          "metadata": {
            "tags": []
          },
          "execution_count": 44
        }
      ]
    },
    {
      "cell_type": "code",
      "metadata": {
        "id": "Vl4jRDNJTwZr",
        "colab_type": "code",
        "colab": {
          "base_uri": "https://localhost:8080/",
          "height": 421
        },
        "outputId": "565f93d9-d4d3-478c-934f-e3448cb88603"
      },
      "source": [
        "test_df.drop([\"아이쿠\",\"065690\"]) #여러 개 삭제"
      ],
      "execution_count": null,
      "outputs": [
        {
          "output_type": "execute_result",
          "data": {
            "text/html": [
              "<div>\n",
              "<style scoped>\n",
              "    .dataframe tbody tr th:only-of-type {\n",
              "        vertical-align: middle;\n",
              "    }\n",
              "\n",
              "    .dataframe tbody tr th {\n",
              "        vertical-align: top;\n",
              "    }\n",
              "\n",
              "    .dataframe thead th {\n",
              "        text-align: right;\n",
              "    }\n",
              "</style>\n",
              "<table border=\"1\" class=\"dataframe\">\n",
              "  <thead>\n",
              "    <tr style=\"text-align: right;\">\n",
              "      <th></th>\n",
              "      <th>종목명</th>\n",
              "      <th>현재가</th>\n",
              "      <th>배당금</th>\n",
              "      <th>배당수익률</th>\n",
              "      <th>배당성향</th>\n",
              "      <th>ROE</th>\n",
              "      <th>PER</th>\n",
              "      <th>PBR</th>\n",
              "      <th>신호</th>\n",
              "    </tr>\n",
              "    <tr>\n",
              "      <th>종목코드</th>\n",
              "      <th></th>\n",
              "      <th></th>\n",
              "      <th></th>\n",
              "      <th></th>\n",
              "      <th></th>\n",
              "      <th></th>\n",
              "      <th></th>\n",
              "      <th></th>\n",
              "      <th></th>\n",
              "    </tr>\n",
              "  </thead>\n",
              "  <tbody>\n",
              "    <tr>\n",
              "      <th>041520</th>\n",
              "      <td>이라이콤</td>\n",
              "      <td>2530.0</td>\n",
              "      <td>400.0</td>\n",
              "      <td>15.8</td>\n",
              "      <td>59.3</td>\n",
              "      <td>4.0</td>\n",
              "      <td>3.75</td>\n",
              "      <td>0.15</td>\n",
              "      <td>0.0</td>\n",
              "    </tr>\n",
              "    <tr>\n",
              "      <th>034950</th>\n",
              "      <td>한국기업평가</td>\n",
              "      <td>57500.0</td>\n",
              "      <td>8618.0</td>\n",
              "      <td>15.0</td>\n",
              "      <td>192.2</td>\n",
              "      <td>21.0</td>\n",
              "      <td>12.83</td>\n",
              "      <td>2.39</td>\n",
              "      <td>1.0</td>\n",
              "    </tr>\n",
              "    <tr>\n",
              "      <th>155900</th>\n",
              "      <td>바다로19호</td>\n",
              "      <td>2435.0</td>\n",
              "      <td>354.0</td>\n",
              "      <td>14.5</td>\n",
              "      <td>72.7</td>\n",
              "      <td>16.3</td>\n",
              "      <td>5.00</td>\n",
              "      <td>0.81</td>\n",
              "      <td>1.0</td>\n",
              "    </tr>\n",
              "    <tr>\n",
              "      <th>078020</th>\n",
              "      <td>이베스트투자증권</td>\n",
              "      <td>3400.0</td>\n",
              "      <td>485.0</td>\n",
              "      <td>14.3</td>\n",
              "      <td>57.7</td>\n",
              "      <td>8.6</td>\n",
              "      <td>4.04</td>\n",
              "      <td>0.31</td>\n",
              "      <td>0.0</td>\n",
              "    </tr>\n",
              "    <tr>\n",
              "      <th>225190</th>\n",
              "      <td>삼양옵틱스</td>\n",
              "      <td>7900.0</td>\n",
              "      <td>1100.0</td>\n",
              "      <td>13.9</td>\n",
              "      <td>88.3</td>\n",
              "      <td>34.7</td>\n",
              "      <td>6.34</td>\n",
              "      <td>2.19</td>\n",
              "      <td>1.0</td>\n",
              "    </tr>\n",
              "    <tr>\n",
              "      <th>...</th>\n",
              "      <td>...</td>\n",
              "      <td>...</td>\n",
              "      <td>...</td>\n",
              "      <td>...</td>\n",
              "      <td>...</td>\n",
              "      <td>...</td>\n",
              "      <td>...</td>\n",
              "      <td>...</td>\n",
              "      <td>...</td>\n",
              "    </tr>\n",
              "    <tr>\n",
              "      <th>053210</th>\n",
              "      <td>스카이라이프</td>\n",
              "      <td>5150.0</td>\n",
              "      <td>350.0</td>\n",
              "      <td>6.8</td>\n",
              "      <td>30.7</td>\n",
              "      <td>8.0</td>\n",
              "      <td>4.51</td>\n",
              "      <td>0.35</td>\n",
              "      <td>0.0</td>\n",
              "    </tr>\n",
              "    <tr>\n",
              "      <th>100840</th>\n",
              "      <td>S&amp;TC</td>\n",
              "      <td>11800.0</td>\n",
              "      <td>800.0</td>\n",
              "      <td>6.8</td>\n",
              "      <td>38.9</td>\n",
              "      <td>6.5</td>\n",
              "      <td>5.73</td>\n",
              "      <td>0.35</td>\n",
              "      <td>0.0</td>\n",
              "    </tr>\n",
              "    <tr>\n",
              "      <th>085620</th>\n",
              "      <td>미래에셋생명</td>\n",
              "      <td>2510.0</td>\n",
              "      <td>170.0</td>\n",
              "      <td>6.8</td>\n",
              "      <td>30.8</td>\n",
              "      <td>5.2</td>\n",
              "      <td>4.54</td>\n",
              "      <td>0.24</td>\n",
              "      <td>0.0</td>\n",
              "    </tr>\n",
              "    <tr>\n",
              "      <th>005810</th>\n",
              "      <td>풍산홀딩스</td>\n",
              "      <td>20900.0</td>\n",
              "      <td>1400.0</td>\n",
              "      <td>6.7</td>\n",
              "      <td>45.7</td>\n",
              "      <td>3.4</td>\n",
              "      <td>6.82</td>\n",
              "      <td>0.22</td>\n",
              "      <td>0.0</td>\n",
              "    </tr>\n",
              "    <tr>\n",
              "      <th>037330</th>\n",
              "      <td>인지디스플레</td>\n",
              "      <td>1120.0</td>\n",
              "      <td>75.0</td>\n",
              "      <td>6.7</td>\n",
              "      <td>28.2</td>\n",
              "      <td>6.6</td>\n",
              "      <td>4.21</td>\n",
              "      <td>0.27</td>\n",
              "      <td>0.0</td>\n",
              "    </tr>\n",
              "  </tbody>\n",
              "</table>\n",
              "<p>99 rows × 9 columns</p>\n",
              "</div>"
            ],
            "text/plain": [
              "             종목명      현재가     배당금  배당수익률   배당성향   ROE    PER   PBR   신호\n",
              "종목코드                                                                   \n",
              "041520      이라이콤   2530.0   400.0   15.8   59.3   4.0   3.75  0.15  0.0\n",
              "034950    한국기업평가  57500.0  8618.0   15.0  192.2  21.0  12.83  2.39  1.0\n",
              "155900    바다로19호   2435.0   354.0   14.5   72.7  16.3   5.00  0.81  1.0\n",
              "078020  이베스트투자증권   3400.0   485.0   14.3   57.7   8.6   4.04  0.31  0.0\n",
              "225190     삼양옵틱스   7900.0  1100.0   13.9   88.3  34.7   6.34  2.19  1.0\n",
              "...          ...      ...     ...    ...    ...   ...    ...   ...  ...\n",
              "053210    스카이라이프   5150.0   350.0    6.8   30.7   8.0   4.51  0.35  0.0\n",
              "100840      S&TC  11800.0   800.0    6.8   38.9   6.5   5.73  0.35  0.0\n",
              "085620    미래에셋생명   2510.0   170.0    6.8   30.8   5.2   4.54  0.24  0.0\n",
              "005810     풍산홀딩스  20900.0  1400.0    6.7   45.7   3.4   6.82  0.22  0.0\n",
              "037330    인지디스플레   1120.0    75.0    6.7   28.2   6.6   4.21  0.27  0.0\n",
              "\n",
              "[99 rows x 9 columns]"
            ]
          },
          "metadata": {
            "tags": []
          },
          "execution_count": 47
        }
      ]
    },
    {
      "cell_type": "code",
      "metadata": {
        "id": "pihaegBTZzdc",
        "colab_type": "code",
        "colab": {}
      },
      "source": [
        "#원상태로 복구\n",
        "df.loc[\"065690\",'종목명'] = '파커스'\n"
      ],
      "execution_count": null,
      "outputs": []
    },
    {
      "cell_type": "markdown",
      "metadata": {
        "id": "KnmjcfGhUhJa",
        "colab_type": "text"
      },
      "source": [
        "**dataframe 결측값 제어**(자주 쓰임/뒤에서 다룰 예정)\n",
        "\n",
        "만약 dataframe에 nan값과 같은 결측값이 있다면? \n",
        "\n",
        "df.dropna() \n",
        "inplace =True 설정이 되어야 원본 변경\n",
        "how='all'을 인자로 넣어주면 모든 column 값이 nan일 때만 행 삭제"
      ]
    },
    {
      "cell_type": "markdown",
      "metadata": {
        "id": "9x1HAgjdVPEO",
        "colab_type": "text"
      },
      "source": [
        "**dataframe 분석**"
      ]
    },
    {
      "cell_type": "code",
      "metadata": {
        "id": "OI-0_bY8VOLv",
        "colab_type": "code",
        "colab": {
          "base_uri": "https://localhost:8080/",
          "height": 277
        },
        "outputId": "442b6cbb-4bea-46cd-a35e-95aa0ac67d64"
      },
      "source": [
        "#describe() 연산가능한 값이 있는 column 에 대해 다음과 같은 값들 제시\n",
        "display(df.describe())"
      ],
      "execution_count": null,
      "outputs": [
        {
          "output_type": "display_data",
          "data": {
            "text/html": [
              "<div>\n",
              "<style scoped>\n",
              "    .dataframe tbody tr th:only-of-type {\n",
              "        vertical-align: middle;\n",
              "    }\n",
              "\n",
              "    .dataframe tbody tr th {\n",
              "        vertical-align: top;\n",
              "    }\n",
              "\n",
              "    .dataframe thead th {\n",
              "        text-align: right;\n",
              "    }\n",
              "</style>\n",
              "<table border=\"1\" class=\"dataframe\">\n",
              "  <thead>\n",
              "    <tr style=\"text-align: right;\">\n",
              "      <th></th>\n",
              "      <th>현재가</th>\n",
              "      <th>배당금</th>\n",
              "      <th>배당수익률</th>\n",
              "      <th>배당성향</th>\n",
              "      <th>ROE</th>\n",
              "      <th>PER</th>\n",
              "      <th>PBR</th>\n",
              "      <th>신호</th>\n",
              "    </tr>\n",
              "  </thead>\n",
              "  <tbody>\n",
              "    <tr>\n",
              "      <th>count</th>\n",
              "      <td>100.000000</td>\n",
              "      <td>100.000000</td>\n",
              "      <td>100.000000</td>\n",
              "      <td>100.0000</td>\n",
              "      <td>97.000000</td>\n",
              "      <td>100.000000</td>\n",
              "      <td>100.000000</td>\n",
              "      <td>100.000000</td>\n",
              "    </tr>\n",
              "    <tr>\n",
              "      <th>mean</th>\n",
              "      <td>19224.800000</td>\n",
              "      <td>1621.050000</td>\n",
              "      <td>8.740000</td>\n",
              "      <td>71.8030</td>\n",
              "      <td>10.213402</td>\n",
              "      <td>8.128300</td>\n",
              "      <td>0.480700</td>\n",
              "      <td>0.400000</td>\n",
              "    </tr>\n",
              "    <tr>\n",
              "      <th>std</th>\n",
              "      <td>42288.984637</td>\n",
              "      <td>3529.755989</td>\n",
              "      <td>2.337226</td>\n",
              "      <td>125.1842</td>\n",
              "      <td>7.722621</td>\n",
              "      <td>12.980091</td>\n",
              "      <td>0.463215</td>\n",
              "      <td>0.492366</td>\n",
              "    </tr>\n",
              "    <tr>\n",
              "      <th>min</th>\n",
              "      <td>775.000000</td>\n",
              "      <td>75.000000</td>\n",
              "      <td>6.700000</td>\n",
              "      <td>2.5000</td>\n",
              "      <td>0.400000</td>\n",
              "      <td>0.340000</td>\n",
              "      <td>0.070000</td>\n",
              "      <td>0.000000</td>\n",
              "    </tr>\n",
              "    <tr>\n",
              "      <th>25%</th>\n",
              "      <td>2338.750000</td>\n",
              "      <td>200.000000</td>\n",
              "      <td>7.200000</td>\n",
              "      <td>24.5750</td>\n",
              "      <td>4.200000</td>\n",
              "      <td>3.057500</td>\n",
              "      <td>0.227500</td>\n",
              "      <td>0.000000</td>\n",
              "    </tr>\n",
              "    <tr>\n",
              "      <th>50%</th>\n",
              "      <td>4815.000000</td>\n",
              "      <td>400.000000</td>\n",
              "      <td>7.900000</td>\n",
              "      <td>39.6000</td>\n",
              "      <td>8.600000</td>\n",
              "      <td>4.660000</td>\n",
              "      <td>0.355000</td>\n",
              "      <td>0.000000</td>\n",
              "    </tr>\n",
              "    <tr>\n",
              "      <th>75%</th>\n",
              "      <td>11387.500000</td>\n",
              "      <td>950.000000</td>\n",
              "      <td>9.125000</td>\n",
              "      <td>76.1750</td>\n",
              "      <td>13.900000</td>\n",
              "      <td>9.055000</td>\n",
              "      <td>0.490000</td>\n",
              "      <td>1.000000</td>\n",
              "    </tr>\n",
              "    <tr>\n",
              "      <th>max</th>\n",
              "      <td>221000.000000</td>\n",
              "      <td>19000.000000</td>\n",
              "      <td>20.100000</td>\n",
              "      <td>989.1000</td>\n",
              "      <td>40.400000</td>\n",
              "      <td>98.770000</td>\n",
              "      <td>2.890000</td>\n",
              "      <td>1.000000</td>\n",
              "    </tr>\n",
              "  </tbody>\n",
              "</table>\n",
              "</div>"
            ],
            "text/plain": [
              "                 현재가           배당금  ...         PBR          신호\n",
              "count     100.000000    100.000000  ...  100.000000  100.000000\n",
              "mean    19224.800000   1621.050000  ...    0.480700    0.400000\n",
              "std     42288.984637   3529.755989  ...    0.463215    0.492366\n",
              "min       775.000000     75.000000  ...    0.070000    0.000000\n",
              "25%      2338.750000    200.000000  ...    0.227500    0.000000\n",
              "50%      4815.000000    400.000000  ...    0.355000    0.000000\n",
              "75%     11387.500000    950.000000  ...    0.490000    1.000000\n",
              "max    221000.000000  19000.000000  ...    2.890000    1.000000\n",
              "\n",
              "[8 rows x 8 columns]"
            ]
          },
          "metadata": {
            "tags": []
          }
        }
      ]
    },
    {
      "cell_type": "code",
      "metadata": {
        "id": "TEDecSo6VJ2M",
        "colab_type": "code",
        "colab": {
          "base_uri": "https://localhost:8080/",
          "height": 88
        },
        "outputId": "3b4f7d78-e878-431d-c519-6273531dfff8"
      },
      "source": [
        "#개별 column에 대해서는 다음과 같이 메소드 활용\n",
        "print(df['현재가'].mean())\n",
        "print(df['현재가'].std())\n",
        "print(df['현재가'].min())\n",
        "print(df['현재가'].max())"
      ],
      "execution_count": null,
      "outputs": [
        {
          "output_type": "stream",
          "text": [
            "19224.8\n",
            "42288.98463733272\n",
            "775.0\n",
            "221000.0\n"
          ],
          "name": "stdout"
        }
      ]
    },
    {
      "cell_type": "code",
      "metadata": {
        "id": "XCD8Jmz0npFQ",
        "colab_type": "code",
        "colab": {
          "base_uri": "https://localhost:8080/",
          "height": 421
        },
        "outputId": "67d536a0-6592-414f-8fa1-d2da215cd33c"
      },
      "source": [
        "#정렬(오름차순과 내림차순)\n",
        "df.sort_values(by='배당수익률', ascending = True)"
      ],
      "execution_count": null,
      "outputs": [
        {
          "output_type": "execute_result",
          "data": {
            "text/html": [
              "<div>\n",
              "<style scoped>\n",
              "    .dataframe tbody tr th:only-of-type {\n",
              "        vertical-align: middle;\n",
              "    }\n",
              "\n",
              "    .dataframe tbody tr th {\n",
              "        vertical-align: top;\n",
              "    }\n",
              "\n",
              "    .dataframe thead th {\n",
              "        text-align: right;\n",
              "    }\n",
              "</style>\n",
              "<table border=\"1\" class=\"dataframe\">\n",
              "  <thead>\n",
              "    <tr style=\"text-align: right;\">\n",
              "      <th></th>\n",
              "      <th>종목명</th>\n",
              "      <th>현재가</th>\n",
              "      <th>배당금</th>\n",
              "      <th>배당수익률</th>\n",
              "      <th>배당성향</th>\n",
              "      <th>ROE</th>\n",
              "      <th>PER</th>\n",
              "      <th>PBR</th>\n",
              "      <th>신호</th>\n",
              "    </tr>\n",
              "    <tr>\n",
              "      <th>종목코드</th>\n",
              "      <th></th>\n",
              "      <th></th>\n",
              "      <th></th>\n",
              "      <th></th>\n",
              "      <th></th>\n",
              "      <th></th>\n",
              "      <th></th>\n",
              "      <th></th>\n",
              "      <th></th>\n",
              "    </tr>\n",
              "  </thead>\n",
              "  <tbody>\n",
              "    <tr>\n",
              "      <th>037330</th>\n",
              "      <td>인지디스플레</td>\n",
              "      <td>1120.0</td>\n",
              "      <td>75.0</td>\n",
              "      <td>6.7</td>\n",
              "      <td>28.2</td>\n",
              "      <td>6.6</td>\n",
              "      <td>4.21</td>\n",
              "      <td>0.27</td>\n",
              "      <td>0.0</td>\n",
              "    </tr>\n",
              "    <tr>\n",
              "      <th>005810</th>\n",
              "      <td>풍산홀딩스</td>\n",
              "      <td>20900.0</td>\n",
              "      <td>1400.0</td>\n",
              "      <td>6.7</td>\n",
              "      <td>45.7</td>\n",
              "      <td>3.4</td>\n",
              "      <td>6.82</td>\n",
              "      <td>0.22</td>\n",
              "      <td>0.0</td>\n",
              "    </tr>\n",
              "    <tr>\n",
              "      <th>100840</th>\n",
              "      <td>S&amp;TC</td>\n",
              "      <td>11800.0</td>\n",
              "      <td>800.0</td>\n",
              "      <td>6.8</td>\n",
              "      <td>38.9</td>\n",
              "      <td>6.5</td>\n",
              "      <td>5.73</td>\n",
              "      <td>0.35</td>\n",
              "      <td>0.0</td>\n",
              "    </tr>\n",
              "    <tr>\n",
              "      <th>094970</th>\n",
              "      <td>제이엠티</td>\n",
              "      <td>1460.0</td>\n",
              "      <td>100.0</td>\n",
              "      <td>6.8</td>\n",
              "      <td>15.6</td>\n",
              "      <td>21.7</td>\n",
              "      <td>2.28</td>\n",
              "      <td>0.44</td>\n",
              "      <td>1.0</td>\n",
              "    </tr>\n",
              "    <tr>\n",
              "      <th>225330</th>\n",
              "      <td>씨엠에스에듀</td>\n",
              "      <td>3800.0</td>\n",
              "      <td>260.0</td>\n",
              "      <td>6.8</td>\n",
              "      <td>93.5</td>\n",
              "      <td>12.3</td>\n",
              "      <td>13.67</td>\n",
              "      <td>1.63</td>\n",
              "      <td>1.0</td>\n",
              "    </tr>\n",
              "    <tr>\n",
              "      <th>...</th>\n",
              "      <td>...</td>\n",
              "      <td>...</td>\n",
              "      <td>...</td>\n",
              "      <td>...</td>\n",
              "      <td>...</td>\n",
              "      <td>...</td>\n",
              "      <td>...</td>\n",
              "      <td>...</td>\n",
              "      <td>...</td>\n",
              "    </tr>\n",
              "    <tr>\n",
              "      <th>078020</th>\n",
              "      <td>이베스트투자증권</td>\n",
              "      <td>3400.0</td>\n",
              "      <td>485.0</td>\n",
              "      <td>14.3</td>\n",
              "      <td>57.7</td>\n",
              "      <td>8.6</td>\n",
              "      <td>4.04</td>\n",
              "      <td>0.31</td>\n",
              "      <td>0.0</td>\n",
              "    </tr>\n",
              "    <tr>\n",
              "      <th>155900</th>\n",
              "      <td>바다로19호</td>\n",
              "      <td>2435.0</td>\n",
              "      <td>354.0</td>\n",
              "      <td>14.5</td>\n",
              "      <td>72.7</td>\n",
              "      <td>16.3</td>\n",
              "      <td>5.00</td>\n",
              "      <td>0.81</td>\n",
              "      <td>1.0</td>\n",
              "    </tr>\n",
              "    <tr>\n",
              "      <th>034950</th>\n",
              "      <td>한국기업평가</td>\n",
              "      <td>57500.0</td>\n",
              "      <td>8618.0</td>\n",
              "      <td>15.0</td>\n",
              "      <td>192.2</td>\n",
              "      <td>21.0</td>\n",
              "      <td>12.83</td>\n",
              "      <td>2.39</td>\n",
              "      <td>1.0</td>\n",
              "    </tr>\n",
              "    <tr>\n",
              "      <th>041520</th>\n",
              "      <td>이라이콤</td>\n",
              "      <td>2530.0</td>\n",
              "      <td>400.0</td>\n",
              "      <td>15.8</td>\n",
              "      <td>59.3</td>\n",
              "      <td>4.0</td>\n",
              "      <td>3.75</td>\n",
              "      <td>0.15</td>\n",
              "      <td>0.0</td>\n",
              "    </tr>\n",
              "    <tr>\n",
              "      <th>065690</th>\n",
              "      <td>파커스</td>\n",
              "      <td>1490.0</td>\n",
              "      <td>300.0</td>\n",
              "      <td>20.1</td>\n",
              "      <td>92.3</td>\n",
              "      <td>5.0</td>\n",
              "      <td>4.58</td>\n",
              "      <td>0.21</td>\n",
              "      <td>0.0</td>\n",
              "    </tr>\n",
              "  </tbody>\n",
              "</table>\n",
              "<p>100 rows × 9 columns</p>\n",
              "</div>"
            ],
            "text/plain": [
              "             종목명      현재가     배당금  배당수익률   배당성향   ROE    PER   PBR   신호\n",
              "종목코드                                                                   \n",
              "037330    인지디스플레   1120.0    75.0    6.7   28.2   6.6   4.21  0.27  0.0\n",
              "005810     풍산홀딩스  20900.0  1400.0    6.7   45.7   3.4   6.82  0.22  0.0\n",
              "100840      S&TC  11800.0   800.0    6.8   38.9   6.5   5.73  0.35  0.0\n",
              "094970      제이엠티   1460.0   100.0    6.8   15.6  21.7   2.28  0.44  1.0\n",
              "225330    씨엠에스에듀   3800.0   260.0    6.8   93.5  12.3  13.67  1.63  1.0\n",
              "...          ...      ...     ...    ...    ...   ...    ...   ...  ...\n",
              "078020  이베스트투자증권   3400.0   485.0   14.3   57.7   8.6   4.04  0.31  0.0\n",
              "155900    바다로19호   2435.0   354.0   14.5   72.7  16.3   5.00  0.81  1.0\n",
              "034950    한국기업평가  57500.0  8618.0   15.0  192.2  21.0  12.83  2.39  1.0\n",
              "041520      이라이콤   2530.0   400.0   15.8   59.3   4.0   3.75  0.15  0.0\n",
              "065690       파커스   1490.0   300.0   20.1   92.3   5.0   4.58  0.21  0.0\n",
              "\n",
              "[100 rows x 9 columns]"
            ]
          },
          "metadata": {
            "tags": []
          },
          "execution_count": 60
        }
      ]
    },
    {
      "cell_type": "code",
      "metadata": {
        "id": "eg26ZPMqbifE",
        "colab_type": "code",
        "colab": {
          "base_uri": "https://localhost:8080/",
          "height": 421
        },
        "outputId": "c3d70215-9211-4754-ace1-41e1f19c4b1d"
      },
      "source": [
        "df.sort_values(by='현재가', ascending = False)"
      ],
      "execution_count": null,
      "outputs": [
        {
          "output_type": "execute_result",
          "data": {
            "text/html": [
              "<div>\n",
              "<style scoped>\n",
              "    .dataframe tbody tr th:only-of-type {\n",
              "        vertical-align: middle;\n",
              "    }\n",
              "\n",
              "    .dataframe tbody tr th {\n",
              "        vertical-align: top;\n",
              "    }\n",
              "\n",
              "    .dataframe thead th {\n",
              "        text-align: right;\n",
              "    }\n",
              "</style>\n",
              "<table border=\"1\" class=\"dataframe\">\n",
              "  <thead>\n",
              "    <tr style=\"text-align: right;\">\n",
              "      <th></th>\n",
              "      <th>종목명</th>\n",
              "      <th>현재가</th>\n",
              "      <th>배당금</th>\n",
              "      <th>배당수익률</th>\n",
              "      <th>배당성향</th>\n",
              "      <th>ROE</th>\n",
              "      <th>PER</th>\n",
              "      <th>PBR</th>\n",
              "      <th>신호</th>\n",
              "    </tr>\n",
              "    <tr>\n",
              "      <th>종목코드</th>\n",
              "      <th></th>\n",
              "      <th></th>\n",
              "      <th></th>\n",
              "      <th></th>\n",
              "      <th></th>\n",
              "      <th></th>\n",
              "      <th></th>\n",
              "      <th></th>\n",
              "      <th></th>\n",
              "    </tr>\n",
              "  </thead>\n",
              "  <tbody>\n",
              "    <tr>\n",
              "      <th>002960</th>\n",
              "      <td>한국쉘석유</td>\n",
              "      <td>221000.0</td>\n",
              "      <td>19000.0</td>\n",
              "      <td>8.6</td>\n",
              "      <td>99.0</td>\n",
              "      <td>25.1</td>\n",
              "      <td>11.51</td>\n",
              "      <td>2.89</td>\n",
              "      <td>1.0</td>\n",
              "    </tr>\n",
              "    <tr>\n",
              "      <th>002270</th>\n",
              "      <td>롯데푸드</td>\n",
              "      <td>219500.0</td>\n",
              "      <td>15000.0</td>\n",
              "      <td>6.8</td>\n",
              "      <td>39.9</td>\n",
              "      <td>6.3</td>\n",
              "      <td>5.84</td>\n",
              "      <td>0.30</td>\n",
              "      <td>0.0</td>\n",
              "    </tr>\n",
              "    <tr>\n",
              "      <th>267250</th>\n",
              "      <td>현대중공업지주</td>\n",
              "      <td>183000.0</td>\n",
              "      <td>18500.0</td>\n",
              "      <td>10.1</td>\n",
              "      <td>112.2</td>\n",
              "      <td>3.5</td>\n",
              "      <td>11.10</td>\n",
              "      <td>0.36</td>\n",
              "      <td>0.0</td>\n",
              "    </tr>\n",
              "    <tr>\n",
              "      <th>011170</th>\n",
              "      <td>롯데케미칼</td>\n",
              "      <td>147500.0</td>\n",
              "      <td>10500.0</td>\n",
              "      <td>7.1</td>\n",
              "      <td>22.8</td>\n",
              "      <td>13.0</td>\n",
              "      <td>3.20</td>\n",
              "      <td>0.40</td>\n",
              "      <td>1.0</td>\n",
              "    </tr>\n",
              "    <tr>\n",
              "      <th>005490</th>\n",
              "      <td>POSCO</td>\n",
              "      <td>144500.0</td>\n",
              "      <td>10000.0</td>\n",
              "      <td>6.9</td>\n",
              "      <td>47.5</td>\n",
              "      <td>4.2</td>\n",
              "      <td>6.87</td>\n",
              "      <td>0.27</td>\n",
              "      <td>0.0</td>\n",
              "    </tr>\n",
              "    <tr>\n",
              "      <th>...</th>\n",
              "      <td>...</td>\n",
              "      <td>...</td>\n",
              "      <td>...</td>\n",
              "      <td>...</td>\n",
              "      <td>...</td>\n",
              "      <td>...</td>\n",
              "      <td>...</td>\n",
              "      <td>...</td>\n",
              "      <td>...</td>\n",
              "    </tr>\n",
              "    <tr>\n",
              "      <th>039240</th>\n",
              "      <td>경남스틸</td>\n",
              "      <td>1100.0</td>\n",
              "      <td>90.0</td>\n",
              "      <td>8.2</td>\n",
              "      <td>48.5</td>\n",
              "      <td>NaN</td>\n",
              "      <td>5.93</td>\n",
              "      <td>0.32</td>\n",
              "      <td>0.0</td>\n",
              "    </tr>\n",
              "    <tr>\n",
              "      <th>000370</th>\n",
              "      <td>한화손해보험</td>\n",
              "      <td>1025.0</td>\n",
              "      <td>130.0</td>\n",
              "      <td>12.7</td>\n",
              "      <td>18.6</td>\n",
              "      <td>6.3</td>\n",
              "      <td>1.46</td>\n",
              "      <td>0.08</td>\n",
              "      <td>0.0</td>\n",
              "    </tr>\n",
              "    <tr>\n",
              "      <th>088350</th>\n",
              "      <td>한화생명</td>\n",
              "      <td>958.0</td>\n",
              "      <td>100.0</td>\n",
              "      <td>10.4</td>\n",
              "      <td>20.9</td>\n",
              "      <td>4.2</td>\n",
              "      <td>2.00</td>\n",
              "      <td>0.07</td>\n",
              "      <td>0.0</td>\n",
              "    </tr>\n",
              "    <tr>\n",
              "      <th>127710</th>\n",
              "      <td>아시아경제</td>\n",
              "      <td>947.0</td>\n",
              "      <td>80.0</td>\n",
              "      <td>8.4</td>\n",
              "      <td>7.0</td>\n",
              "      <td>31.1</td>\n",
              "      <td>0.83</td>\n",
              "      <td>0.22</td>\n",
              "      <td>1.0</td>\n",
              "    </tr>\n",
              "    <tr>\n",
              "      <th>002870</th>\n",
              "      <td>신풍제지</td>\n",
              "      <td>775.0</td>\n",
              "      <td>80.0</td>\n",
              "      <td>10.3</td>\n",
              "      <td>32.0</td>\n",
              "      <td>18.0</td>\n",
              "      <td>3.10</td>\n",
              "      <td>0.45</td>\n",
              "      <td>1.0</td>\n",
              "    </tr>\n",
              "  </tbody>\n",
              "</table>\n",
              "<p>100 rows × 9 columns</p>\n",
              "</div>"
            ],
            "text/plain": [
              "            종목명       현재가      배당금  배당수익률   배당성향   ROE    PER   PBR   신호\n",
              "종목코드                                                                    \n",
              "002960    한국쉘석유  221000.0  19000.0    8.6   99.0  25.1  11.51  2.89  1.0\n",
              "002270     롯데푸드  219500.0  15000.0    6.8   39.9   6.3   5.84  0.30  0.0\n",
              "267250  현대중공업지주  183000.0  18500.0   10.1  112.2   3.5  11.10  0.36  0.0\n",
              "011170    롯데케미칼  147500.0  10500.0    7.1   22.8  13.0   3.20  0.40  1.0\n",
              "005490    POSCO  144500.0  10000.0    6.9   47.5   4.2   6.87  0.27  0.0\n",
              "...         ...       ...      ...    ...    ...   ...    ...   ...  ...\n",
              "039240     경남스틸    1100.0     90.0    8.2   48.5   NaN   5.93  0.32  0.0\n",
              "000370   한화손해보험    1025.0    130.0   12.7   18.6   6.3   1.46  0.08  0.0\n",
              "088350     한화생명     958.0    100.0   10.4   20.9   4.2   2.00  0.07  0.0\n",
              "127710    아시아경제     947.0     80.0    8.4    7.0  31.1   0.83  0.22  1.0\n",
              "002870     신풍제지     775.0     80.0   10.3   32.0  18.0   3.10  0.45  1.0\n",
              "\n",
              "[100 rows x 9 columns]"
            ]
          },
          "metadata": {
            "tags": []
          },
          "execution_count": 61
        }
      ]
    },
    {
      "cell_type": "markdown",
      "metadata": {
        "id": "IaqELi9uXf1u",
        "colab_type": "text"
      },
      "source": [
        "그 외\n",
        "\n",
        "**공분산** : 두개의 확률변수에 대한 관계를 보여주는 값, x가 변할 때 y가 변하는 정도를 나타내며, 서로 아무런 관련이 없는 독립이면 0\n",
        "\n",
        "np.cov(dataframe['column명','column명']\n",
        "\n",
        "또는\n",
        "\n",
        "dataframe.['column명'].cov(dataframe.['column명'])\n",
        "\n",
        "\n",
        " **상관계수**: 하나의 변수가 변화할 때, 다른 변수가 변화하는 정도 , -1과 1 사이의 실수값을 가짐\n",
        "\n",
        "dataframe.corr()\n"
      ]
    },
    {
      "cell_type": "code",
      "metadata": {
        "id": "9anAa26baogU",
        "colab_type": "code",
        "colab": {}
      },
      "source": [
        "#퀴즈: 신호가 1인 종목들만 추출해봅시다\n",
        "\n",
        "sort_df=df.sort_values(by='신호', ascending = False)\n",
        "\n",
        "for i in range(len(sort_df['신호'])):\n",
        "    if(sort_df['신호'][i]==0):\n",
        "      x = i\n",
        "      break\n",
        " \n",
        "sig_df= sort_df.iloc[:x] \n",
        "sig_df"
      ],
      "execution_count": null,
      "outputs": []
    },
    {
      "cell_type": "markdown",
      "metadata": {
        "id": "8DS5q2AiZFr5",
        "colab_type": "text"
      },
      "source": [
        "**dataframe끼리 합치기**- concat, merge,join 등이 있음."
      ]
    },
    {
      "cell_type": "code",
      "metadata": {
        "id": "FdOqsVStZDoM",
        "colab_type": "code",
        "colab": {}
      },
      "source": [
        "a= sig_df.iloc[:5]"
      ],
      "execution_count": null,
      "outputs": []
    },
    {
      "cell_type": "code",
      "metadata": {
        "id": "JyNHnFaIaYPp",
        "colab_type": "code",
        "colab": {}
      },
      "source": [
        "b=sig_df.iloc[7:9]"
      ],
      "execution_count": null,
      "outputs": []
    },
    {
      "cell_type": "code",
      "metadata": {
        "id": "1BPfzqj8ew-W",
        "colab_type": "code",
        "colab": {
          "base_uri": "https://localhost:8080/",
          "height": 277
        },
        "outputId": "d59062d9-efaa-4e78-ef57-0bd159fd3729"
      },
      "source": [
        "c=pd.concat([a,b],axis=0)\n",
        "c"
      ],
      "execution_count": null,
      "outputs": [
        {
          "output_type": "execute_result",
          "data": {
            "text/html": [
              "<div>\n",
              "<style scoped>\n",
              "    .dataframe tbody tr th:only-of-type {\n",
              "        vertical-align: middle;\n",
              "    }\n",
              "\n",
              "    .dataframe tbody tr th {\n",
              "        vertical-align: top;\n",
              "    }\n",
              "\n",
              "    .dataframe thead th {\n",
              "        text-align: right;\n",
              "    }\n",
              "</style>\n",
              "<table border=\"1\" class=\"dataframe\">\n",
              "  <thead>\n",
              "    <tr style=\"text-align: right;\">\n",
              "      <th></th>\n",
              "      <th>종목명</th>\n",
              "      <th>현재가</th>\n",
              "      <th>배당금</th>\n",
              "      <th>배당수익률</th>\n",
              "      <th>배당성향</th>\n",
              "      <th>ROE</th>\n",
              "      <th>PER</th>\n",
              "      <th>PBR</th>\n",
              "      <th>신호</th>\n",
              "    </tr>\n",
              "    <tr>\n",
              "      <th>종목코드</th>\n",
              "      <th></th>\n",
              "      <th></th>\n",
              "      <th></th>\n",
              "      <th></th>\n",
              "      <th></th>\n",
              "      <th></th>\n",
              "      <th></th>\n",
              "      <th></th>\n",
              "      <th></th>\n",
              "    </tr>\n",
              "  </thead>\n",
              "  <tbody>\n",
              "    <tr>\n",
              "      <th>138040</th>\n",
              "      <td>메리츠금융지주</td>\n",
              "      <td>6540.0</td>\n",
              "      <td>470.0</td>\n",
              "      <td>7.2</td>\n",
              "      <td>21.1</td>\n",
              "      <td>13.9</td>\n",
              "      <td>2.93</td>\n",
              "      <td>0.37</td>\n",
              "      <td>1.0</td>\n",
              "    </tr>\n",
              "    <tr>\n",
              "      <th>000060</th>\n",
              "      <td>메리츠화재</td>\n",
              "      <td>9900.0</td>\n",
              "      <td>820.0</td>\n",
              "      <td>8.3</td>\n",
              "      <td>39.3</td>\n",
              "      <td>11.6</td>\n",
              "      <td>4.74</td>\n",
              "      <td>0.49</td>\n",
              "      <td>1.0</td>\n",
              "    </tr>\n",
              "    <tr>\n",
              "      <th>011560</th>\n",
              "      <td>세보엠이씨</td>\n",
              "      <td>3765.0</td>\n",
              "      <td>300.0</td>\n",
              "      <td>8.0</td>\n",
              "      <td>14.5</td>\n",
              "      <td>14.5</td>\n",
              "      <td>1.82</td>\n",
              "      <td>0.24</td>\n",
              "      <td>1.0</td>\n",
              "    </tr>\n",
              "    <tr>\n",
              "      <th>005830</th>\n",
              "      <td>DB손해보험</td>\n",
              "      <td>28600.0</td>\n",
              "      <td>2000.0</td>\n",
              "      <td>7.0</td>\n",
              "      <td>26.6</td>\n",
              "      <td>11.0</td>\n",
              "      <td>3.80</td>\n",
              "      <td>0.39</td>\n",
              "      <td>1.0</td>\n",
              "    </tr>\n",
              "    <tr>\n",
              "      <th>035000</th>\n",
              "      <td>지투알</td>\n",
              "      <td>3560.0</td>\n",
              "      <td>250.0</td>\n",
              "      <td>7.0</td>\n",
              "      <td>27.1</td>\n",
              "      <td>12.1</td>\n",
              "      <td>3.86</td>\n",
              "      <td>0.43</td>\n",
              "      <td>1.0</td>\n",
              "    </tr>\n",
              "    <tr>\n",
              "      <th>034830</th>\n",
              "      <td>한국토지신탁</td>\n",
              "      <td>1560.0</td>\n",
              "      <td>110.0</td>\n",
              "      <td>7.1</td>\n",
              "      <td>16.6</td>\n",
              "      <td>21.8</td>\n",
              "      <td>2.36</td>\n",
              "      <td>0.47</td>\n",
              "      <td>1.0</td>\n",
              "    </tr>\n",
              "    <tr>\n",
              "      <th>046110</th>\n",
              "      <td>한일네트웍스</td>\n",
              "      <td>2895.0</td>\n",
              "      <td>230.0</td>\n",
              "      <td>7.9</td>\n",
              "      <td>39.0</td>\n",
              "      <td>10.9</td>\n",
              "      <td>4.92</td>\n",
              "      <td>0.51</td>\n",
              "      <td>1.0</td>\n",
              "    </tr>\n",
              "  </tbody>\n",
              "</table>\n",
              "</div>"
            ],
            "text/plain": [
              "            종목명      현재가     배당금  배당수익률  배당성향   ROE   PER   PBR   신호\n",
              "종목코드                                                                \n",
              "138040  메리츠금융지주   6540.0   470.0    7.2  21.1  13.9  2.93  0.37  1.0\n",
              "000060    메리츠화재   9900.0   820.0    8.3  39.3  11.6  4.74  0.49  1.0\n",
              "011560    세보엠이씨   3765.0   300.0    8.0  14.5  14.5  1.82  0.24  1.0\n",
              "005830   DB손해보험  28600.0  2000.0    7.0  26.6  11.0  3.80  0.39  1.0\n",
              "035000      지투알   3560.0   250.0    7.0  27.1  12.1  3.86  0.43  1.0\n",
              "034830   한국토지신탁   1560.0   110.0    7.1  16.6  21.8  2.36  0.47  1.0\n",
              "046110   한일네트웍스   2895.0   230.0    7.9  39.0  10.9  4.92  0.51  1.0"
            ]
          },
          "metadata": {
            "tags": []
          },
          "execution_count": 107
        }
      ]
    },
    {
      "cell_type": "code",
      "metadata": {
        "id": "x8OjLuDOfBvS",
        "colab_type": "code",
        "colab": {}
      },
      "source": [
        "d= c[['종목명','배당수익률']]"
      ],
      "execution_count": null,
      "outputs": []
    },
    {
      "cell_type": "code",
      "metadata": {
        "id": "diO9BwujfqyP",
        "colab_type": "code",
        "colab": {}
      },
      "source": [
        "e=c['ROE']"
      ],
      "execution_count": null,
      "outputs": []
    },
    {
      "cell_type": "code",
      "metadata": {
        "id": "JTPoQDr5fxEj",
        "colab_type": "code",
        "colab": {
          "base_uri": "https://localhost:8080/",
          "height": 277
        },
        "outputId": "d11f3294-1685-41ab-c5d4-45356e52131d"
      },
      "source": [
        "f=c=pd.concat([d,e],axis=1)\n",
        "f"
      ],
      "execution_count": null,
      "outputs": [
        {
          "output_type": "execute_result",
          "data": {
            "text/html": [
              "<div>\n",
              "<style scoped>\n",
              "    .dataframe tbody tr th:only-of-type {\n",
              "        vertical-align: middle;\n",
              "    }\n",
              "\n",
              "    .dataframe tbody tr th {\n",
              "        vertical-align: top;\n",
              "    }\n",
              "\n",
              "    .dataframe thead th {\n",
              "        text-align: right;\n",
              "    }\n",
              "</style>\n",
              "<table border=\"1\" class=\"dataframe\">\n",
              "  <thead>\n",
              "    <tr style=\"text-align: right;\">\n",
              "      <th></th>\n",
              "      <th>종목명</th>\n",
              "      <th>배당수익률</th>\n",
              "      <th>ROE</th>\n",
              "    </tr>\n",
              "    <tr>\n",
              "      <th>종목코드</th>\n",
              "      <th></th>\n",
              "      <th></th>\n",
              "      <th></th>\n",
              "    </tr>\n",
              "  </thead>\n",
              "  <tbody>\n",
              "    <tr>\n",
              "      <th>138040</th>\n",
              "      <td>메리츠금융지주</td>\n",
              "      <td>7.2</td>\n",
              "      <td>13.9</td>\n",
              "    </tr>\n",
              "    <tr>\n",
              "      <th>000060</th>\n",
              "      <td>메리츠화재</td>\n",
              "      <td>8.3</td>\n",
              "      <td>11.6</td>\n",
              "    </tr>\n",
              "    <tr>\n",
              "      <th>011560</th>\n",
              "      <td>세보엠이씨</td>\n",
              "      <td>8.0</td>\n",
              "      <td>14.5</td>\n",
              "    </tr>\n",
              "    <tr>\n",
              "      <th>005830</th>\n",
              "      <td>DB손해보험</td>\n",
              "      <td>7.0</td>\n",
              "      <td>11.0</td>\n",
              "    </tr>\n",
              "    <tr>\n",
              "      <th>035000</th>\n",
              "      <td>지투알</td>\n",
              "      <td>7.0</td>\n",
              "      <td>12.1</td>\n",
              "    </tr>\n",
              "    <tr>\n",
              "      <th>034830</th>\n",
              "      <td>한국토지신탁</td>\n",
              "      <td>7.1</td>\n",
              "      <td>21.8</td>\n",
              "    </tr>\n",
              "    <tr>\n",
              "      <th>046110</th>\n",
              "      <td>한일네트웍스</td>\n",
              "      <td>7.9</td>\n",
              "      <td>10.9</td>\n",
              "    </tr>\n",
              "  </tbody>\n",
              "</table>\n",
              "</div>"
            ],
            "text/plain": [
              "            종목명  배당수익률   ROE\n",
              "종목코드                        \n",
              "138040  메리츠금융지주    7.2  13.9\n",
              "000060    메리츠화재    8.3  11.6\n",
              "011560    세보엠이씨    8.0  14.5\n",
              "005830   DB손해보험    7.0  11.0\n",
              "035000      지투알    7.0  12.1\n",
              "034830   한국토지신탁    7.1  21.8\n",
              "046110   한일네트웍스    7.9  10.9"
            ]
          },
          "metadata": {
            "tags": []
          },
          "execution_count": 110
        }
      ]
    },
    {
      "cell_type": "code",
      "metadata": {
        "id": "1tT34TzS7IK7",
        "colab_type": "code",
        "colab": {}
      },
      "source": [
        ""
      ],
      "execution_count": null,
      "outputs": []
    }
  ]
}