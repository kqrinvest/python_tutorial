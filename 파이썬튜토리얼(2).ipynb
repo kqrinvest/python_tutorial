{
 "cells": [
  {
   "cell_type": "markdown",
   "metadata": {
    "colab_type": "text",
    "id": "meFmmQFynwdH"
   },
   "source": [
    ">colab에서 작성되었습니다! "
   ]
  },
  {
   "cell_type": "markdown",
   "metadata": {
    "colab_type": "text",
    "id": "OvJpOBO6xZfQ"
   },
   "source": [
    "# **Numpy/Pandas**"
   ]
  },
  {
   "cell_type": "markdown",
   "metadata": {
    "colab_type": "text",
    "id": "xQOJimUC5NGm"
   },
   "source": [
    "**Numpy**\n",
    "\n",
    "pandas/matplotlib의 기반이 되는 모듈"
   ]
  },
  {
   "cell_type": "code",
   "execution_count": null,
   "metadata": {
    "colab": {
     "base_uri": "https://localhost:8080/",
     "height": 70
    },
    "colab_type": "code",
    "id": "AsrTcGqd_P6q",
    "outputId": "492e2336-efe7-4b2f-d1f8-62a5acd9f1f7"
   },
   "outputs": [],
   "source": [
    "import numpy as np \n",
    "arr = np.array([1,2,3,4,5])\n",
    "print(arr)\n",
    "print(arr.ndim) # 차원 정보\n",
    "print(arr.shape) #(행,열)을 튜플로 출력"
   ]
  },
  {
   "cell_type": "code",
   "execution_count": null,
   "metadata": {
    "colab": {
     "base_uri": "https://localhost:8080/",
     "height": 106
    },
    "colab_type": "code",
    "id": "gqN9Ger9FRwU",
    "outputId": "58074737-70b2-42c6-8a23-bf1f9f27a976"
   },
   "outputs": [],
   "source": [
    "#matrix\n",
    "arr1 = np.array([[1,2,3],[4,5,6]],dtype=np.float64) \n",
    "print(arr1)\n",
    "print(arr1[0,1])\n",
    "print(arr1.ndim)\n",
    "print(arr1.shape)"
   ]
  },
  {
   "cell_type": "markdown",
   "metadata": {
    "colab_type": "text",
    "id": "FPQL94Pm5fpZ"
   },
   "source": [
    "**pandas**\n",
    "\n",
    "데이터 분석 핵심 라이브러리\n",
    "\n",
    "series -> numpy의 1차원 vector와 유사\n",
    "\n",
    "dataframe-> numpy의 2차원 matrix와 유사"
   ]
  },
  {
   "cell_type": "code",
   "execution_count": null,
   "metadata": {
    "colab": {},
    "colab_type": "code",
    "id": "OkXSlZ_V8vTJ"
   },
   "outputs": [],
   "source": [
    "import numpy as np \n",
    "import pandas as pd "
   ]
  },
  {
   "cell_type": "code",
   "execution_count": null,
   "metadata": {
    "colab": {
     "base_uri": "https://localhost:8080/",
     "height": 160
    },
    "colab_type": "code",
    "id": "_Sfr2srkLTEc",
    "outputId": "d9bc4090-4590-4d00-8cf9-e8593c306290"
   },
   "outputs": [],
   "source": [
    "#1차원 시리즈\n",
    "s = pd.Series([1,2,3,4,5], dtype=np.float64) # 인덱스와 값이 같이 출력됨\n",
    "print(s)\n",
    "print(s.index) # index만 추출할 수 있음.\n",
    "print(s.values)"
   ]
  },
  {
   "cell_type": "code",
   "execution_count": null,
   "metadata": {
    "colab": {
     "base_uri": "https://localhost:8080/",
     "height": 214
    },
    "colab_type": "code",
    "id": "hDPZJB6eLUQA",
    "outputId": "99937379-2b2d-4790-b465-9021a77d187c"
   },
   "outputs": [],
   "source": [
    "s = pd.Series([1,2,3,4,5], index=['c','a','d','k','t'] ) #인덱스 정의 가능\n",
    "print(s)\n",
    "print(s[0]) #index를 따로 지정해주었을 경우에도 숫자 인덱스를 못쓰는 것 아님.\n",
    "print(s['c':'d']) #슬라이싱 가능"
   ]
  },
  {
   "cell_type": "code",
   "execution_count": null,
   "metadata": {
    "colab": {
     "base_uri": "https://localhost:8080/",
     "height": 151
    },
    "colab_type": "code",
    "id": "BnOjwLO2LVhv",
    "outputId": "a1bb79fd-7ab8-4b6a-fa41-f4126130c0a5"
   },
   "outputs": [],
   "source": [
    "#dataframe: 2차원 matrix 형태의 프레임\n",
    "\n",
    "data ={'5G 섹터':['케이엠더블유','RFHIC','오이솔루션'],\n",
    "       '종목 코드':['032500','218410','138080'],\n",
    "       '주가':[56100,34250,34900]}\n",
    "\n",
    "df = pd.DataFrame(data) # 데이터분석을 위해 프레임을 만듬\n",
    "display(df)\n",
    "print(df.shape)\n"
   ]
  },
  {
   "cell_type": "markdown",
   "metadata": {
    "colab_type": "text",
    "id": "Jb6MXwPaPXQu"
   },
   "source": [
    ">데이터를 가져와서 작업해 보아요!\n",
    "---\n",
    "\n",
    "[데이터를 가져오는 대표적인 방법]\n",
    "\n",
    " **-원하는 데이터가 담긴 엑셀 파일을 다운**\n",
    "\n",
    "-금융 데이터 수집 라이브러리 이용(가격 정보)\n",
    "\n",
    "-웹크롤링\n",
    "\n",
    "\n",
    "\n",
    "\n"
   ]
  },
  {
   "cell_type": "code",
   "execution_count": null,
   "metadata": {
    "colab": {},
    "colab_type": "code",
    "id": "h22y4q22ykIy"
   },
   "outputs": [],
   "source": [
    "df = pd.read_excel('배당주.xlsx', sheet_name='in', dtype='str')"
   ]
  },
  {
   "cell_type": "code",
   "execution_count": null,
   "metadata": {
    "colab": {
     "base_uri": "https://localhost:8080/",
     "height": 194
    },
    "colab_type": "code",
    "id": "pT3DHYBvLY0V",
    "outputId": "af124ad5-482b-47f5-c801-949617f719de"
   },
   "outputs": [],
   "source": [
    "display(df.head()) #head() 함수는 위에서부터 5개의 줄 출력"
   ]
  },
  {
   "cell_type": "markdown",
   "metadata": {
    "colab_type": "text",
    "id": "19ulb5biMZQW"
   },
   "source": [
    "**column 단위 데이터 추출**"
   ]
  },
  {
   "cell_type": "code",
   "execution_count": null,
   "metadata": {
    "colab": {
     "base_uri": "https://localhost:8080/",
     "height": 232
    },
    "colab_type": "code",
    "id": "9cgORDtDLa27",
    "outputId": "79888517-4837-4d92-9735-9f444f7f64d7"
   },
   "outputs": [],
   "source": [
    "print(df['종목명']) # series 형태로 출력"
   ]
  },
  {
   "cell_type": "code",
   "execution_count": null,
   "metadata": {
    "colab": {
     "base_uri": "https://localhost:8080/",
     "height": 392
    },
    "colab_type": "code",
    "id": "mvrLdTRwLcB0",
    "outputId": "4bf1342f-ec6e-4ebe-8338-568597fe07e5"
   },
   "outputs": [],
   "source": [
    "#column 단위 데이터 추출(n개)\n",
    "df[['종목명','현재가','배당수익률','배당금']]"
   ]
  },
  {
   "cell_type": "markdown",
   "metadata": {
    "colab_type": "text",
    "id": "Nhx1LJvbMeKh"
   },
   "source": [
    "**데이터 접근 및 수정**"
   ]
  },
  {
   "cell_type": "code",
   "execution_count": null,
   "metadata": {
    "colab": {
     "base_uri": "https://localhost:8080/",
     "height": 106
    },
    "colab_type": "code",
    "id": "vrX8pf8HKM5S",
    "outputId": "8e296605-b384-44c2-fec2-f2ae5fd339d0"
   },
   "outputs": [],
   "source": [
    "df['종목명'][0] = 'vkzjtm'"
   ]
  },
  {
   "cell_type": "code",
   "execution_count": null,
   "metadata": {
    "colab": {
     "base_uri": "https://localhost:8080/",
     "height": 34
    },
    "colab_type": "code",
    "id": "-6GrGl3zKuwc",
    "outputId": "2c9b47cc-a8bb-4655-b748-1e61bea1b50c"
   },
   "outputs": [],
   "source": [
    "df['종목명'][0]"
   ]
  },
  {
   "cell_type": "code",
   "execution_count": null,
   "metadata": {
    "colab": {
     "base_uri": "https://localhost:8080/",
     "height": 106
    },
    "colab_type": "code",
    "id": "UNwTj0S3KwS8",
    "outputId": "c1349404-dc9e-4a25-a497-64a48c769bb1"
   },
   "outputs": [],
   "source": [
    "df['종목명'][0]='파커스'"
   ]
  },
  {
   "cell_type": "code",
   "execution_count": null,
   "metadata": {},
   "outputs": [],
   "source": [
    "df"
   ]
  },
  {
   "cell_type": "code",
   "execution_count": null,
   "metadata": {},
   "outputs": [],
   "source": [
    "df['종목코드']"
   ]
  },
  {
   "cell_type": "code",
   "execution_count": null,
   "metadata": {
    "colab": {},
    "colab_type": "code",
    "id": "dUTsNt34gHAF"
   },
   "outputs": [],
   "source": [
    "#list 또는 numpy형식으로 데이터 수정 가능\n",
    "#문제 상황: 가격 정보를 숫자로 인식하게 하여 연산을 하고 싶은데 현재가에 담긴 데이터로는 바로 처리 어렵다\n",
    "def data_process(index):\n",
    "    ind=[]\n",
    "    ind = list(df[index])\n",
    "    for i in range(len(df[index])):\n",
    "        \n",
    "        if(ind[i][-1]=='%'):\n",
    "            ind[i] = float(ind[i].replace('%', ''));\n",
    "        elif(ind[i][0]==\"'\"):\n",
    "            ind[i] = ind[i].replace(\"'\", '')\n",
    "        else:\n",
    "            ind[i] = float(ind[i].replace(',', ''))\n",
    "     \n",
    "    df[index]=pd.DataFrame(ind)"
   ]
  },
  {
   "cell_type": "code",
   "execution_count": null,
   "metadata": {
    "scrolled": true
   },
   "outputs": [],
   "source": [
    "df"
   ]
  },
  {
   "cell_type": "code",
   "execution_count": null,
   "metadata": {
    "colab": {},
    "colab_type": "code",
    "id": "2ZHtvl6BSBId"
   },
   "outputs": [],
   "source": [
    "data_process('종목코드')"
   ]
  },
  {
   "cell_type": "code",
   "execution_count": null,
   "metadata": {
    "colab": {},
    "colab_type": "code",
    "id": "JXq3JXi-Lklv",
    "scrolled": true
   },
   "outputs": [],
   "source": [
    "data_process('현재가')"
   ]
  },
  {
   "cell_type": "code",
   "execution_count": null,
   "metadata": {
    "colab": {},
    "colab_type": "code",
    "id": "YI-QiqhXl6AK"
   },
   "outputs": [],
   "source": [
    "data_process('배당금')"
   ]
  },
  {
   "cell_type": "code",
   "execution_count": null,
   "metadata": {
    "colab": {},
    "colab_type": "code",
    "id": "3WRHiCORmkeF"
   },
   "outputs": [],
   "source": [
    "data_process('배당수익률')"
   ]
  },
  {
   "cell_type": "code",
   "execution_count": null,
   "metadata": {
    "colab": {},
    "colab_type": "code",
    "id": "lHzZPG_vnhJy",
    "scrolled": true
   },
   "outputs": [],
   "source": [
    "data_process('배당성향')"
   ]
  },
  {
   "cell_type": "code",
   "execution_count": null,
   "metadata": {
    "colab": {
     "base_uri": "https://localhost:8080/",
     "height": 190
    },
    "colab_type": "code",
    "id": "G4QQF2LrLdYw",
    "outputId": "bef937b5-8a66-46d5-93d4-6d7281f4d3b8"
   },
   "outputs": [],
   "source": [
    "df.head()"
   ]
  },
  {
   "cell_type": "markdown",
   "metadata": {
    "colab_type": "text",
    "id": "l5fqeiH5Mgnw"
   },
   "source": [
    "**column 추가/삭제 (+)연산**"
   ]
  },
  {
   "cell_type": "code",
   "execution_count": null,
   "metadata": {
    "colab": {
     "base_uri": "https://localhost:8080/",
     "height": 190
    },
    "colab_type": "code",
    "id": "nQVEdSG_MMn2",
    "outputId": "b36bfb38-b2d6-46eb-da7b-2ec43d451bf3"
   },
   "outputs": [],
   "source": [
    "df.head()"
   ]
  },
  {
   "cell_type": "code",
   "execution_count": null,
   "metadata": {
    "colab": {
     "base_uri": "https://localhost:8080/",
     "height": 190
    },
    "colab_type": "code",
    "id": "-LDPt2d4MoBc",
    "outputId": "2001e6b4-f9ae-4028-c209-5622d0c8ee48"
   },
   "outputs": [],
   "source": [
    "# column 삭제\n",
    "df['실수']= 0\n",
    "df.head()"
   ]
  },
  {
   "cell_type": "code",
   "execution_count": null,
   "metadata": {
    "colab": {
     "base_uri": "https://localhost:8080/",
     "height": 190
    },
    "colab_type": "code",
    "id": "WdRm8WnqM_-i",
    "outputId": "69ceca84-1ee6-4a83-9c6b-52358e290e2c"
   },
   "outputs": [],
   "source": [
    "# keyword del 사용\n",
    "del df['실수']\n",
    "df.head()"
   ]
  },
  {
   "cell_type": "code",
   "execution_count": null,
   "metadata": {
    "colab": {
     "base_uri": "https://localhost:8080/",
     "height": 190
    },
    "colab_type": "code",
    "id": "IK595v_QNJLs",
    "outputId": "a841ea7a-5732-4e8d-dc0d-d363273a599a"
   },
   "outputs": [],
   "source": [
    "df['실수']= 0\n",
    "new_df= df.drop('실수', axis=1, inplace= False) #True 설정 시 원본까지 변경\n",
    "new_df.head()"
   ]
  },
  {
   "cell_type": "code",
   "execution_count": null,
   "metadata": {
    "colab": {
     "base_uri": "https://localhost:8080/",
     "height": 190
    },
    "colab_type": "code",
    "id": "WGyIMDGsNukU",
    "outputId": "a9b8a49c-a6d2-4ad6-ade2-a51c4dd90995"
   },
   "outputs": [],
   "source": [
    "df.head()"
   ]
  },
  {
   "cell_type": "markdown",
   "metadata": {
    "colab_type": "text",
    "id": "Y0OJ6BvqMpLY"
   },
   "source": [
    "**row 기준 데이터 접근/추출**"
   ]
  },
  {
   "cell_type": "code",
   "execution_count": null,
   "metadata": {
    "colab": {
     "base_uri": "https://localhost:8080/",
     "height": 214
    },
    "colab_type": "code",
    "id": "53jAlykSaMcE",
    "outputId": "4c6b6c53-1a0a-45e2-9081-1b1761f6080d"
   },
   "outputs": [],
   "source": [
    "df.loc[1]"
   ]
  },
  {
   "cell_type": "code",
   "execution_count": null,
   "metadata": {
    "colab": {
     "base_uri": "https://localhost:8080/",
     "height": 219
    },
    "colab_type": "code",
    "id": "mVgJkemfbTTy",
    "outputId": "d49b0f1f-09db-4a9a-d16d-b0217f994c3f"
   },
   "outputs": [],
   "source": [
    "df.index=df['종목코드']\n",
    "del df['종목코드']\n",
    "df.head()"
   ]
  },
  {
   "cell_type": "code",
   "execution_count": null,
   "metadata": {},
   "outputs": [],
   "source": [
    "df"
   ]
  },
  {
   "cell_type": "code",
   "execution_count": null,
   "metadata": {
    "colab": {
     "base_uri": "https://localhost:8080/",
     "height": 196
    },
    "colab_type": "code",
    "id": "0ni08glyO1jV",
    "outputId": "afa3532a-5d57-435a-f42e-aff4b8b25ade"
   },
   "outputs": [],
   "source": [
    "df.loc[\"065690\"]\n"
   ]
  },
  {
   "cell_type": "code",
   "execution_count": null,
   "metadata": {
    "colab": {
     "base_uri": "https://localhost:8080/",
     "height": 196
    },
    "colab_type": "code",
    "id": "k1UHKFfAUS-p",
    "outputId": "cea35aa9-2981-4c96-8e7b-aae03e933800"
   },
   "outputs": [],
   "source": [
    "df.iloc[0]"
   ]
  },
  {
   "cell_type": "code",
   "execution_count": null,
   "metadata": {
    "colab": {
     "base_uri": "https://localhost:8080/",
     "height": 219
    },
    "colab_type": "code",
    "id": "o93OLgz8O97U",
    "outputId": "2ded6404-8cd4-46ef-cd4c-9c8ed2d282a1"
   },
   "outputs": [],
   "source": [
    "#슬라이싱 가능\n",
    "df.loc[\"065690\":\"078020\"]"
   ]
  },
  {
   "cell_type": "code",
   "execution_count": null,
   "metadata": {
    "colab": {
     "base_uri": "https://localhost:8080/",
     "height": 142
    },
    "colab_type": "code",
    "id": "3uwI5yU6PVcZ",
    "outputId": "bd73fcfd-cdb8-4d94-a62c-d6e74138044b"
   },
   "outputs": [],
   "source": [
    "df.loc[\"065690\":\"078020\",\"배당금\"]"
   ]
  },
  {
   "cell_type": "code",
   "execution_count": null,
   "metadata": {
    "colab": {
     "base_uri": "https://localhost:8080/",
     "height": 219
    },
    "colab_type": "code",
    "id": "-KVmaCVaPeHg",
    "outputId": "23e7a9ab-621d-4197-f191-b10040a0b916"
   },
   "outputs": [],
   "source": [
    "df.loc[\"065690\":\"078020\",[\"배당금\",\"배당수익률\"]] # 2개 이상의 column "
   ]
  },
  {
   "cell_type": "code",
   "execution_count": null,
   "metadata": {
    "colab": {
     "base_uri": "https://localhost:8080/",
     "height": 219
    },
    "colab_type": "code",
    "id": "4_xlF3nBPqbk",
    "outputId": "ebb51daa-de7f-49e5-9b07-57959ffc9c09"
   },
   "outputs": [],
   "source": [
    "df.loc[\"065690\":\"078020\",\"현재가\":\"배당수익률\"]"
   ]
  },
  {
   "cell_type": "markdown",
   "metadata": {
    "colab_type": "text",
    "id": "I9i_6bWRPym2"
   },
   "source": [
    "**row 기준 데이터 추가**"
   ]
  },
  {
   "cell_type": "code",
   "execution_count": null,
   "metadata": {
    "colab": {},
    "colab_type": "code",
    "id": "4enWaw75Pxqp"
   },
   "outputs": [],
   "source": [
    "#인덱스에 없는 값을 선언하면 추가해주고\n",
    "#인덱스에 있는 값에 대해 무언가를 정의하면 수정해줌\n",
    "\n",
    "df.loc[\"아이쿠\",:] = ['실수했네',898,2,4,4,4,32,5,3]\n",
    "df.loc[\"065690\",'종목명'] = '파커스는_아님'"
   ]
  },
  {
   "cell_type": "code",
   "execution_count": null,
   "metadata": {
    "colab": {
     "base_uri": "https://localhost:8080/",
     "height": 421
    },
    "colab_type": "code",
    "id": "XPf3S2ULRFLR",
    "outputId": "0545b52c-4a32-4226-a67a-976d64b73ffc"
   },
   "outputs": [],
   "source": [
    "df"
   ]
  },
  {
   "cell_type": "markdown",
   "metadata": {
    "colab_type": "text",
    "id": "WFtbVPrYS-MY"
   },
   "source": [
    "**row 기준 데이터 삭제**"
   ]
  },
  {
   "cell_type": "code",
   "execution_count": null,
   "metadata": {
    "colab": {},
    "colab_type": "code",
    "id": "4xUvrHB6S6aF"
   },
   "outputs": [],
   "source": [
    "test_df=df"
   ]
  },
  {
   "cell_type": "code",
   "execution_count": null,
   "metadata": {
    "colab": {
     "base_uri": "https://localhost:8080/",
     "height": 421
    },
    "colab_type": "code",
    "id": "3IPTkM0yTLXm",
    "outputId": "0f63aca5-ed9e-4170-c1c7-ddf53e07bf5a"
   },
   "outputs": [],
   "source": [
    "test_df.drop(\"아이쿠\",axis=0)"
   ]
  },
  {
   "cell_type": "code",
   "execution_count": null,
   "metadata": {
    "colab": {
     "base_uri": "https://localhost:8080/",
     "height": 421
    },
    "colab_type": "code",
    "id": "Vl4jRDNJTwZr",
    "outputId": "565f93d9-d4d3-478c-934f-e3448cb88603"
   },
   "outputs": [],
   "source": [
    "test_df.drop([\"아이쿠\",\"065690\"]) #여러 개 삭제"
   ]
  },
  {
   "cell_type": "code",
   "execution_count": null,
   "metadata": {
    "colab": {},
    "colab_type": "code",
    "id": "pihaegBTZzdc"
   },
   "outputs": [],
   "source": [
    "#원상태로 복구\n",
    "df.loc[\"065690\",'종목명'] = '파커스'\n"
   ]
  },
  {
   "cell_type": "markdown",
   "metadata": {
    "colab_type": "text",
    "id": "KnmjcfGhUhJa"
   },
   "source": [
    "**dataframe 결측값 제어**(자주 쓰임/뒤에서 다룰 예정)\n",
    "\n",
    "만약 dataframe에 nan값과 같은 결측값이 있다면? \n",
    "\n",
    "df.dropna() \n",
    "inplace =True 설정이 되어야 원본 변경\n",
    "how='all'을 인자로 넣어주면 모든 column 값이 nan일 때만 행 삭제"
   ]
  },
  {
   "cell_type": "markdown",
   "metadata": {
    "colab_type": "text",
    "id": "9x1HAgjdVPEO"
   },
   "source": [
    "**dataframe 분석**"
   ]
  },
  {
   "cell_type": "code",
   "execution_count": null,
   "metadata": {
    "colab": {
     "base_uri": "https://localhost:8080/",
     "height": 277
    },
    "colab_type": "code",
    "id": "OI-0_bY8VOLv",
    "outputId": "442b6cbb-4bea-46cd-a35e-95aa0ac67d64"
   },
   "outputs": [],
   "source": [
    "#describe() 연산가능한 값이 있는 column 에 대해 다음과 같은 값들 제시\n",
    "display(df.describe())"
   ]
  },
  {
   "cell_type": "code",
   "execution_count": null,
   "metadata": {
    "colab": {
     "base_uri": "https://localhost:8080/",
     "height": 88
    },
    "colab_type": "code",
    "id": "TEDecSo6VJ2M",
    "outputId": "3b4f7d78-e878-431d-c519-6273531dfff8"
   },
   "outputs": [],
   "source": [
    "#개별 column에 대해서는 다음과 같이 메소드 활용\n",
    "print(df['현재가'].mean())\n",
    "print(df['현재가'].std())\n",
    "print(df['현재가'].min())\n",
    "print(df['현재가'].max())"
   ]
  },
  {
   "cell_type": "code",
   "execution_count": null,
   "metadata": {
    "colab": {
     "base_uri": "https://localhost:8080/",
     "height": 421
    },
    "colab_type": "code",
    "id": "XCD8Jmz0npFQ",
    "outputId": "67d536a0-6592-414f-8fa1-d2da215cd33c"
   },
   "outputs": [],
   "source": [
    "#정렬(오름차순과 내림차순)\n",
    "df.sort_values(by='배당수익률', ascending = True)"
   ]
  },
  {
   "cell_type": "code",
   "execution_count": null,
   "metadata": {
    "colab": {
     "base_uri": "https://localhost:8080/",
     "height": 421
    },
    "colab_type": "code",
    "id": "eg26ZPMqbifE",
    "outputId": "c3d70215-9211-4754-ace1-41e1f19c4b1d"
   },
   "outputs": [],
   "source": [
    "df.sort_values(by='현재가', ascending = False)"
   ]
  }
 ],
 "metadata": {
  "accelerator": "GPU",
  "colab": {
   "collapsed_sections": [],
   "name": "파이썬튜토리얼(2).ipynb",
   "provenance": []
  },
  "kernelspec": {
   "display_name": "Python 3",
   "language": "python",
   "name": "python3"
  },
  "language_info": {
   "codemirror_mode": {
    "name": "ipython",
    "version": 3
   },
   "file_extension": ".py",
   "mimetype": "text/x-python",
   "name": "python",
   "nbconvert_exporter": "python",
   "pygments_lexer": "ipython3",
   "version": "3.6.9"
  }
 },
 "nbformat": 4,
 "nbformat_minor": 1
}
